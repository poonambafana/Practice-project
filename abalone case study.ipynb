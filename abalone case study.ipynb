{
 "cells": [
  {
   "cell_type": "code",
   "execution_count": 1,
   "id": "83f5f53d",
   "metadata": {},
   "outputs": [
    {
     "name": "stdout",
     "output_type": "stream",
     "text": [
      "Requirement already satisfied: altair in c:\\users\\prachi\\anaconda3\\lib\\site-packages (4.2.0)\n",
      "Requirement already satisfied: vega_datasets in c:\\users\\prachi\\anaconda3\\lib\\site-packages (0.9.0)\n",
      "Requirement already satisfied: jinja2 in c:\\users\\prachi\\anaconda3\\lib\\site-packages (from altair) (2.11.3)\n",
      "Requirement already satisfied: numpy in c:\\users\\prachi\\anaconda3\\lib\\site-packages (from altair) (1.20.1)\n",
      "Requirement already satisfied: toolz in c:\\users\\prachi\\anaconda3\\lib\\site-packages (from altair) (0.11.1)\n",
      "Requirement already satisfied: jsonschema>=3.0 in c:\\users\\prachi\\anaconda3\\lib\\site-packages (from altair) (3.2.0)\n",
      "Requirement already satisfied: pandas>=0.18 in c:\\users\\prachi\\anaconda3\\lib\\site-packages (from altair) (1.2.4)\n",
      "Requirement already satisfied: entrypoints in c:\\users\\prachi\\anaconda3\\lib\\site-packages (from altair) (0.3)\n",
      "Requirement already satisfied: setuptools in c:\\users\\prachi\\anaconda3\\lib\\site-packages (from jsonschema>=3.0->altair) (52.0.0.post20210125)\n",
      "Requirement already satisfied: pyrsistent>=0.14.0 in c:\\users\\prachi\\anaconda3\\lib\\site-packages (from jsonschema>=3.0->altair) (0.17.3)\n",
      "Requirement already satisfied: six>=1.11.0 in c:\\users\\prachi\\anaconda3\\lib\\site-packages (from jsonschema>=3.0->altair) (1.15.0)\n",
      "Requirement already satisfied: attrs>=17.4.0 in c:\\users\\prachi\\anaconda3\\lib\\site-packages (from jsonschema>=3.0->altair) (20.3.0)\n",
      "Requirement already satisfied: pytz>=2017.3 in c:\\users\\prachi\\anaconda3\\lib\\site-packages (from pandas>=0.18->altair) (2021.1)\n",
      "Requirement already satisfied: python-dateutil>=2.7.3 in c:\\users\\prachi\\anaconda3\\lib\\site-packages (from pandas>=0.18->altair) (2.8.1)\n",
      "Requirement already satisfied: MarkupSafe>=0.23 in c:\\users\\prachi\\anaconda3\\lib\\site-packages (from jinja2->altair) (1.1.1)\n"
     ]
    }
   ],
   "source": [
    "import urllib\n",
    "from IPython.display import display, HTML\n",
    "import pandas as pd\n",
    "import matplotlib.pyplot as plt\n",
    "import seaborn as sns\n",
    "import numpy as np\n",
    "import warnings\n",
    "!pip install altair vega_datasets\n",
    "import altair as alt\n",
    "\n",
    "warnings.filterwarnings('ignore')\n",
    "from sklearn import preprocessing\n",
    "from sklearn.neighbors import KNeighborsClassifier\n",
    "from sklearn import metrics\n",
    "from sklearn.metrics import mean_squared_error\n",
    "from sklearn import tree\n",
    "from sklearn.tree import DecisionTreeClassifier\n",
    "from sklearn.datasets import make_blobs\n",
    "from sklearn.ensemble import RandomForestClassifier, ExtraTreesClassifier\n",
    "from sklearn.linear_model import LinearRegression, LogisticRegression, LogisticRegressionCV\n",
    "from sklearn.model_selection import train_test_split, KFold, cross_val_score, RepeatedStratifiedKFold, GridSearchCV\n",
    "from sklearn import feature_selection as fs\n",
    "from sklearn.preprocessing import PowerTransformer\n",
    "from sklearn.naive_bayes import GaussianNB\n",
    "from sklearn.neural_network import MLPClassifier\n",
    "from scipy import stats\n"
   ]
  },
  {
   "cell_type": "code",
   "execution_count": 2,
   "id": "20872c3a",
   "metadata": {},
   "outputs": [],
   "source": [
    "#Load data\n",
    "url = \"https://archive.ics.uci.edu/ml/machine-learning-databases/abalone/abalone.data\"\n",
    "set1 = urllib.request.Request(url)\n",
    "abalone_p = urllib.request.urlopen(set1)\n"
   ]
  },
  {
   "cell_type": "code",
   "execution_count": 3,
   "id": "408f96d5",
   "metadata": {},
   "outputs": [],
   "source": [
    "#Load columns\n",
    "abalone = pd.read_csv(abalone_p, header = None, names =['Sex', 'Length', 'Diameter', 'Height',\n",
    "'Whole weight', 'Shucked weight', 'Viscera weight', 'Shell weight', 'Rings'])"
   ]
  },
  {
   "cell_type": "code",
   "execution_count": 4,
   "id": "b639d9d6",
   "metadata": {},
   "outputs": [
    {
     "data": {
      "text/plain": [
       "Sex                object\n",
       "Length            float64\n",
       "Diameter          float64\n",
       "Height            float64\n",
       "Whole weight      float64\n",
       "Shucked weight    float64\n",
       "Viscera weight    float64\n",
       "Shell weight      float64\n",
       "Rings               int64\n",
       "dtype: object"
      ]
     },
     "execution_count": 4,
     "metadata": {},
     "output_type": "execute_result"
    }
   ],
   "source": [
    "#Check data types\n",
    "abalone.dtypes"
   ]
  },
  {
   "cell_type": "code",
   "execution_count": 5,
   "id": "ab9d759a",
   "metadata": {},
   "outputs": [
    {
     "data": {
      "text/html": [
       "<div>\n",
       "<style scoped>\n",
       "    .dataframe tbody tr th:only-of-type {\n",
       "        vertical-align: middle;\n",
       "    }\n",
       "\n",
       "    .dataframe tbody tr th {\n",
       "        vertical-align: top;\n",
       "    }\n",
       "\n",
       "    .dataframe thead th {\n",
       "        text-align: right;\n",
       "    }\n",
       "</style>\n",
       "<table border=\"1\" class=\"dataframe\">\n",
       "  <thead>\n",
       "    <tr style=\"text-align: right;\">\n",
       "      <th></th>\n",
       "      <th>Sex</th>\n",
       "      <th>Length</th>\n",
       "      <th>Diameter</th>\n",
       "      <th>Height</th>\n",
       "      <th>Whole weight</th>\n",
       "      <th>Shucked weight</th>\n",
       "      <th>Viscera weight</th>\n",
       "      <th>Shell weight</th>\n",
       "      <th>Rings</th>\n",
       "    </tr>\n",
       "  </thead>\n",
       "  <tbody>\n",
       "    <tr>\n",
       "      <th>0</th>\n",
       "      <td>M</td>\n",
       "      <td>0.455</td>\n",
       "      <td>0.365</td>\n",
       "      <td>0.095</td>\n",
       "      <td>0.5140</td>\n",
       "      <td>0.2245</td>\n",
       "      <td>0.1010</td>\n",
       "      <td>0.15</td>\n",
       "      <td>15</td>\n",
       "    </tr>\n",
       "    <tr>\n",
       "      <th>1</th>\n",
       "      <td>M</td>\n",
       "      <td>0.350</td>\n",
       "      <td>0.265</td>\n",
       "      <td>0.090</td>\n",
       "      <td>0.2255</td>\n",
       "      <td>0.0995</td>\n",
       "      <td>0.0485</td>\n",
       "      <td>0.07</td>\n",
       "      <td>7</td>\n",
       "    </tr>\n",
       "    <tr>\n",
       "      <th>2</th>\n",
       "      <td>F</td>\n",
       "      <td>0.530</td>\n",
       "      <td>0.420</td>\n",
       "      <td>0.135</td>\n",
       "      <td>0.6770</td>\n",
       "      <td>0.2565</td>\n",
       "      <td>0.1415</td>\n",
       "      <td>0.21</td>\n",
       "      <td>9</td>\n",
       "    </tr>\n",
       "  </tbody>\n",
       "</table>\n",
       "</div>"
      ],
      "text/plain": [
       "  Sex  Length  Diameter  Height  Whole weight  Shucked weight  Viscera weight  \\\n",
       "0   M   0.455     0.365   0.095        0.5140          0.2245          0.1010   \n",
       "1   M   0.350     0.265   0.090        0.2255          0.0995          0.0485   \n",
       "2   F   0.530     0.420   0.135        0.6770          0.2565          0.1415   \n",
       "\n",
       "   Shell weight  Rings  \n",
       "0          0.15     15  \n",
       "1          0.07      7  \n",
       "2          0.21      9  "
      ]
     },
     "execution_count": 5,
     "metadata": {},
     "output_type": "execute_result"
    }
   ],
   "source": [
    "#A brief view\n",
    "abalone.head(3)"
   ]
  },
  {
   "cell_type": "code",
   "execution_count": 6,
   "id": "c7d48aa1",
   "metadata": {},
   "outputs": [],
   "source": [
    "#Make a copy of original dataset and use the new dataset called \"abl\" for following steps.\n",
    "abl = abalone.copy()"
   ]
  },
  {
   "cell_type": "code",
   "execution_count": 7,
   "id": "030af7db",
   "metadata": {},
   "outputs": [
    {
     "data": {
      "text/plain": [
       "Sex               0\n",
       "Length            0\n",
       "Diameter          0\n",
       "Height            0\n",
       "Whole weight      0\n",
       "Shucked weight    0\n",
       "Viscera weight    0\n",
       "Shell weight      0\n",
       "Rings             0\n",
       "dtype: int64"
      ]
     },
     "execution_count": 7,
     "metadata": {},
     "output_type": "execute_result"
    }
   ],
   "source": [
    "#It seems that no attributes contain NaN values, check it to make sure.\n",
    "abl.isnull().sum(axis=0)"
   ]
  },
  {
   "cell_type": "markdown",
   "id": "d1ce0112",
   "metadata": {},
   "source": [
    "There is no null values."
   ]
  },
  {
   "cell_type": "code",
   "execution_count": 8,
   "id": "5db9747d",
   "metadata": {},
   "outputs": [
    {
     "data": {
      "text/html": [
       "<b>Table 1: Summary of continuous features</b>"
      ],
      "text/plain": [
       "<IPython.core.display.HTML object>"
      ]
     },
     "metadata": {},
     "output_type": "display_data"
    },
    {
     "data": {
      "text/html": [
       "<div>\n",
       "<style scoped>\n",
       "    .dataframe tbody tr th:only-of-type {\n",
       "        vertical-align: middle;\n",
       "    }\n",
       "\n",
       "    .dataframe tbody tr th {\n",
       "        vertical-align: top;\n",
       "    }\n",
       "\n",
       "    .dataframe thead th {\n",
       "        text-align: right;\n",
       "    }\n",
       "</style>\n",
       "<table border=\"1\" class=\"dataframe\">\n",
       "  <thead>\n",
       "    <tr style=\"text-align: right;\">\n",
       "      <th></th>\n",
       "      <th>Length</th>\n",
       "      <th>Diameter</th>\n",
       "      <th>Height</th>\n",
       "      <th>Whole weight</th>\n",
       "      <th>Shucked weight</th>\n",
       "      <th>Viscera weight</th>\n",
       "      <th>Shell weight</th>\n",
       "      <th>Rings</th>\n",
       "    </tr>\n",
       "  </thead>\n",
       "  <tbody>\n",
       "    <tr>\n",
       "      <th>count</th>\n",
       "      <td>4177.000000</td>\n",
       "      <td>4177.000000</td>\n",
       "      <td>4177.000000</td>\n",
       "      <td>4177.000000</td>\n",
       "      <td>4177.000000</td>\n",
       "      <td>4177.000000</td>\n",
       "      <td>4177.000000</td>\n",
       "      <td>4177.000000</td>\n",
       "    </tr>\n",
       "    <tr>\n",
       "      <th>mean</th>\n",
       "      <td>0.523992</td>\n",
       "      <td>0.407881</td>\n",
       "      <td>0.139516</td>\n",
       "      <td>0.828742</td>\n",
       "      <td>0.359367</td>\n",
       "      <td>0.180594</td>\n",
       "      <td>0.238831</td>\n",
       "      <td>9.933684</td>\n",
       "    </tr>\n",
       "    <tr>\n",
       "      <th>std</th>\n",
       "      <td>0.120093</td>\n",
       "      <td>0.099240</td>\n",
       "      <td>0.041827</td>\n",
       "      <td>0.490389</td>\n",
       "      <td>0.221963</td>\n",
       "      <td>0.109614</td>\n",
       "      <td>0.139203</td>\n",
       "      <td>3.224169</td>\n",
       "    </tr>\n",
       "    <tr>\n",
       "      <th>min</th>\n",
       "      <td>0.075000</td>\n",
       "      <td>0.055000</td>\n",
       "      <td>0.000000</td>\n",
       "      <td>0.002000</td>\n",
       "      <td>0.001000</td>\n",
       "      <td>0.000500</td>\n",
       "      <td>0.001500</td>\n",
       "      <td>1.000000</td>\n",
       "    </tr>\n",
       "    <tr>\n",
       "      <th>25%</th>\n",
       "      <td>0.450000</td>\n",
       "      <td>0.350000</td>\n",
       "      <td>0.115000</td>\n",
       "      <td>0.441500</td>\n",
       "      <td>0.186000</td>\n",
       "      <td>0.093500</td>\n",
       "      <td>0.130000</td>\n",
       "      <td>8.000000</td>\n",
       "    </tr>\n",
       "    <tr>\n",
       "      <th>50%</th>\n",
       "      <td>0.545000</td>\n",
       "      <td>0.425000</td>\n",
       "      <td>0.140000</td>\n",
       "      <td>0.799500</td>\n",
       "      <td>0.336000</td>\n",
       "      <td>0.171000</td>\n",
       "      <td>0.234000</td>\n",
       "      <td>9.000000</td>\n",
       "    </tr>\n",
       "    <tr>\n",
       "      <th>75%</th>\n",
       "      <td>0.615000</td>\n",
       "      <td>0.480000</td>\n",
       "      <td>0.165000</td>\n",
       "      <td>1.153000</td>\n",
       "      <td>0.502000</td>\n",
       "      <td>0.253000</td>\n",
       "      <td>0.329000</td>\n",
       "      <td>11.000000</td>\n",
       "    </tr>\n",
       "    <tr>\n",
       "      <th>max</th>\n",
       "      <td>0.815000</td>\n",
       "      <td>0.650000</td>\n",
       "      <td>1.130000</td>\n",
       "      <td>2.825500</td>\n",
       "      <td>1.488000</td>\n",
       "      <td>0.760000</td>\n",
       "      <td>1.005000</td>\n",
       "      <td>29.000000</td>\n",
       "    </tr>\n",
       "  </tbody>\n",
       "</table>\n",
       "</div>"
      ],
      "text/plain": [
       "            Length     Diameter       Height  Whole weight  Shucked weight  \\\n",
       "count  4177.000000  4177.000000  4177.000000   4177.000000     4177.000000   \n",
       "mean      0.523992     0.407881     0.139516      0.828742        0.359367   \n",
       "std       0.120093     0.099240     0.041827      0.490389        0.221963   \n",
       "min       0.075000     0.055000     0.000000      0.002000        0.001000   \n",
       "25%       0.450000     0.350000     0.115000      0.441500        0.186000   \n",
       "50%       0.545000     0.425000     0.140000      0.799500        0.336000   \n",
       "75%       0.615000     0.480000     0.165000      1.153000        0.502000   \n",
       "max       0.815000     0.650000     1.130000      2.825500        1.488000   \n",
       "\n",
       "       Viscera weight  Shell weight        Rings  \n",
       "count     4177.000000   4177.000000  4177.000000  \n",
       "mean         0.180594      0.238831     9.933684  \n",
       "std          0.109614      0.139203     3.224169  \n",
       "min          0.000500      0.001500     1.000000  \n",
       "25%          0.093500      0.130000     8.000000  \n",
       "50%          0.171000      0.234000     9.000000  \n",
       "75%          0.253000      0.329000    11.000000  \n",
       "max          0.760000      1.005000    29.000000  "
      ]
     },
     "metadata": {},
     "output_type": "display_data"
    }
   ],
   "source": [
    "#Show descriptive statistic table\n",
    "display(HTML('<b>Table 1: Summary of continuous features</b>'))\n",
    "display(abl.describe(include = ['int64','float64']))"
   ]
  },
  {
   "cell_type": "code",
   "execution_count": 9,
   "id": "58619ec0",
   "metadata": {},
   "outputs": [],
   "source": [
    "abl_all = abl.drop(columns=\"Rings\")\n",
    "target = abl['Rings']"
   ]
  },
  {
   "cell_type": "code",
   "execution_count": 10,
   "id": "17c6a60a",
   "metadata": {},
   "outputs": [
    {
     "data": {
      "text/plain": [
       "Index(['Length', 'Diameter', 'Height', 'Whole weight', 'Shucked weight',\n",
       "       'Viscera weight', 'Shell weight', 'Sex_F', 'Sex_I', 'Sex_M'],\n",
       "      dtype='object')"
      ]
     },
     "execution_count": 10,
     "metadata": {},
     "output_type": "execute_result"
    }
   ],
   "source": [
    "abl_all = pd.get_dummies(abl_all)\n",
    "abl_all.columns"
   ]
  },
  {
   "cell_type": "code",
   "execution_count": 11,
   "id": "407e8a25",
   "metadata": {},
   "outputs": [
    {
     "data": {
      "text/plain": [
       "(4177, 10)"
      ]
     },
     "execution_count": 11,
     "metadata": {},
     "output_type": "execute_result"
    }
   ],
   "source": [
    "abl_all.shape"
   ]
  },
  {
   "cell_type": "code",
   "execution_count": 12,
   "id": "4e0fcbea",
   "metadata": {},
   "outputs": [
    {
     "data": {
      "text/plain": [
       "9     689\n",
       "10    634\n",
       "8     568\n",
       "11    487\n",
       "7     391\n",
       "12    267\n",
       "6     259\n",
       "13    203\n",
       "14    126\n",
       "5     115\n",
       "15    103\n",
       "16     67\n",
       "17     58\n",
       "4      57\n",
       "18     42\n",
       "19     32\n",
       "20     26\n",
       "3      15\n",
       "21     14\n",
       "23      9\n",
       "22      6\n",
       "27      2\n",
       "24      2\n",
       "26      1\n",
       "29      1\n",
       "25      1\n",
       "1       1\n",
       "2       1\n",
       "Name: Rings, dtype: int64"
      ]
     },
     "execution_count": 12,
     "metadata": {},
     "output_type": "execute_result"
    }
   ],
   "source": [
    "target.value_counts()"
   ]
  },
  {
   "cell_type": "code",
   "execution_count": 13,
   "id": "9cad713f",
   "metadata": {},
   "outputs": [
    {
     "data": {
      "text/plain": [
       "Length            0\n",
       "Diameter          0\n",
       "Height            0\n",
       "Whole weight      0\n",
       "Shucked weight    0\n",
       "Viscera weight    0\n",
       "Shell weight      0\n",
       "Sex_F             0\n",
       "Sex_I             0\n",
       "Sex_M             0\n",
       "dtype: int64"
      ]
     },
     "execution_count": 13,
     "metadata": {},
     "output_type": "execute_result"
    }
   ],
   "source": [
    "abl_all.isnull().sum(axis=0)"
   ]
  },
  {
   "cell_type": "markdown",
   "id": "f5cfa262",
   "metadata": {},
   "source": [
    "There are no null values present."
   ]
  },
  {
   "cell_type": "markdown",
   "id": "69646535",
   "metadata": {},
   "source": [
    "# EDA"
   ]
  },
  {
   "cell_type": "code",
   "execution_count": 14,
   "id": "24ccba70",
   "metadata": {},
   "outputs": [
    {
     "data": {
      "text/plain": [
       "<AxesSubplot:xlabel='Length', ylabel='Sex_F'>"
      ]
     },
     "execution_count": 14,
     "metadata": {},
     "output_type": "execute_result"
    },
    {
     "data": {
      "image/png": "[encoded data removed]",
      "text/plain": [
       "<Figure size 432x288 with 1 Axes>"
      ]
     },
     "metadata": {
      "needs_background": "light"
     },
     "output_type": "display_data"
    }
   ],
   "source": [
    "import seaborn as sns\n",
    "sns.scatterplot(x=\"Length\",y=\"Sex_F\",data=abl_all)"
   ]
  },
  {
   "cell_type": "markdown",
   "id": "12236071",
   "metadata": {},
   "source": [
    "Most of the females have length between 0.1 to 0.8. and males have 0.3 to 0.8."
   ]
  },
  {
   "cell_type": "code",
   "execution_count": 15,
   "id": "b4518062",
   "metadata": {},
   "outputs": [
    {
     "data": {
      "text/plain": [
       "<AxesSubplot:xlabel='Diameter', ylabel='Sex_F'>"
      ]
     },
     "execution_count": 15,
     "metadata": {},
     "output_type": "execute_result"
    },
    {
     "data": {
      "image/png": "[encoded data removed]",
      "text/plain": [
       "<Figure size 432x288 with 1 Axes>"
      ]
     },
     "metadata": {
      "needs_background": "light"
     },
     "output_type": "display_data"
    }
   ],
   "source": [
    "import seaborn as sns\n",
    "sns.scatterplot(x=\"Diameter\",y=\"Sex_F\",data=abl_all)"
   ]
  },
  {
   "cell_type": "markdown",
   "id": "fa448912",
   "metadata": {},
   "source": [
    "The diameter is between 0.1 to 0.8."
   ]
  },
  {
   "cell_type": "code",
   "execution_count": 16,
   "id": "bfbbf1d5",
   "metadata": {},
   "outputs": [
    {
     "data": {
      "text/plain": [
       "<AxesSubplot:xlabel='Height', ylabel='Sex_F'>"
      ]
     },
     "execution_count": 16,
     "metadata": {},
     "output_type": "execute_result"
    },
    {
     "data": {
      "image/png": "[encoded data removed]",
      "text/plain": [
       "<Figure size 432x288 with 1 Axes>"
      ]
     },
     "metadata": {
      "needs_background": "light"
     },
     "output_type": "display_data"
    }
   ],
   "source": [
    "import seaborn as sns\n",
    "sns.scatterplot(x=\"Height\",y=\"Sex_F\",data=abl_all)"
   ]
  },
  {
   "cell_type": "markdown",
   "id": "a51bf28d",
   "metadata": {},
   "source": [
    "The height is in between 0.0 to 0.4."
   ]
  },
  {
   "cell_type": "code",
   "execution_count": 17,
   "id": "51d1a115",
   "metadata": {},
   "outputs": [
    {
     "data": {
      "text/plain": [
       "<AxesSubplot:xlabel='Whole weight', ylabel='Sex_M'>"
      ]
     },
     "execution_count": 17,
     "metadata": {},
     "output_type": "execute_result"
    },
    {
     "data": {
      "image/png": "[encoded data removed]",
      "text/plain": [
       "<Figure size 432x288 with 1 Axes>"
      ]
     },
     "metadata": {
      "needs_background": "light"
     },
     "output_type": "display_data"
    }
   ],
   "source": [
    "import seaborn as sns\n",
    "sns.scatterplot(x=\"Whole weight\",y=\"Sex_M\",data=abl_all)"
   ]
  },
  {
   "cell_type": "markdown",
   "id": "eae595e1",
   "metadata": {},
   "source": [
    "The weight is in between 0.0 to 2.5."
   ]
  },
  {
   "cell_type": "code",
   "execution_count": 18,
   "id": "88c888f6",
   "metadata": {},
   "outputs": [
    {
     "data": {
      "text/plain": [
       "<AxesSubplot:xlabel='Shucked weight', ylabel='Sex_M'>"
      ]
     },
     "execution_count": 18,
     "metadata": {},
     "output_type": "execute_result"
    },
    {
     "data": {
      "image/png": "[encoded data removed]",
      "text/plain": [
       "<Figure size 432x288 with 1 Axes>"
      ]
     },
     "metadata": {
      "needs_background": "light"
     },
     "output_type": "display_data"
    }
   ],
   "source": [
    "import seaborn as sns\n",
    "sns.scatterplot(x=\"Shucked weight\",y=\"Sex_M\",data=abl_all)"
   ]
  },
  {
   "cell_type": "markdown",
   "id": "2db63b65",
   "metadata": {},
   "source": [
    "The Shucked weight is in between 0.0 to 1.2."
   ]
  },
  {
   "cell_type": "code",
   "execution_count": 19,
   "id": "f09c33fa",
   "metadata": {},
   "outputs": [
    {
     "data": {
      "text/plain": [
       "<AxesSubplot:xlabel='Viscera weight', ylabel='Sex_M'>"
      ]
     },
     "execution_count": 19,
     "metadata": {},
     "output_type": "execute_result"
    },
    {
     "data": {
      "image/png": "[encoded data removed]",
      "text/plain": [
       "<Figure size 432x288 with 1 Axes>"
      ]
     },
     "metadata": {
      "needs_background": "light"
     },
     "output_type": "display_data"
    }
   ],
   "source": [
    "import seaborn as sns\n",
    "sns.scatterplot(x=\"Viscera weight\",y=\"Sex_M\",data=abl_all)"
   ]
  },
  {
   "cell_type": "code",
   "execution_count": 20,
   "id": "7c168909",
   "metadata": {},
   "outputs": [
    {
     "data": {
      "text/plain": [
       "<AxesSubplot:xlabel='Shell weight', ylabel='Sex_F'>"
      ]
     },
     "execution_count": 20,
     "metadata": {},
     "output_type": "execute_result"
    },
    {
     "data": {
      "image/png": "[encoded data removed]",
      "text/plain": [
       "<Figure size 432x288 with 1 Axes>"
      ]
     },
     "metadata": {
      "needs_background": "light"
     },
     "output_type": "display_data"
    }
   ],
   "source": [
    "import seaborn as sns\n",
    "sns.scatterplot(x=\"Shell weight\",y=\"Sex_F\",data=abl_all)"
   ]
  },
  {
   "cell_type": "markdown",
   "id": "db2c38b2",
   "metadata": {},
   "source": [
    "# CORRELATION"
   ]
  },
  {
   "cell_type": "code",
   "execution_count": 21,
   "id": "55478ebd",
   "metadata": {},
   "outputs": [
    {
     "data": {
      "text/html": [
       "<div>\n",
       "<style scoped>\n",
       "    .dataframe tbody tr th:only-of-type {\n",
       "        vertical-align: middle;\n",
       "    }\n",
       "\n",
       "    .dataframe tbody tr th {\n",
       "        vertical-align: top;\n",
       "    }\n",
       "\n",
       "    .dataframe thead th {\n",
       "        text-align: right;\n",
       "    }\n",
       "</style>\n",
       "<table border=\"1\" class=\"dataframe\">\n",
       "  <thead>\n",
       "    <tr style=\"text-align: right;\">\n",
       "      <th></th>\n",
       "      <th>Length</th>\n",
       "      <th>Diameter</th>\n",
       "      <th>Height</th>\n",
       "      <th>Whole weight</th>\n",
       "      <th>Shucked weight</th>\n",
       "      <th>Viscera weight</th>\n",
       "      <th>Shell weight</th>\n",
       "      <th>Sex_F</th>\n",
       "      <th>Sex_I</th>\n",
       "      <th>Sex_M</th>\n",
       "    </tr>\n",
       "  </thead>\n",
       "  <tbody>\n",
       "    <tr>\n",
       "      <th>Length</th>\n",
       "      <td>1.000000</td>\n",
       "      <td>0.986812</td>\n",
       "      <td>0.827554</td>\n",
       "      <td>0.925261</td>\n",
       "      <td>0.897914</td>\n",
       "      <td>0.903018</td>\n",
       "      <td>0.897706</td>\n",
       "      <td>0.309666</td>\n",
       "      <td>-0.551465</td>\n",
       "      <td>0.236543</td>\n",
       "    </tr>\n",
       "    <tr>\n",
       "      <th>Diameter</th>\n",
       "      <td>0.986812</td>\n",
       "      <td>1.000000</td>\n",
       "      <td>0.833684</td>\n",
       "      <td>0.925452</td>\n",
       "      <td>0.893162</td>\n",
       "      <td>0.899724</td>\n",
       "      <td>0.905330</td>\n",
       "      <td>0.318626</td>\n",
       "      <td>-0.564315</td>\n",
       "      <td>0.240376</td>\n",
       "    </tr>\n",
       "    <tr>\n",
       "      <th>Height</th>\n",
       "      <td>0.827554</td>\n",
       "      <td>0.833684</td>\n",
       "      <td>1.000000</td>\n",
       "      <td>0.819221</td>\n",
       "      <td>0.774972</td>\n",
       "      <td>0.798319</td>\n",
       "      <td>0.817338</td>\n",
       "      <td>0.298421</td>\n",
       "      <td>-0.518552</td>\n",
       "      <td>0.215459</td>\n",
       "    </tr>\n",
       "    <tr>\n",
       "      <th>Whole weight</th>\n",
       "      <td>0.925261</td>\n",
       "      <td>0.925452</td>\n",
       "      <td>0.819221</td>\n",
       "      <td>1.000000</td>\n",
       "      <td>0.969405</td>\n",
       "      <td>0.966375</td>\n",
       "      <td>0.955355</td>\n",
       "      <td>0.299741</td>\n",
       "      <td>-0.557592</td>\n",
       "      <td>0.252038</td>\n",
       "    </tr>\n",
       "    <tr>\n",
       "      <th>Shucked weight</th>\n",
       "      <td>0.897914</td>\n",
       "      <td>0.893162</td>\n",
       "      <td>0.774972</td>\n",
       "      <td>0.969405</td>\n",
       "      <td>1.000000</td>\n",
       "      <td>0.931961</td>\n",
       "      <td>0.882617</td>\n",
       "      <td>0.263991</td>\n",
       "      <td>-0.521842</td>\n",
       "      <td>0.251793</td>\n",
       "    </tr>\n",
       "    <tr>\n",
       "      <th>Viscera weight</th>\n",
       "      <td>0.903018</td>\n",
       "      <td>0.899724</td>\n",
       "      <td>0.798319</td>\n",
       "      <td>0.966375</td>\n",
       "      <td>0.931961</td>\n",
       "      <td>1.000000</td>\n",
       "      <td>0.907656</td>\n",
       "      <td>0.308444</td>\n",
       "      <td>-0.556081</td>\n",
       "      <td>0.242194</td>\n",
       "    </tr>\n",
       "    <tr>\n",
       "      <th>Shell weight</th>\n",
       "      <td>0.897706</td>\n",
       "      <td>0.905330</td>\n",
       "      <td>0.817338</td>\n",
       "      <td>0.955355</td>\n",
       "      <td>0.882617</td>\n",
       "      <td>0.907656</td>\n",
       "      <td>1.000000</td>\n",
       "      <td>0.306319</td>\n",
       "      <td>-0.546953</td>\n",
       "      <td>0.235391</td>\n",
       "    </tr>\n",
       "    <tr>\n",
       "      <th>Sex_F</th>\n",
       "      <td>0.309666</td>\n",
       "      <td>0.318626</td>\n",
       "      <td>0.298421</td>\n",
       "      <td>0.299741</td>\n",
       "      <td>0.263991</td>\n",
       "      <td>0.308444</td>\n",
       "      <td>0.306319</td>\n",
       "      <td>1.000000</td>\n",
       "      <td>-0.464298</td>\n",
       "      <td>-0.512528</td>\n",
       "    </tr>\n",
       "    <tr>\n",
       "      <th>Sex_I</th>\n",
       "      <td>-0.551465</td>\n",
       "      <td>-0.564315</td>\n",
       "      <td>-0.518552</td>\n",
       "      <td>-0.557592</td>\n",
       "      <td>-0.521842</td>\n",
       "      <td>-0.556081</td>\n",
       "      <td>-0.546953</td>\n",
       "      <td>-0.464298</td>\n",
       "      <td>1.000000</td>\n",
       "      <td>-0.522541</td>\n",
       "    </tr>\n",
       "    <tr>\n",
       "      <th>Sex_M</th>\n",
       "      <td>0.236543</td>\n",
       "      <td>0.240376</td>\n",
       "      <td>0.215459</td>\n",
       "      <td>0.252038</td>\n",
       "      <td>0.251793</td>\n",
       "      <td>0.242194</td>\n",
       "      <td>0.235391</td>\n",
       "      <td>-0.512528</td>\n",
       "      <td>-0.522541</td>\n",
       "      <td>1.000000</td>\n",
       "    </tr>\n",
       "  </tbody>\n",
       "</table>\n",
       "</div>"
      ],
      "text/plain": [
       "                  Length  Diameter    Height  Whole weight  Shucked weight  \\\n",
       "Length          1.000000  0.986812  0.827554      0.925261        0.897914   \n",
       "Diameter        0.986812  1.000000  0.833684      0.925452        0.893162   \n",
       "Height          0.827554  0.833684  1.000000      0.819221        0.774972   \n",
       "Whole weight    0.925261  0.925452  0.819221      1.000000        0.969405   \n",
       "Shucked weight  0.897914  0.893162  0.774972      0.969405        1.000000   \n",
       "Viscera weight  0.903018  0.899724  0.798319      0.966375        0.931961   \n",
       "Shell weight    0.897706  0.905330  0.817338      0.955355        0.882617   \n",
       "Sex_F           0.309666  0.318626  0.298421      0.299741        0.263991   \n",
       "Sex_I          -0.551465 -0.564315 -0.518552     -0.557592       -0.521842   \n",
       "Sex_M           0.236543  0.240376  0.215459      0.252038        0.251793   \n",
       "\n",
       "                Viscera weight  Shell weight     Sex_F     Sex_I     Sex_M  \n",
       "Length                0.903018      0.897706  0.309666 -0.551465  0.236543  \n",
       "Diameter              0.899724      0.905330  0.318626 -0.564315  0.240376  \n",
       "Height                0.798319      0.817338  0.298421 -0.518552  0.215459  \n",
       "Whole weight          0.966375      0.955355  0.299741 -0.557592  0.252038  \n",
       "Shucked weight        0.931961      0.882617  0.263991 -0.521842  0.251793  \n",
       "Viscera weight        1.000000      0.907656  0.308444 -0.556081  0.242194  \n",
       "Shell weight          0.907656      1.000000  0.306319 -0.546953  0.235391  \n",
       "Sex_F                 0.308444      0.306319  1.000000 -0.464298 -0.512528  \n",
       "Sex_I                -0.556081     -0.546953 -0.464298  1.000000 -0.522541  \n",
       "Sex_M                 0.242194      0.235391 -0.512528 -0.522541  1.000000  "
      ]
     },
     "execution_count": 21,
     "metadata": {},
     "output_type": "execute_result"
    }
   ],
   "source": [
    "abl_all.corr()"
   ]
  },
  {
   "cell_type": "code",
   "execution_count": 22,
   "id": "0606949b",
   "metadata": {},
   "outputs": [
    {
     "data": {
      "text/plain": [
       "<AxesSubplot:>"
      ]
     },
     "execution_count": 22,
     "metadata": {},
     "output_type": "execute_result"
    },
    {
     "data": {
      "image/png": "[encoded data removed]",
      "text/plain": [
       "<Figure size 1368x720 with 2 Axes>"
      ]
     },
     "metadata": {},
     "output_type": "display_data"
    }
   ],
   "source": [
    "plt.figure(figsize=[19,10],facecolor='brown')\n",
    "sns.heatmap(abl_all.corr(),annot=True)"
   ]
  },
  {
   "cell_type": "markdown",
   "id": "d9152e7e",
   "metadata": {},
   "source": [
    "# Pre Processing of Model"
   ]
  },
  {
   "cell_type": "code",
   "execution_count": 23,
   "id": "24ca83c8",
   "metadata": {},
   "outputs": [],
   "source": [
    "abl_unscaled=abl_all.values\n",
    "abl_minmax = preprocessing.MinMaxScaler().fit_transform(abl_unscaled)"
   ]
  },
  {
   "cell_type": "code",
   "execution_count": 24,
   "id": "89b19930",
   "metadata": {},
   "outputs": [],
   "source": [
    "clf = KNeighborsClassifier(n_neighbors=1)"
   ]
  },
  {
   "cell_type": "code",
   "execution_count": 25,
   "id": "c3b0f574",
   "metadata": {},
   "outputs": [],
   "source": [
    "cv_method = RepeatedStratifiedKFold(n_splits=5, n_repeats=3, random_state=999)"
   ]
  },
  {
   "cell_type": "code",
   "execution_count": 26,
   "id": "456f2054",
   "metadata": {},
   "outputs": [],
   "source": [
    "scoring_metric = 'accuracy'\n",
    "cv_results_full = cross_val_score(estimator=clf,\n",
    " X=abl_minmax,\n",
    " y=target,\n",
    " cv=cv_method,\n",
    " scoring=scoring_metric)"
   ]
  },
  {
   "cell_type": "code",
   "execution_count": 27,
   "id": "1ebb5219",
   "metadata": {},
   "outputs": [
    {
     "data": {
      "text/plain": [
       "array([0.19258373, 0.20813397, 0.2       , 0.21077844, 0.21916168,\n",
       "       0.19856459, 0.20454545, 0.21317365, 0.19041916, 0.2011976 ,\n",
       "       0.21172249, 0.20813397, 0.19161677, 0.18323353, 0.19401198])"
      ]
     },
     "execution_count": 27,
     "metadata": {},
     "output_type": "execute_result"
    }
   ],
   "source": [
    "cv_results_full"
   ]
  },
  {
   "cell_type": "code",
   "execution_count": 28,
   "id": "985f1817",
   "metadata": {},
   "outputs": [
    {
     "data": {
      "text/plain": [
       "0.2018"
      ]
     },
     "execution_count": 28,
     "metadata": {},
     "output_type": "execute_result"
    }
   ],
   "source": [
    "cv_results_full.mean().round(4)"
   ]
  },
  {
   "cell_type": "code",
   "execution_count": 29,
   "id": "829174d2",
   "metadata": {},
   "outputs": [],
   "source": [
    "num_features = 10"
   ]
  },
  {
   "cell_type": "code",
   "execution_count": 30,
   "id": "79f827f4",
   "metadata": {},
   "outputs": [
    {
     "data": {
      "text/plain": [
       "array([1, 0, 6, 2, 3, 5, 4, 8, 7, 9], dtype=int64)"
      ]
     },
     "execution_count": 30,
     "metadata": {},
     "output_type": "execute_result"
    }
   ],
   "source": [
    "fs_fit_fscore = fs.SelectKBest(fs.f_classif, k=num_features)\n",
    "fs_fit_fscore.fit_transform(abl_minmax, target)\n",
    "fs_indices_fscore = np.argsort(fs_fit_fscore.scores_)[::-1][0:num_features]\n",
    "fs_indices_fscore"
   ]
  },
  {
   "cell_type": "code",
   "execution_count": 31,
   "id": "1658a1d9",
   "metadata": {},
   "outputs": [
    {
     "data": {
      "text/plain": [
       "Length            float64\n",
       "Diameter          float64\n",
       "Height            float64\n",
       "Whole weight      float64\n",
       "Shucked weight    float64\n",
       "Viscera weight    float64\n",
       "Shell weight      float64\n",
       "Sex_F               uint8\n",
       "Sex_I               uint8\n",
       "Sex_M               uint8\n",
       "dtype: object"
      ]
     },
     "execution_count": 31,
     "metadata": {},
     "output_type": "execute_result"
    }
   ],
   "source": [
    "abl_all.dtypes"
   ]
  },
  {
   "cell_type": "code",
   "execution_count": 32,
   "id": "55b30831",
   "metadata": {},
   "outputs": [
    {
     "data": {
      "text/plain": [
       "array(['Diameter', 'Length', 'Shell weight', 'Height', 'Whole weight',\n",
       "       'Viscera weight', 'Shucked weight', 'Sex_I', 'Sex_F', 'Sex_M'],\n",
       "      dtype=object)"
      ]
     },
     "execution_count": 32,
     "metadata": {},
     "output_type": "execute_result"
    }
   ],
   "source": [
    "best_features_fscore = abl_all.columns[fs_indices_fscore].values\n",
    "best_features_fscore"
   ]
  },
  {
   "cell_type": "code",
   "execution_count": 33,
   "id": "b87e9257",
   "metadata": {},
   "outputs": [
    {
     "data": {
      "text/plain": [
       "array([196.43610528, 188.50942458, 147.23694566, 124.42771441,\n",
       "       113.71233973, 103.72143783,  80.79767682,  68.87047717,\n",
       "        15.78351983,  10.62934022])"
      ]
     },
     "execution_count": 33,
     "metadata": {},
     "output_type": "execute_result"
    }
   ],
   "source": [
    "feature_importances_fscore = fs_fit_fscore.scores_[fs_indices_fscore]\n",
    "feature_importances_fscore"
   ]
  },
  {
   "cell_type": "code",
   "execution_count": 34,
   "id": "0c364d70",
   "metadata": {},
   "outputs": [],
   "source": [
    "def plot_imp(best_features, scores, method_name, color):\n",
    "\n",
    " df = pd.DataFrame({'features': best_features,\n",
    " 'importances': scores})\n",
    "\n",
    " chart = alt.Chart(df,width=500,title=method_name + ' Feature Importances').mark_bar(opacity=0.75,color=color).encode(alt.X('features', title='Feature', sort=None, axis=alt.AxisConfig(labelAngle=45)),alt.Y('importances', title='Importance'))\n",
    "\n",
    " return chart"
   ]
  },
  {
   "cell_type": "code",
   "execution_count": 35,
   "id": "ab79ee13",
   "metadata": {},
   "outputs": [
    {
     "data": {
      "text/html": [
       "\n",
       "<div id=\"altair-viz-3fb1eaa773c94998a0ede99b410c52f8\"></div>\n",
       "<script type=\"text/javascript\">\n",
       "  var VEGA_DEBUG = (typeof VEGA_DEBUG == \"undefined\") ? {} : VEGA_DEBUG;\n",
       "  (function(spec, embedOpt){\n",
       "    let outputDiv = document.currentScript.previousElementSibling;\n",
       "    if (outputDiv.id !== \"altair-viz-3fb1eaa773c94998a0ede99b410c52f8\") {\n",
       "      outputDiv = document.getElementById(\"altair-viz-3fb1eaa773c94998a0ede99b410c52f8\");\n",
       "    }\n",
       "    const paths = {\n",
       "      \"vega\": \"https://cdn.jsdelivr.net/npm//vega@5?noext\",\n",
       "      \"vega-lib\": \"https://cdn.jsdelivr.net/npm//vega-lib?noext\",\n",
       "      \"vega-lite\": \"https://cdn.jsdelivr.net/npm//vega-lite@4.17.0?noext\",\n",
       "      \"vega-embed\": \"https://cdn.jsdelivr.net/npm//vega-embed@6?noext\",\n",
       "    };\n",
       "\n",
       "    function maybeLoadScript(lib, version) {\n",
       "      var key = `${lib.replace(\"-\", \"\")}_version`;\n",
       "      return (VEGA_DEBUG[key] == version) ?\n",
       "        Promise.resolve(paths[lib]) :\n",
       "        new Promise(function(resolve, reject) {\n",
       "          var s = document.createElement('script');\n",
       "          document.getElementsByTagName(\"head\")[0].appendChild(s);\n",
       "          s.async = true;\n",
       "          s.onload = () => {\n",
       "            VEGA_DEBUG[key] = version;\n",
       "            return resolve(paths[lib]);\n",
       "          };\n",
       "          s.onerror = () => reject(`Error loading script: ${paths[lib]}`);\n",
       "          s.src = paths[lib];\n",
       "        });\n",
       "    }\n",
       "\n",
       "    function showError(err) {\n",
       "      outputDiv.innerHTML = `<div class=\"error\" style=\"color:red;\">${err}</div>`;\n",
       "      throw err;\n",
       "    }\n",
       "\n",
       "    function displayChart(vegaEmbed) {\n",
       "      vegaEmbed(outputDiv, spec, embedOpt)\n",
       "        .catch(err => showError(`Javascript Error: ${err.message}<br>This usually means there's a typo in your chart specification. See the javascript console for the full traceback.`));\n",
       "    }\n",
       "\n",
       "    if(typeof define === \"function\" && define.amd) {\n",
       "      requirejs.config({paths});\n",
       "      require([\"vega-embed\"], displayChart, err => showError(`Error loading script: ${err.message}`));\n",
       "    } else {\n",
       "      maybeLoadScript(\"vega\", \"5\")\n",
       "        .then(() => maybeLoadScript(\"vega-lite\", \"4.17.0\"))\n",
       "        .then(() => maybeLoadScript(\"vega-embed\", \"6\"))\n",
       "        .catch(showError)\n",
       "        .then(() => displayChart(vegaEmbed));\n",
       "    }\n",
       "  })({\"config\": {\"view\": {\"continuousWidth\": 400, \"continuousHeight\": 300}}, \"data\": {\"name\": \"data-4435cb541caaa86b2e4940a86230d75b\"}, \"mark\": {\"type\": \"bar\", \"color\": \"blue\", \"opacity\": 0.75}, \"encoding\": {\"x\": {\"axis\": {\"labelAngle\": 45}, \"field\": \"features\", \"sort\": null, \"title\": \"Feature\", \"type\": \"nominal\"}, \"y\": {\"field\": \"importances\", \"title\": \"Importance\", \"type\": \"quantitative\"}}, \"title\": \"F-Score Feature Importances\", \"width\": 500, \"$schema\": \"https://vega.github.io/schema/vega-lite/v4.17.0.json\", \"datasets\": {\"data-4435cb541caaa86b2e4940a86230d75b\": [{\"features\": \"Diameter\", \"importances\": 196.43610528184706}, {\"features\": \"Length\", \"importances\": 188.50942457958263}, {\"features\": \"Shell weight\", \"importances\": 147.23694565832218}, {\"features\": \"Height\", \"importances\": 124.42771440609181}, {\"features\": \"Whole weight\", \"importances\": 113.71233973150558}, {\"features\": \"Viscera weight\", \"importances\": 103.7214378341033}, {\"features\": \"Shucked weight\", \"importances\": 80.79767682320175}, {\"features\": \"Sex_I\", \"importances\": 68.87047717189621}, {\"features\": \"Sex_F\", \"importances\": 15.783519829969476}, {\"features\": \"Sex_M\", \"importances\": 10.629340224063503}]}}, {\"mode\": \"vega-lite\"});\n",
       "</script>"
      ],
      "text/plain": [
       "alt.Chart(...)"
      ]
     },
     "execution_count": 35,
     "metadata": {},
     "output_type": "execute_result"
    }
   ],
   "source": [
    "plot_imp(best_features_fscore, feature_importances_fscore, 'F-Score', 'blue')"
   ]
  },
  {
   "cell_type": "code",
   "execution_count": 36,
   "id": "516ddcc8",
   "metadata": {},
   "outputs": [
    {
     "data": {
      "text/plain": [
       "0.2025"
      ]
     },
     "execution_count": 36,
     "metadata": {},
     "output_type": "execute_result"
    }
   ],
   "source": [
    "cv_results_fscore = cross_val_score(estimator=clf,\n",
    " X=abl_minmax[:, fs_indices_fscore[:8]],\n",
    " y=target,\n",
    " cv=cv_method,\n",
    " scoring=scoring_metric)\n",
    "cv_results_fscore.mean().round(4)"
   ]
  },
  {
   "cell_type": "code",
   "execution_count": 37,
   "id": "010d5c97",
   "metadata": {},
   "outputs": [
    {
     "data": {
      "text/plain": [
       "array(['Shell weight', 'Diameter', 'Height', 'Whole weight', 'Length',\n",
       "       'Viscera weight', 'Shucked weight', 'Sex_I', 'Sex_F', 'Sex_M'],\n",
       "      dtype=object)"
      ]
     },
     "execution_count": 37,
     "metadata": {},
     "output_type": "execute_result"
    }
   ],
   "source": [
    "fs_fit_mutual_info = fs.SelectKBest(fs.mutual_info_classif, k=num_features)\n",
    "fs_fit_mutual_info.fit_transform(abl_minmax, target)\n",
    "fs_indices_mutual_info = np.argsort(fs_fit_mutual_info.scores_)[::-1][0:num_features]\n",
    "best_features_mutual_info = abl_all.columns[fs_indices_mutual_info].values\n",
    "best_features_mutual_info"
   ]
  },
  {
   "cell_type": "code",
   "execution_count": 38,
   "id": "2ad8407c",
   "metadata": {},
   "outputs": [
    {
     "data": {
      "text/plain": [
       "array([0.45458082, 0.39492169, 0.39397135, 0.39188989, 0.38731894,\n",
       "       0.3770248 , 0.33430046, 0.14995685, 0.05636401, 0.03126118])"
      ]
     },
     "execution_count": 38,
     "metadata": {},
     "output_type": "execute_result"
    }
   ],
   "source": [
    "feature_importances_mutual_info = fs_fit_mutual_info.scores_[fs_indices_mutual_info]\n",
    "feature_importances_mutual_info"
   ]
  },
  {
   "cell_type": "code",
   "execution_count": 39,
   "id": "784a49c4",
   "metadata": {},
   "outputs": [
    {
     "data": {
      "text/html": [
       "\n",
       "<div id=\"altair-viz-721917ce323b4c0daad491a30223f181\"></div>\n",
       "<script type=\"text/javascript\">\n",
       "  var VEGA_DEBUG = (typeof VEGA_DEBUG == \"undefined\") ? {} : VEGA_DEBUG;\n",
       "  (function(spec, embedOpt){\n",
       "    let outputDiv = document.currentScript.previousElementSibling;\n",
       "    if (outputDiv.id !== \"altair-viz-721917ce323b4c0daad491a30223f181\") {\n",
       "      outputDiv = document.getElementById(\"altair-viz-721917ce323b4c0daad491a30223f181\");\n",
       "    }\n",
       "    const paths = {\n",
       "      \"vega\": \"https://cdn.jsdelivr.net/npm//vega@5?noext\",\n",
       "      \"vega-lib\": \"https://cdn.jsdelivr.net/npm//vega-lib?noext\",\n",
       "      \"vega-lite\": \"https://cdn.jsdelivr.net/npm//vega-lite@4.17.0?noext\",\n",
       "      \"vega-embed\": \"https://cdn.jsdelivr.net/npm//vega-embed@6?noext\",\n",
       "    };\n",
       "\n",
       "    function maybeLoadScript(lib, version) {\n",
       "      var key = `${lib.replace(\"-\", \"\")}_version`;\n",
       "      return (VEGA_DEBUG[key] == version) ?\n",
       "        Promise.resolve(paths[lib]) :\n",
       "        new Promise(function(resolve, reject) {\n",
       "          var s = document.createElement('script');\n",
       "          document.getElementsByTagName(\"head\")[0].appendChild(s);\n",
       "          s.async = true;\n",
       "          s.onload = () => {\n",
       "            VEGA_DEBUG[key] = version;\n",
       "            return resolve(paths[lib]);\n",
       "          };\n",
       "          s.onerror = () => reject(`Error loading script: ${paths[lib]}`);\n",
       "          s.src = paths[lib];\n",
       "        });\n",
       "    }\n",
       "\n",
       "    function showError(err) {\n",
       "      outputDiv.innerHTML = `<div class=\"error\" style=\"color:red;\">${err}</div>`;\n",
       "      throw err;\n",
       "    }\n",
       "\n",
       "    function displayChart(vegaEmbed) {\n",
       "      vegaEmbed(outputDiv, spec, embedOpt)\n",
       "        .catch(err => showError(`Javascript Error: ${err.message}<br>This usually means there's a typo in your chart specification. See the javascript console for the full traceback.`));\n",
       "    }\n",
       "\n",
       "    if(typeof define === \"function\" && define.amd) {\n",
       "      requirejs.config({paths});\n",
       "      require([\"vega-embed\"], displayChart, err => showError(`Error loading script: ${err.message}`));\n",
       "    } else {\n",
       "      maybeLoadScript(\"vega\", \"5\")\n",
       "        .then(() => maybeLoadScript(\"vega-lite\", \"4.17.0\"))\n",
       "        .then(() => maybeLoadScript(\"vega-embed\", \"6\"))\n",
       "        .catch(showError)\n",
       "        .then(() => displayChart(vegaEmbed));\n",
       "    }\n",
       "  })({\"config\": {\"view\": {\"continuousWidth\": 400, \"continuousHeight\": 300}}, \"data\": {\"name\": \"data-7a559ee6923c18a4ea0ac65f97d7e58e\"}, \"mark\": {\"type\": \"bar\", \"color\": \"pink\", \"opacity\": 0.75}, \"encoding\": {\"x\": {\"axis\": {\"labelAngle\": 45}, \"field\": \"features\", \"sort\": null, \"title\": \"Feature\", \"type\": \"nominal\"}, \"y\": {\"field\": \"importances\", \"title\": \"Importance\", \"type\": \"quantitative\"}}, \"title\": \"Mutual Information Feature Importances\", \"width\": 500, \"$schema\": \"https://vega.github.io/schema/vega-lite/v4.17.0.json\", \"datasets\": {\"data-7a559ee6923c18a4ea0ac65f97d7e58e\": [{\"features\": \"Shell weight\", \"importances\": 0.4545808225976873}, {\"features\": \"Diameter\", \"importances\": 0.3949216862381584}, {\"features\": \"Height\", \"importances\": 0.3939713518764556}, {\"features\": \"Whole weight\", \"importances\": 0.39188989113652406}, {\"features\": \"Length\", \"importances\": 0.3873189387687588}, {\"features\": \"Viscera weight\", \"importances\": 0.37702480431955765}, {\"features\": \"Shucked weight\", \"importances\": 0.3343004600617592}, {\"features\": \"Sex_I\", \"importances\": 0.14995684699853307}, {\"features\": \"Sex_F\", \"importances\": 0.056364009518216296}, {\"features\": \"Sex_M\", \"importances\": 0.0312611839236947}]}}, {\"mode\": \"vega-lite\"});\n",
       "</script>"
      ],
      "text/plain": [
       "alt.Chart(...)"
      ]
     },
     "execution_count": 39,
     "metadata": {},
     "output_type": "execute_result"
    }
   ],
   "source": [
    "plot_imp(best_features_mutual_info, feature_importances_mutual_info, 'Mutual Information', 'pink')"
   ]
  },
  {
   "cell_type": "code",
   "execution_count": 40,
   "id": "1efbb86d",
   "metadata": {},
   "outputs": [
    {
     "data": {
      "text/plain": [
       "0.2025"
      ]
     },
     "execution_count": 40,
     "metadata": {},
     "output_type": "execute_result"
    }
   ],
   "source": [
    "cv_results_mutual_info = cross_val_score(estimator=clf,\n",
    " X=abl_minmax[:, fs_indices_mutual_info[:8]],\n",
    " y=target,\n",
    " cv=cv_method,\n",
    " scoring=scoring_metric)\n",
    "cv_results_mutual_info.mean().round(4)"
   ]
  },
  {
   "cell_type": "code",
   "execution_count": 41,
   "id": "c21ea766",
   "metadata": {},
   "outputs": [],
   "source": [
    "model_rfi = RandomForestClassifier(n_estimators=100)\n",
    "model_rfi.fit(abl_minmax, target)\n",
    "fs_indices_rfi = np.argsort(model_rfi.feature_importances_)[::-1][0:num_features]"
   ]
  },
  {
   "cell_type": "code",
   "execution_count": 42,
   "id": "5f22140a",
   "metadata": {},
   "outputs": [
    {
     "data": {
      "text/plain": [
       "array(['Shell weight', 'Shucked weight', 'Whole weight', 'Viscera weight',\n",
       "       'Length', 'Diameter', 'Height', 'Sex_M', 'Sex_F', 'Sex_I'],\n",
       "      dtype=object)"
      ]
     },
     "execution_count": 42,
     "metadata": {},
     "output_type": "execute_result"
    }
   ],
   "source": [
    "best_features_rfi = abl_all.columns[fs_indices_rfi].values\n",
    "best_features_rfi"
   ]
  },
  {
   "cell_type": "code",
   "execution_count": 43,
   "id": "7eee98f5",
   "metadata": {},
   "outputs": [
    {
     "data": {
      "text/plain": [
       "array([0.16623212, 0.15230239, 0.14866318, 0.14780938, 0.11605792,\n",
       "       0.11463762, 0.10406834, 0.01839956, 0.01727605, 0.01455343])"
      ]
     },
     "execution_count": 43,
     "metadata": {},
     "output_type": "execute_result"
    }
   ],
   "source": [
    "feature_importances_rfi = model_rfi.feature_importances_[fs_indices_rfi]\n",
    "feature_importances_rfi"
   ]
  },
  {
   "cell_type": "code",
   "execution_count": 44,
   "id": "a352c3d7",
   "metadata": {},
   "outputs": [
    {
     "data": {
      "text/html": [
       "\n",
       "<div id=\"altair-viz-27cb3579f08641fe9f99cd77a14447c6\"></div>\n",
       "<script type=\"text/javascript\">\n",
       "  var VEGA_DEBUG = (typeof VEGA_DEBUG == \"undefined\") ? {} : VEGA_DEBUG;\n",
       "  (function(spec, embedOpt){\n",
       "    let outputDiv = document.currentScript.previousElementSibling;\n",
       "    if (outputDiv.id !== \"altair-viz-27cb3579f08641fe9f99cd77a14447c6\") {\n",
       "      outputDiv = document.getElementById(\"altair-viz-27cb3579f08641fe9f99cd77a14447c6\");\n",
       "    }\n",
       "    const paths = {\n",
       "      \"vega\": \"https://cdn.jsdelivr.net/npm//vega@5?noext\",\n",
       "      \"vega-lib\": \"https://cdn.jsdelivr.net/npm//vega-lib?noext\",\n",
       "      \"vega-lite\": \"https://cdn.jsdelivr.net/npm//vega-lite@4.17.0?noext\",\n",
       "      \"vega-embed\": \"https://cdn.jsdelivr.net/npm//vega-embed@6?noext\",\n",
       "    };\n",
       "\n",
       "    function maybeLoadScript(lib, version) {\n",
       "      var key = `${lib.replace(\"-\", \"\")}_version`;\n",
       "      return (VEGA_DEBUG[key] == version) ?\n",
       "        Promise.resolve(paths[lib]) :\n",
       "        new Promise(function(resolve, reject) {\n",
       "          var s = document.createElement('script');\n",
       "          document.getElementsByTagName(\"head\")[0].appendChild(s);\n",
       "          s.async = true;\n",
       "          s.onload = () => {\n",
       "            VEGA_DEBUG[key] = version;\n",
       "            return resolve(paths[lib]);\n",
       "          };\n",
       "          s.onerror = () => reject(`Error loading script: ${paths[lib]}`);\n",
       "          s.src = paths[lib];\n",
       "        });\n",
       "    }\n",
       "\n",
       "    function showError(err) {\n",
       "      outputDiv.innerHTML = `<div class=\"error\" style=\"color:red;\">${err}</div>`;\n",
       "      throw err;\n",
       "    }\n",
       "\n",
       "    function displayChart(vegaEmbed) {\n",
       "      vegaEmbed(outputDiv, spec, embedOpt)\n",
       "        .catch(err => showError(`Javascript Error: ${err.message}<br>This usually means there's a typo in your chart specification. See the javascript console for the full traceback.`));\n",
       "    }\n",
       "\n",
       "    if(typeof define === \"function\" && define.amd) {\n",
       "      requirejs.config({paths});\n",
       "      require([\"vega-embed\"], displayChart, err => showError(`Error loading script: ${err.message}`));\n",
       "    } else {\n",
       "      maybeLoadScript(\"vega\", \"5\")\n",
       "        .then(() => maybeLoadScript(\"vega-lite\", \"4.17.0\"))\n",
       "        .then(() => maybeLoadScript(\"vega-embed\", \"6\"))\n",
       "        .catch(showError)\n",
       "        .then(() => displayChart(vegaEmbed));\n",
       "    }\n",
       "  })({\"config\": {\"view\": {\"continuousWidth\": 400, \"continuousHeight\": 300}}, \"data\": {\"name\": \"data-8a1171c65efb46f94226e64281c76cbe\"}, \"mark\": {\"type\": \"bar\", \"color\": \"green\", \"opacity\": 0.75}, \"encoding\": {\"x\": {\"axis\": {\"labelAngle\": 45}, \"field\": \"features\", \"sort\": null, \"title\": \"Feature\", \"type\": \"nominal\"}, \"y\": {\"field\": \"importances\", \"title\": \"Importance\", \"type\": \"quantitative\"}}, \"title\": \"Random Forest Feature Importances\", \"width\": 500, \"$schema\": \"https://vega.github.io/schema/vega-lite/v4.17.0.json\", \"datasets\": {\"data-8a1171c65efb46f94226e64281c76cbe\": [{\"features\": \"Shell weight\", \"importances\": 0.16623212404563695}, {\"features\": \"Shucked weight\", \"importances\": 0.1523023886903241}, {\"features\": \"Whole weight\", \"importances\": 0.1486631752188266}, {\"features\": \"Viscera weight\", \"importances\": 0.1478093836617659}, {\"features\": \"Length\", \"importances\": 0.11605791844388884}, {\"features\": \"Diameter\", \"importances\": 0.11463762182378864}, {\"features\": \"Height\", \"importances\": 0.10406834461019375}, {\"features\": \"Sex_M\", \"importances\": 0.018399564650254996}, {\"features\": \"Sex_F\", \"importances\": 0.017276051306526624}, {\"features\": \"Sex_I\", \"importances\": 0.014553427548793598}]}}, {\"mode\": \"vega-lite\"});\n",
       "</script>"
      ],
      "text/plain": [
       "alt.Chart(...)"
      ]
     },
     "execution_count": 44,
     "metadata": {},
     "output_type": "execute_result"
    }
   ],
   "source": [
    "plot_imp(best_features_rfi, feature_importances_rfi, 'Random Forest', 'green')"
   ]
  },
  {
   "cell_type": "code",
   "execution_count": 45,
   "id": "865067a2",
   "metadata": {},
   "outputs": [
    {
     "data": {
      "text/plain": [
       "0.2116"
      ]
     },
     "execution_count": 45,
     "metadata": {},
     "output_type": "execute_result"
    }
   ],
   "source": [
    "cv_results_rfi = cross_val_score(estimator=clf,\n",
    " X=abl_minmax[:, fs_indices_rfi[:5]],\n",
    " y=target,\n",
    " cv=cv_method,\n",
    " scoring=scoring_metric)\n",
    "cv_results_rfi.mean().round(4)\n"
   ]
  },
  {
   "cell_type": "code",
   "execution_count": 46,
   "id": "716f3e59",
   "metadata": {},
   "outputs": [
    {
     "name": "stdout",
     "output_type": "stream",
     "text": [
      "Ttest_relResult(statistic=2.702836791350596, pvalue=0.017161043382258018)\n",
      "Ttest_relResult(statistic=2.702836791350596, pvalue=0.017161043382258018)\n",
      "Ttest_relResult(statistic=nan, pvalue=nan)\n"
     ]
    }
   ],
   "source": [
    "print(stats.ttest_rel(cv_results_rfi, cv_results_fscore))\n",
    "print(stats.ttest_rel(cv_results_rfi, cv_results_mutual_info))\n",
    "print(stats.ttest_rel(cv_results_mutual_info, cv_results_fscore)) # they are equal"
   ]
  },
  {
   "cell_type": "code",
   "execution_count": 47,
   "id": "bd8957de",
   "metadata": {},
   "outputs": [
    {
     "name": "stdout",
     "output_type": "stream",
     "text": [
      "Ttest_relResult(statistic=3.069620795234529, pvalue=0.008319423198012177)\n"
     ]
    }
   ],
   "source": [
    "print(stats.ttest_rel(cv_results_rfi, cv_results_full))"
   ]
  },
  {
   "cell_type": "code",
   "execution_count": 48,
   "id": "3407bfd9",
   "metadata": {},
   "outputs": [
    {
     "name": "stdout",
     "output_type": "stream",
     "text": [
      "Ttest_relResult(statistic=3.069620795234529, pvalue=0.008319423198012177)\n"
     ]
    }
   ],
   "source": [
    "print(stats.ttest_rel(cv_results_rfi, cv_results_full))"
   ]
  },
  {
   "cell_type": "code",
   "execution_count": 49,
   "id": "b3809cbb",
   "metadata": {},
   "outputs": [
    {
     "data": {
      "text/plain": [
       "Index(['Shell weight', 'Shucked weight', 'Whole weight', 'Viscera weight',\n",
       "       'Length'],\n",
       "      dtype='object')"
      ]
     },
     "execution_count": 49,
     "metadata": {},
     "output_type": "execute_result"
    }
   ],
   "source": [
    "abl_all.columns[fs_indices_rfi[:5]]\n"
   ]
  },
  {
   "cell_type": "code",
   "execution_count": 50,
   "id": "0670830d",
   "metadata": {},
   "outputs": [],
   "source": [
    "abl_minmax_df = pd.DataFrame(data = abl_minmax,columns = abl_all.columns)"
   ]
  },
  {
   "cell_type": "code",
   "execution_count": 51,
   "id": "f39dca17",
   "metadata": {},
   "outputs": [],
   "source": [
    "abl_rfi = abl_minmax_df[abl_all.columns[fs_indices_rfi[:5]].values]"
   ]
  },
  {
   "cell_type": "code",
   "execution_count": 52,
   "id": "676b852e",
   "metadata": {},
   "outputs": [],
   "source": [
    "abl_rfi = abl_rfi.values"
   ]
  },
  {
   "cell_type": "code",
   "execution_count": 53,
   "id": "06f55b96",
   "metadata": {},
   "outputs": [],
   "source": [
    "cv_method = RepeatedStratifiedKFold(n_splits=10,n_repeats=3,random_state=4)"
   ]
  },
  {
   "cell_type": "code",
   "execution_count": 54,
   "id": "3722f6fa",
   "metadata": {},
   "outputs": [],
   "source": [
    "params_KNN = {'n_neighbors': [2,4,8,16,32,64], \n",
    "              'p': [1, 2]}"
   ]
  },
  {
   "cell_type": "code",
   "execution_count": 55,
   "id": "33734e3c",
   "metadata": {},
   "outputs": [],
   "source": [
    "gs_KNN = GridSearchCV(estimator=KNeighborsClassifier(),param_grid=params_KNN,cv=cv_method,verbose=1,scoring='accuracy', return_train_score=True)\n",
    "# verbose: the higher, the more messagesscoring='accuracy',return_train_score=True)"
   ]
  },
  {
   "cell_type": "code",
   "execution_count": 56,
   "id": "52160a65",
   "metadata": {},
   "outputs": [
    {
     "name": "stdout",
     "output_type": "stream",
     "text": [
      "Fitting 30 folds for each of 12 candidates, totalling 360 fits\n"
     ]
    }
   ],
   "source": [
    "gs_KNN.fit(abl_rfi, target);"
   ]
  },
  {
   "cell_type": "code",
   "execution_count": 57,
   "id": "1b5f3b21",
   "metadata": {},
   "outputs": [
    {
     "data": {
      "text/plain": [
       "{'n_neighbors': 64, 'p': 1}"
      ]
     },
     "execution_count": 57,
     "metadata": {},
     "output_type": "execute_result"
    }
   ],
   "source": [
    "gs_KNN.best_params_"
   ]
  },
  {
   "cell_type": "code",
   "execution_count": 58,
   "id": "76412bba",
   "metadata": {},
   "outputs": [
    {
     "data": {
      "text/plain": [
       "0.26949311364305684"
      ]
     },
     "execution_count": 58,
     "metadata": {},
     "output_type": "execute_result"
    }
   ],
   "source": [
    "gs_KNN.best_score_"
   ]
  },
  {
   "cell_type": "code",
   "execution_count": 59,
   "id": "d1170d46",
   "metadata": {},
   "outputs": [],
   "source": [
    "results_KNN = pd.DataFrame(gs_KNN.cv_results_['params'])"
   ]
  },
  {
   "cell_type": "code",
   "execution_count": 60,
   "id": "5610c7f3",
   "metadata": {},
   "outputs": [],
   "source": [
    "results_KNN['test_score'] = gs_KNN.cv_results_['mean_test_score']"
   ]
  },
  {
   "cell_type": "code",
   "execution_count": 61,
   "id": "ef5bb65a",
   "metadata": {},
   "outputs": [
    {
     "data": {
      "text/html": [
       "<div>\n",
       "<style scoped>\n",
       "    .dataframe tbody tr th:only-of-type {\n",
       "        vertical-align: middle;\n",
       "    }\n",
       "\n",
       "    .dataframe tbody tr th {\n",
       "        vertical-align: top;\n",
       "    }\n",
       "\n",
       "    .dataframe thead th {\n",
       "        text-align: right;\n",
       "    }\n",
       "</style>\n",
       "<table border=\"1\" class=\"dataframe\">\n",
       "  <thead>\n",
       "    <tr style=\"text-align: right;\">\n",
       "      <th></th>\n",
       "      <th>n_neighbors</th>\n",
       "      <th>p</th>\n",
       "      <th>test_score</th>\n",
       "      <th>metric</th>\n",
       "    </tr>\n",
       "  </thead>\n",
       "  <tbody>\n",
       "    <tr>\n",
       "      <th>0</th>\n",
       "      <td>2</td>\n",
       "      <td>1</td>\n",
       "      <td>0.219376</td>\n",
       "      <td>Manhattan</td>\n",
       "    </tr>\n",
       "    <tr>\n",
       "      <th>1</th>\n",
       "      <td>2</td>\n",
       "      <td>2</td>\n",
       "      <td>0.219778</td>\n",
       "      <td>Euclidean</td>\n",
       "    </tr>\n",
       "    <tr>\n",
       "      <th>2</th>\n",
       "      <td>4</td>\n",
       "      <td>1</td>\n",
       "      <td>0.220813</td>\n",
       "      <td>Manhattan</td>\n",
       "    </tr>\n",
       "    <tr>\n",
       "      <th>3</th>\n",
       "      <td>4</td>\n",
       "      <td>2</td>\n",
       "      <td>0.218742</td>\n",
       "      <td>Euclidean</td>\n",
       "    </tr>\n",
       "    <tr>\n",
       "      <th>4</th>\n",
       "      <td>8</td>\n",
       "      <td>1</td>\n",
       "      <td>0.244437</td>\n",
       "      <td>Manhattan</td>\n",
       "    </tr>\n",
       "    <tr>\n",
       "      <th>5</th>\n",
       "      <td>8</td>\n",
       "      <td>2</td>\n",
       "      <td>0.245074</td>\n",
       "      <td>Euclidean</td>\n",
       "    </tr>\n",
       "    <tr>\n",
       "      <th>6</th>\n",
       "      <td>16</td>\n",
       "      <td>1</td>\n",
       "      <td>0.251536</td>\n",
       "      <td>Manhattan</td>\n",
       "    </tr>\n",
       "    <tr>\n",
       "      <th>7</th>\n",
       "      <td>16</td>\n",
       "      <td>2</td>\n",
       "      <td>0.254729</td>\n",
       "      <td>Euclidean</td>\n",
       "    </tr>\n",
       "    <tr>\n",
       "      <th>8</th>\n",
       "      <td>32</td>\n",
       "      <td>1</td>\n",
       "      <td>0.259600</td>\n",
       "      <td>Manhattan</td>\n",
       "    </tr>\n",
       "    <tr>\n",
       "      <th>9</th>\n",
       "      <td>32</td>\n",
       "      <td>2</td>\n",
       "      <td>0.262789</td>\n",
       "      <td>Euclidean</td>\n",
       "    </tr>\n",
       "    <tr>\n",
       "      <th>10</th>\n",
       "      <td>64</td>\n",
       "      <td>1</td>\n",
       "      <td>0.269493</td>\n",
       "      <td>Manhattan</td>\n",
       "    </tr>\n",
       "    <tr>\n",
       "      <th>11</th>\n",
       "      <td>64</td>\n",
       "      <td>2</td>\n",
       "      <td>0.269012</td>\n",
       "      <td>Euclidean</td>\n",
       "    </tr>\n",
       "  </tbody>\n",
       "</table>\n",
       "</div>"
      ],
      "text/plain": [
       "    n_neighbors  p  test_score     metric\n",
       "0             2  1    0.219376  Manhattan\n",
       "1             2  2    0.219778  Euclidean\n",
       "2             4  1    0.220813  Manhattan\n",
       "3             4  2    0.218742  Euclidean\n",
       "4             8  1    0.244437  Manhattan\n",
       "5             8  2    0.245074  Euclidean\n",
       "6            16  1    0.251536  Manhattan\n",
       "7            16  2    0.254729  Euclidean\n",
       "8            32  1    0.259600  Manhattan\n",
       "9            32  2    0.262789  Euclidean\n",
       "10           64  1    0.269493  Manhattan\n",
       "11           64  2    0.269012  Euclidean"
      ]
     },
     "execution_count": 61,
     "metadata": {},
     "output_type": "execute_result"
    }
   ],
   "source": [
    "results_KNN['metric'] = results_KNN['p'].replace([1,2,3], [\"Manhattan\", \"Euclidean\", \"Minkowski\"\n",
    "])\n",
    "results_KNN"
   ]
  },
  {
   "cell_type": "code",
   "execution_count": 62,
   "id": "0b4e642c",
   "metadata": {},
   "outputs": [
    {
     "data": {
      "text/html": [
       "\n",
       "<div id=\"altair-viz-b8e9e82c55f64ea8819ad5f7ffa6fb34\"></div>\n",
       "<script type=\"text/javascript\">\n",
       "  var VEGA_DEBUG = (typeof VEGA_DEBUG == \"undefined\") ? {} : VEGA_DEBUG;\n",
       "  (function(spec, embedOpt){\n",
       "    let outputDiv = document.currentScript.previousElementSibling;\n",
       "    if (outputDiv.id !== \"altair-viz-b8e9e82c55f64ea8819ad5f7ffa6fb34\") {\n",
       "      outputDiv = document.getElementById(\"altair-viz-b8e9e82c55f64ea8819ad5f7ffa6fb34\");\n",
       "    }\n",
       "    const paths = {\n",
       "      \"vega\": \"https://cdn.jsdelivr.net/npm//vega@5?noext\",\n",
       "      \"vega-lib\": \"https://cdn.jsdelivr.net/npm//vega-lib?noext\",\n",
       "      \"vega-lite\": \"https://cdn.jsdelivr.net/npm//vega-lite@4.17.0?noext\",\n",
       "      \"vega-embed\": \"https://cdn.jsdelivr.net/npm//vega-embed@6?noext\",\n",
       "    };\n",
       "\n",
       "    function maybeLoadScript(lib, version) {\n",
       "      var key = `${lib.replace(\"-\", \"\")}_version`;\n",
       "      return (VEGA_DEBUG[key] == version) ?\n",
       "        Promise.resolve(paths[lib]) :\n",
       "        new Promise(function(resolve, reject) {\n",
       "          var s = document.createElement('script');\n",
       "          document.getElementsByTagName(\"head\")[0].appendChild(s);\n",
       "          s.async = true;\n",
       "          s.onload = () => {\n",
       "            VEGA_DEBUG[key] = version;\n",
       "            return resolve(paths[lib]);\n",
       "          };\n",
       "          s.onerror = () => reject(`Error loading script: ${paths[lib]}`);\n",
       "          s.src = paths[lib];\n",
       "        });\n",
       "    }\n",
       "\n",
       "    function showError(err) {\n",
       "      outputDiv.innerHTML = `<div class=\"error\" style=\"color:red;\">${err}</div>`;\n",
       "      throw err;\n",
       "    }\n",
       "\n",
       "    function displayChart(vegaEmbed) {\n",
       "      vegaEmbed(outputDiv, spec, embedOpt)\n",
       "        .catch(err => showError(`Javascript Error: ${err.message}<br>This usually means there's a typo in your chart specification. See the javascript console for the full traceback.`));\n",
       "    }\n",
       "\n",
       "    if(typeof define === \"function\" && define.amd) {\n",
       "      requirejs.config({paths});\n",
       "      require([\"vega-embed\"], displayChart, err => showError(`Error loading script: ${err.message}`));\n",
       "    } else {\n",
       "      maybeLoadScript(\"vega\", \"5\")\n",
       "        .then(() => maybeLoadScript(\"vega-lite\", \"4.17.0\"))\n",
       "        .then(() => maybeLoadScript(\"vega-embed\", \"6\"))\n",
       "        .catch(showError)\n",
       "        .then(() => displayChart(vegaEmbed));\n",
       "    }\n",
       "  })({\"config\": {\"view\": {\"continuousWidth\": 400, \"continuousHeight\": 300}}, \"data\": {\"name\": \"data-2711bb66e4549bb7cb0223d142e87381\"}, \"mark\": {\"type\": \"line\", \"point\": true}, \"encoding\": {\"color\": {\"field\": \"metric\", \"type\": \"nominal\"}, \"x\": {\"field\": \"n_neighbors\", \"title\": \"Number of Neighbors\", \"type\": \"quantitative\"}, \"y\": {\"field\": \"test_score\", \"scale\": {\"zero\": false}, \"title\": \"Mean CV Score\", \"type\": \"quantitative\"}}, \"title\": \"KNN Performance Comparison\", \"$schema\": \"https://vega.github.io/schema/vega-lite/v4.17.0.json\", \"datasets\": {\"data-2711bb66e4549bb7cb0223d142e87381\": [{\"n_neighbors\": 2, \"p\": 1, \"test_score\": 0.21937626931947263, \"metric\": \"Manhattan\"}, {\"n_neighbors\": 2, \"p\": 2, \"test_score\": 0.21977767068641735, \"metric\": \"Euclidean\"}, {\"n_neighbors\": 4, \"p\": 1, \"test_score\": 0.22081320589461445, \"metric\": \"Manhattan\"}, {\"n_neighbors\": 4, \"p\": 2, \"test_score\": 0.21874175300907603, \"metric\": \"Euclidean\"}, {\"n_neighbors\": 8, \"p\": 1, \"test_score\": 0.2444373687652749, \"metric\": \"Manhattan\"}, {\"n_neighbors\": 8, \"p\": 2, \"test_score\": 0.24507398865596516, \"metric\": \"Euclidean\"}, {\"n_neighbors\": 16, \"p\": 1, \"test_score\": 0.2515356136143717, \"metric\": \"Manhattan\"}, {\"n_neighbors\": 16, \"p\": 2, \"test_score\": 0.2547292309692916, \"metric\": \"Euclidean\"}, {\"n_neighbors\": 32, \"p\": 1, \"test_score\": 0.2595995930528305, \"metric\": \"Manhattan\"}, {\"n_neighbors\": 32, \"p\": 2, \"test_score\": 0.26278862077801873, \"metric\": \"Euclidean\"}, {\"n_neighbors\": 64, \"p\": 1, \"test_score\": 0.26949311364305684, \"metric\": \"Manhattan\"}, {\"n_neighbors\": 64, \"p\": 2, \"test_score\": 0.2690119674595252, \"metric\": \"Euclidean\"}]}}, {\"mode\": \"vega-lite\"});\n",
       "</script>"
      ],
      "text/plain": [
       "alt.Chart(...)"
      ]
     },
     "execution_count": 62,
     "metadata": {},
     "output_type": "execute_result"
    }
   ],
   "source": [
    "alt.Chart(results_KNN,\n",
    " title='KNN Performance Comparison').mark_line(point=True).encode(\n",
    " alt.X('n_neighbors', title='Number of Neighbors'),\n",
    " alt.Y('test_score', title='Mean CV Score', scale=alt.Scale(zero=False)),\n",
    " color='metric')"
   ]
  },
  {
   "cell_type": "code",
   "execution_count": 63,
   "id": "5033fac5",
   "metadata": {},
   "outputs": [
    {
     "name": "stdout",
     "output_type": "stream",
     "text": [
      "Fitting 15 folds for each of 32 candidates, totalling 480 fits\n"
     ]
    }
   ],
   "source": [
    "df_classifier = DecisionTreeClassifier(random_state=4)\n",
    "params_DT = {'criterion': ['gini', 'entropy'],\n",
    " 'max_depth': [1, 2, 3, 4, 5, 6, 7, 8],\n",
    " 'min_samples_split': [2, 3]}\n",
    "cv_method = RepeatedStratifiedKFold(n_splits=5,\n",
    " n_repeats=3,\n",
    " random_state=999)\n",
    "gs_DT = GridSearchCV(estimator=df_classifier,\n",
    " param_grid=params_DT,\n",
    " cv=cv_method,\n",
    " verbose=1,\n",
    " scoring='accuracy')\n",
    "gs_DT.fit(abl_rfi, target);\n"
   ]
  },
  {
   "cell_type": "code",
   "execution_count": 64,
   "id": "369a0c09",
   "metadata": {},
   "outputs": [
    {
     "data": {
      "text/plain": [
       "{'criterion': 'entropy', 'max_depth': 4, 'min_samples_split': 2}"
      ]
     },
     "execution_count": 64,
     "metadata": {},
     "output_type": "execute_result"
    }
   ],
   "source": [
    "gs_DT.best_params_"
   ]
  },
  {
   "cell_type": "code",
   "execution_count": 65,
   "id": "c2f49f02",
   "metadata": {},
   "outputs": [
    {
     "data": {
      "text/plain": [
       "0.2669356979820264"
      ]
     },
     "execution_count": 65,
     "metadata": {},
     "output_type": "execute_result"
    }
   ],
   "source": [
    "gs_DT.best_score_"
   ]
  },
  {
   "cell_type": "code",
   "execution_count": 66,
   "id": "93751116",
   "metadata": {},
   "outputs": [
    {
     "data": {
      "text/plain": [
       "Index(['criterion', 'max_depth', 'min_samples_split', 'test_score'], dtype='object')"
      ]
     },
     "execution_count": 66,
     "metadata": {},
     "output_type": "execute_result"
    }
   ],
   "source": [
    "results_DT = pd.DataFrame(gs_DT.cv_results_['params'])\n",
    "results_DT['test_score'] = gs_DT.cv_results_['mean_test_score']\n",
    "results_DT.columns"
   ]
  },
  {
   "cell_type": "code",
   "execution_count": 67,
   "id": "a78c8cd7",
   "metadata": {},
   "outputs": [
    {
     "data": {
      "text/html": [
       "\n",
       "<div id=\"altair-viz-62c2fc1d50ca4a7a80c2e59703155096\"></div>\n",
       "<script type=\"text/javascript\">\n",
       "  var VEGA_DEBUG = (typeof VEGA_DEBUG == \"undefined\") ? {} : VEGA_DEBUG;\n",
       "  (function(spec, embedOpt){\n",
       "    let outputDiv = document.currentScript.previousElementSibling;\n",
       "    if (outputDiv.id !== \"altair-viz-62c2fc1d50ca4a7a80c2e59703155096\") {\n",
       "      outputDiv = document.getElementById(\"altair-viz-62c2fc1d50ca4a7a80c2e59703155096\");\n",
       "    }\n",
       "    const paths = {\n",
       "      \"vega\": \"https://cdn.jsdelivr.net/npm//vega@5?noext\",\n",
       "      \"vega-lib\": \"https://cdn.jsdelivr.net/npm//vega-lib?noext\",\n",
       "      \"vega-lite\": \"https://cdn.jsdelivr.net/npm//vega-lite@4.17.0?noext\",\n",
       "      \"vega-embed\": \"https://cdn.jsdelivr.net/npm//vega-embed@6?noext\",\n",
       "    };\n",
       "\n",
       "    function maybeLoadScript(lib, version) {\n",
       "      var key = `${lib.replace(\"-\", \"\")}_version`;\n",
       "      return (VEGA_DEBUG[key] == version) ?\n",
       "        Promise.resolve(paths[lib]) :\n",
       "        new Promise(function(resolve, reject) {\n",
       "          var s = document.createElement('script');\n",
       "          document.getElementsByTagName(\"head\")[0].appendChild(s);\n",
       "          s.async = true;\n",
       "          s.onload = () => {\n",
       "            VEGA_DEBUG[key] = version;\n",
       "            return resolve(paths[lib]);\n",
       "          };\n",
       "          s.onerror = () => reject(`Error loading script: ${paths[lib]}`);\n",
       "          s.src = paths[lib];\n",
       "        });\n",
       "    }\n",
       "\n",
       "    function showError(err) {\n",
       "      outputDiv.innerHTML = `<div class=\"error\" style=\"color:red;\">${err}</div>`;\n",
       "      throw err;\n",
       "    }\n",
       "\n",
       "    function displayChart(vegaEmbed) {\n",
       "      vegaEmbed(outputDiv, spec, embedOpt)\n",
       "        .catch(err => showError(`Javascript Error: ${err.message}<br>This usually means there's a typo in your chart specification. See the javascript console for the full traceback.`));\n",
       "    }\n",
       "\n",
       "    if(typeof define === \"function\" && define.amd) {\n",
       "      requirejs.config({paths});\n",
       "      require([\"vega-embed\"], displayChart, err => showError(`Error loading script: ${err.message}`));\n",
       "    } else {\n",
       "      maybeLoadScript(\"vega\", \"5\")\n",
       "        .then(() => maybeLoadScript(\"vega-lite\", \"4.17.0\"))\n",
       "        .then(() => maybeLoadScript(\"vega-embed\", \"6\"))\n",
       "        .catch(showError)\n",
       "        .then(() => displayChart(vegaEmbed));\n",
       "    }\n",
       "  })({\"config\": {\"view\": {\"continuousWidth\": 400, \"continuousHeight\": 300}}, \"data\": {\"name\": \"data-9c85fb95632d4e150580e9ca5e4c1d62\"}, \"mark\": {\"type\": \"line\", \"point\": true}, \"encoding\": {\"color\": {\"field\": \"criterion\", \"type\": \"nominal\"}, \"x\": {\"field\": \"max_depth\", \"title\": \"Maximum Depth\", \"type\": \"quantitative\"}, \"y\": {\"aggregate\": \"average\", \"field\": \"test_score\", \"scale\": {\"zero\": false}, \"title\": \"Mean CV Score\", \"type\": \"quantitative\"}}, \"title\": \"DT Performance Comparison\", \"$schema\": \"https://vega.github.io/schema/vega-lite/v4.17.0.json\", \"datasets\": {\"data-9c85fb95632d4e150580e9ca5e4c1d62\": [{\"criterion\": \"gini\", \"max_depth\": 1, \"min_samples_split\": 2, \"test_score\": 0.2107572414978655}, {\"criterion\": \"gini\", \"max_depth\": 1, \"min_samples_split\": 3, \"test_score\": 0.2107572414978655}, {\"criterion\": \"gini\", \"max_depth\": 2, \"min_samples_split\": 2, \"test_score\": 0.2459493453284818}, {\"criterion\": \"gini\", \"max_depth\": 2, \"min_samples_split\": 3, \"test_score\": 0.2459493453284818}, {\"criterion\": \"gini\", \"max_depth\": 3, \"min_samples_split\": 2, \"test_score\": 0.2539279336064712}, {\"criterion\": \"gini\", \"max_depth\": 3, \"min_samples_split\": 3, \"test_score\": 0.2539279336064712}, {\"criterion\": \"gini\", \"max_depth\": 4, \"min_samples_split\": 2, \"test_score\": 0.26382431309629545}, {\"criterion\": \"gini\", \"max_depth\": 4, \"min_samples_split\": 3, \"test_score\": 0.26382431309629545}, {\"criterion\": \"gini\", \"max_depth\": 5, \"min_samples_split\": 2, \"test_score\": 0.2624676006837999}, {\"criterion\": \"gini\", \"max_depth\": 5, \"min_samples_split\": 3, \"test_score\": 0.2624676006837999}, {\"criterion\": \"gini\", \"max_depth\": 6, \"min_samples_split\": 2, \"test_score\": 0.257437278552942}, {\"criterion\": \"gini\", \"max_depth\": 6, \"min_samples_split\": 3, \"test_score\": 0.2573574382335807}, {\"criterion\": \"gini\", \"max_depth\": 7, \"min_samples_split\": 2, \"test_score\": 0.25584305074062397}, {\"criterion\": \"gini\", \"max_depth\": 7, \"min_samples_split\": 3, \"test_score\": 0.2554438491438176}, {\"criterion\": \"gini\", \"max_depth\": 8, \"min_samples_split\": 2, \"test_score\": 0.24802251955419308}, {\"criterion\": \"gini\", \"max_depth\": 8, \"min_samples_split\": 3, \"test_score\": 0.24738379699930282}, {\"criterion\": \"entropy\", \"max_depth\": 1, \"min_samples_split\": 2, \"test_score\": 0.2093214527882035}, {\"criterion\": \"entropy\", \"max_depth\": 1, \"min_samples_split\": 3, \"test_score\": 0.2093214527882035}, {\"criterion\": \"entropy\", \"max_depth\": 2, \"min_samples_split\": 2, \"test_score\": 0.2474663113963461}, {\"criterion\": \"entropy\", \"max_depth\": 2, \"min_samples_split\": 3, \"test_score\": 0.2474663113963461}, {\"criterion\": \"entropy\", \"max_depth\": 3, \"min_samples_split\": 2, \"test_score\": 0.2572019597169298}, {\"criterion\": \"entropy\", \"max_depth\": 3, \"min_samples_split\": 3, \"test_score\": 0.2572019597169298}, {\"criterion\": \"entropy\", \"max_depth\": 4, \"min_samples_split\": 2, \"test_score\": 0.2669356979820264}, {\"criterion\": \"entropy\", \"max_depth\": 4, \"min_samples_split\": 3, \"test_score\": 0.2669356979820264}, {\"criterion\": \"entropy\", \"max_depth\": 5, \"min_samples_split\": 2, \"test_score\": 0.26231059412275926}, {\"criterion\": \"entropy\", \"max_depth\": 5, \"min_samples_split\": 3, \"test_score\": 0.26231059412275926}, {\"criterion\": \"entropy\", \"max_depth\": 6, \"min_samples_split\": 2, \"test_score\": 0.2583170501103057}, {\"criterion\": \"entropy\", \"max_depth\": 6, \"min_samples_split\": 3, \"test_score\": 0.2583170501103057}, {\"criterion\": \"entropy\", \"max_depth\": 7, \"min_samples_split\": 2, \"test_score\": 0.2496975427136158}, {\"criterion\": \"entropy\", \"max_depth\": 7, \"min_samples_split\": 3, \"test_score\": 0.24929843661958376}, {\"criterion\": \"entropy\", \"max_depth\": 8, \"min_samples_split\": 2, \"test_score\": 0.24219608629630687}, {\"criterion\": \"entropy\", \"max_depth\": 8, \"min_samples_split\": 3, \"test_score\": 0.24203678766868172}]}}, {\"mode\": \"vega-lite\"});\n",
       "</script>"
      ],
      "text/plain": [
       "alt.Chart(...)"
      ]
     },
     "execution_count": 67,
     "metadata": {},
     "output_type": "execute_result"
    }
   ],
   "source": [
    "alt.Chart(results_DT,\n",
    " title='DT Performance Comparison'\n",
    " ).mark_line(point=True).encode(\n",
    " alt.X('max_depth', title='Maximum Depth'),\n",
    " alt.Y('test_score', title='Mean CV Score', aggregate='average', scale=alt.Scale(zero=False\n",
    ")),\n",
    " color='criterion'\n",
    ")"
   ]
  },
  {
   "cell_type": "code",
   "execution_count": 68,
   "id": "800dfc46",
   "metadata": {},
   "outputs": [
    {
     "name": "stdout",
     "output_type": "stream",
     "text": [
      "Fitting 15 folds for each of 32 candidates, totalling 480 fits\n"
     ]
    }
   ],
   "source": [
    "df_classifier = RandomForestClassifier(random_state=4)\n",
    "params_RF = {'criterion': ['gini', 'entropy'],\n",
    "             'max_depth': [1, 2, 3, 4, 5, 6, 7, 8],\n",
    "             'min_samples_split': [2, 3]}\n",
    "cv_method = RepeatedStratifiedKFold(n_splits=5,n_repeats=3, random_state=999)\n",
    "gs_RF = GridSearchCV(estimator=df_classifier,param_grid=params_RF,cv=cv_method,verbose=1,scoring='accuracy')\n",
    "gs_RF.fit(abl_rfi, target);"
   ]
  },
  {
   "cell_type": "code",
   "execution_count": 69,
   "id": "431c7d09",
   "metadata": {},
   "outputs": [
    {
     "data": {
      "text/plain": [
       "{'criterion': 'gini', 'max_depth': 6, 'min_samples_split': 2}"
      ]
     },
     "execution_count": 69,
     "metadata": {},
     "output_type": "execute_result"
    }
   ],
   "source": [
    "gs_RF.best_params_\n"
   ]
  },
  {
   "cell_type": "code",
   "execution_count": 70,
   "id": "53b95803",
   "metadata": {},
   "outputs": [
    {
     "data": {
      "text/plain": [
       "0.27627224020857805"
      ]
     },
     "execution_count": 70,
     "metadata": {},
     "output_type": "execute_result"
    }
   ],
   "source": [
    "gs_RF.best_score_\n"
   ]
  },
  {
   "cell_type": "code",
   "execution_count": 71,
   "id": "7fe44017",
   "metadata": {},
   "outputs": [
    {
     "data": {
      "text/plain": [
       "array([0.2180972 , 0.2180972 , 0.25839632, 0.25839632, 0.27140676,\n",
       "       0.27140676, 0.27395983, 0.27395983, 0.27236322, 0.27292191,\n",
       "       0.27627224, 0.27555482, 0.27411722, 0.2735592 , 0.27100717,\n",
       "       0.2707667 , 0.21259166, 0.21259166, 0.25504455, 0.25504455,\n",
       "       0.27020944, 0.27020944, 0.27363961, 0.27363961, 0.27459722,\n",
       "       0.27467696, 0.27579444, 0.27547451, 0.27611447, 0.27419821,\n",
       "       0.26988845, 0.26749573])"
      ]
     },
     "execution_count": 71,
     "metadata": {},
     "output_type": "execute_result"
    }
   ],
   "source": [
    "gs_RF.cv_results_['mean_test_score']"
   ]
  },
  {
   "cell_type": "code",
   "execution_count": 72,
   "id": "15389c5e",
   "metadata": {},
   "outputs": [
    {
     "data": {
      "text/plain": [
       "Index(['criterion', 'max_depth', 'min_samples_split', 'test_score'], dtype='object')"
      ]
     },
     "execution_count": 72,
     "metadata": {},
     "output_type": "execute_result"
    }
   ],
   "source": [
    "results_RF = pd.DataFrame(gs_RF.cv_results_['params'])\n",
    "results_RF['test_score'] = gs_RF.cv_results_['mean_test_score']\n",
    "results_RF.columns"
   ]
  },
  {
   "cell_type": "code",
   "execution_count": 73,
   "id": "0606d569",
   "metadata": {},
   "outputs": [
    {
     "data": {
      "text/html": [
       "\n",
       "<div id=\"altair-viz-f91d45a824e54dec99543b0fc95940b0\"></div>\n",
       "<script type=\"text/javascript\">\n",
       "  var VEGA_DEBUG = (typeof VEGA_DEBUG == \"undefined\") ? {} : VEGA_DEBUG;\n",
       "  (function(spec, embedOpt){\n",
       "    let outputDiv = document.currentScript.previousElementSibling;\n",
       "    if (outputDiv.id !== \"altair-viz-f91d45a824e54dec99543b0fc95940b0\") {\n",
       "      outputDiv = document.getElementById(\"altair-viz-f91d45a824e54dec99543b0fc95940b0\");\n",
       "    }\n",
       "    const paths = {\n",
       "      \"vega\": \"https://cdn.jsdelivr.net/npm//vega@5?noext\",\n",
       "      \"vega-lib\": \"https://cdn.jsdelivr.net/npm//vega-lib?noext\",\n",
       "      \"vega-lite\": \"https://cdn.jsdelivr.net/npm//vega-lite@4.17.0?noext\",\n",
       "      \"vega-embed\": \"https://cdn.jsdelivr.net/npm//vega-embed@6?noext\",\n",
       "    };\n",
       "\n",
       "    function maybeLoadScript(lib, version) {\n",
       "      var key = `${lib.replace(\"-\", \"\")}_version`;\n",
       "      return (VEGA_DEBUG[key] == version) ?\n",
       "        Promise.resolve(paths[lib]) :\n",
       "        new Promise(function(resolve, reject) {\n",
       "          var s = document.createElement('script');\n",
       "          document.getElementsByTagName(\"head\")[0].appendChild(s);\n",
       "          s.async = true;\n",
       "          s.onload = () => {\n",
       "            VEGA_DEBUG[key] = version;\n",
       "            return resolve(paths[lib]);\n",
       "          };\n",
       "          s.onerror = () => reject(`Error loading script: ${paths[lib]}`);\n",
       "          s.src = paths[lib];\n",
       "        });\n",
       "    }\n",
       "\n",
       "    function showError(err) {\n",
       "      outputDiv.innerHTML = `<div class=\"error\" style=\"color:red;\">${err}</div>`;\n",
       "      throw err;\n",
       "    }\n",
       "\n",
       "    function displayChart(vegaEmbed) {\n",
       "      vegaEmbed(outputDiv, spec, embedOpt)\n",
       "        .catch(err => showError(`Javascript Error: ${err.message}<br>This usually means there's a typo in your chart specification. See the javascript console for the full traceback.`));\n",
       "    }\n",
       "\n",
       "    if(typeof define === \"function\" && define.amd) {\n",
       "      requirejs.config({paths});\n",
       "      require([\"vega-embed\"], displayChart, err => showError(`Error loading script: ${err.message}`));\n",
       "    } else {\n",
       "      maybeLoadScript(\"vega\", \"5\")\n",
       "        .then(() => maybeLoadScript(\"vega-lite\", \"4.17.0\"))\n",
       "        .then(() => maybeLoadScript(\"vega-embed\", \"6\"))\n",
       "        .catch(showError)\n",
       "        .then(() => displayChart(vegaEmbed));\n",
       "    }\n",
       "  })({\"config\": {\"view\": {\"continuousWidth\": 400, \"continuousHeight\": 300}}, \"data\": {\"name\": \"data-e8ed9de68e319fad07612b66cb27bc28\"}, \"mark\": {\"type\": \"line\", \"point\": true}, \"encoding\": {\"color\": {\"field\": \"criterion\", \"type\": \"nominal\"}, \"x\": {\"field\": \"max_depth\", \"title\": \"Maximum Depth\", \"type\": \"quantitative\"}, \"y\": {\"aggregate\": \"average\", \"field\": \"test_score\", \"scale\": {\"zero\": false}, \"title\": \"Mean CV Score\", \"type\": \"quantitative\"}}, \"title\": \"RF Performance Comparison\", \"$schema\": \"https://vega.github.io/schema/vega-lite/v4.17.0.json\", \"datasets\": {\"data-e8ed9de68e319fad07612b66cb27bc28\": [{\"criterion\": \"gini\", \"max_depth\": 1, \"min_samples_split\": 2, \"test_score\": 0.21809720272373917}, {\"criterion\": \"gini\", \"max_depth\": 1, \"min_samples_split\": 3, \"test_score\": 0.21809720272373917}, {\"criterion\": \"gini\", \"max_depth\": 2, \"min_samples_split\": 2, \"test_score\": 0.2583963174130208}, {\"criterion\": \"gini\", \"max_depth\": 2, \"min_samples_split\": 3, \"test_score\": 0.2583963174130208}, {\"criterion\": \"gini\", \"max_depth\": 3, \"min_samples_split\": 2, \"test_score\": 0.27140675586625795}, {\"criterion\": \"gini\", \"max_depth\": 3, \"min_samples_split\": 3, \"test_score\": 0.27140675586625795}, {\"criterion\": \"gini\", \"max_depth\": 4, \"min_samples_split\": 2, \"test_score\": 0.27395983153310605}, {\"criterion\": \"gini\", \"max_depth\": 4, \"min_samples_split\": 3, \"test_score\": 0.27395983153310605}, {\"criterion\": \"gini\", \"max_depth\": 5, \"min_samples_split\": 2, \"test_score\": 0.2723632161514292}, {\"criterion\": \"gini\", \"max_depth\": 5, \"min_samples_split\": 3, \"test_score\": 0.2729219073814094}, {\"criterion\": \"gini\", \"max_depth\": 6, \"min_samples_split\": 2, \"test_score\": 0.27627224020857805}, {\"criterion\": \"gini\", \"max_depth\": 6, \"min_samples_split\": 3, \"test_score\": 0.27555482336761883}, {\"criterion\": \"gini\", \"max_depth\": 7, \"min_samples_split\": 2, \"test_score\": 0.27411722010524403}, {\"criterion\": \"gini\", \"max_depth\": 7, \"min_samples_split\": 3, \"test_score\": 0.2735591973946843}, {\"criterion\": \"gini\", \"max_depth\": 8, \"min_samples_split\": 2, \"test_score\": 0.27100717225835413}, {\"criterion\": \"gini\", \"max_depth\": 8, \"min_samples_split\": 3, \"test_score\": 0.2707666962725267}, {\"criterion\": \"entropy\", \"max_depth\": 1, \"min_samples_split\": 2, \"test_score\": 0.2125916587876878}, {\"criterion\": \"entropy\", \"max_depth\": 1, \"min_samples_split\": 3, \"test_score\": 0.2125916587876878}, {\"criterion\": \"entropy\", \"max_depth\": 2, \"min_samples_split\": 2, \"test_score\": 0.25504455204423687}, {\"criterion\": \"entropy\", \"max_depth\": 2, \"min_samples_split\": 3, \"test_score\": 0.25504455204423687}, {\"criterion\": \"entropy\", \"max_depth\": 3, \"min_samples_split\": 2, \"test_score\": 0.2702094375841619}, {\"criterion\": \"entropy\", \"max_depth\": 3, \"min_samples_split\": 3, \"test_score\": 0.2702094375841619}, {\"criterion\": \"entropy\", \"max_depth\": 4, \"min_samples_split\": 2, \"test_score\": 0.2736396107306918}, {\"criterion\": \"entropy\", \"max_depth\": 4, \"min_samples_split\": 3, \"test_score\": 0.2736396107306918}, {\"criterion\": \"entropy\", \"max_depth\": 5, \"min_samples_split\": 2, \"test_score\": 0.2745972170491553}, {\"criterion\": \"entropy\", \"max_depth\": 5, \"min_samples_split\": 3, \"test_score\": 0.2746769618657422}, {\"criterion\": \"entropy\", \"max_depth\": 6, \"min_samples_split\": 2, \"test_score\": 0.275794439828477}, {\"criterion\": \"entropy\", \"max_depth\": 6, \"min_samples_split\": 3, \"test_score\": 0.2754745055343858}, {\"criterion\": \"entropy\", \"max_depth\": 7, \"min_samples_split\": 2, \"test_score\": 0.2761144696253426}, {\"criterion\": \"entropy\", \"max_depth\": 7, \"min_samples_split\": 3, \"test_score\": 0.27419820645789755}, {\"criterion\": \"entropy\", \"max_depth\": 8, \"min_samples_split\": 2, \"test_score\": 0.26988845275955264}, {\"criterion\": \"entropy\", \"max_depth\": 8, \"min_samples_split\": 3, \"test_score\": 0.2674957262508475}]}}, {\"mode\": \"vega-lite\"});\n",
       "</script>"
      ],
      "text/plain": [
       "alt.Chart(...)"
      ]
     },
     "execution_count": 73,
     "metadata": {},
     "output_type": "execute_result"
    }
   ],
   "source": [
    "alt.Chart(results_RF,\n",
    " title='RF Performance Comparison'\n",
    " ).mark_line(point=True).encode(\n",
    " alt.X('max_depth', title='Maximum Depth'),\n",
    " alt.Y('test_score', title='Mean CV Score', aggregate='average', scale=alt.Scale(zero=False\n",
    ")),\n",
    " color='criterion'\n",
    ")"
   ]
  },
  {
   "cell_type": "code",
   "execution_count": 74,
   "id": "07021c44",
   "metadata": {},
   "outputs": [
    {
     "data": {
      "text/plain": [
       "array([1.e+00, 1.e-01, 1.e-02, 1.e-03, 1.e-04, 1.e-05, 1.e-06, 1.e-07,\n",
       "       1.e-08, 1.e-09])"
      ]
     },
     "execution_count": 74,
     "metadata": {},
     "output_type": "execute_result"
    }
   ],
   "source": [
    "np.logspace(0,-9, num=10)"
   ]
  },
  {
   "cell_type": "code",
   "execution_count": 75,
   "id": "c8776a3f",
   "metadata": {},
   "outputs": [],
   "source": [
    "abl_power = PowerTransformer().fit_transform(abl_unscaled)"
   ]
  },
  {
   "cell_type": "code",
   "execution_count": 76,
   "id": "ef8fd418",
   "metadata": {},
   "outputs": [],
   "source": [
    "abl_power_df = pd.DataFrame(data = abl_power,columns = abl_all.columns)"
   ]
  },
  {
   "cell_type": "code",
   "execution_count": 77,
   "id": "561368c4",
   "metadata": {},
   "outputs": [],
   "source": [
    "abl_power_rfi = abl_power_df[abl_all.columns[fs_indices_rfi[:5]].values]\n",
    "abl_power_rfi = abl_power_rfi.values"
   ]
  },
  {
   "cell_type": "code",
   "execution_count": 78,
   "id": "595ea4b4",
   "metadata": {},
   "outputs": [
    {
     "name": "stdout",
     "output_type": "stream",
     "text": [
      "Fitting 15 folds for each of 100 candidates, totalling 1500 fits\n"
     ]
    }
   ],
   "source": [
    "nb_classifier = GaussianNB()\n",
    "params_NB = {'var_smoothing': np.logspace(0,-9, num=100)}\n",
    "cv_method = RepeatedStratifiedKFold(n_splits=5,\n",
    " n_repeats=3,\n",
    " random_state=999)\n",
    "gs_NB = GridSearchCV(estimator=nb_classifier,\n",
    " param_grid=params_NB,\n",
    " cv=cv_method,\n",
    " verbose=1,\n",
    " scoring='accuracy')\n",
    "Data_transformed = PowerTransformer().fit_transform(abl_rfi)\n",
    "gs_NB.fit(abl_power_rfi, target);"
   ]
  },
  {
   "cell_type": "code",
   "execution_count": 79,
   "id": "16f9ed0b",
   "metadata": {},
   "outputs": [
    {
     "data": {
      "text/plain": [
       "{'var_smoothing': 0.8111308307896871}"
      ]
     },
     "execution_count": 79,
     "metadata": {},
     "output_type": "execute_result"
    }
   ],
   "source": [
    "gs_NB.best_params_"
   ]
  },
  {
   "cell_type": "code",
   "execution_count": 80,
   "id": "fa57be16",
   "metadata": {},
   "outputs": [
    {
     "data": {
      "text/plain": [
       "0.26151276394579265"
      ]
     },
     "execution_count": 80,
     "metadata": {},
     "output_type": "execute_result"
    }
   ],
   "source": [
    "gs_NB.best_score_"
   ]
  },
  {
   "cell_type": "code",
   "execution_count": 81,
   "id": "a7108e9f",
   "metadata": {},
   "outputs": [],
   "source": [
    "results_NB = pd.DataFrame(gs_NB.cv_results_['params'])\n",
    "results_NB['test_score'] = gs_NB.cv_results_['mean_test_score']"
   ]
  },
  {
   "cell_type": "code",
   "execution_count": 82,
   "id": "f4a0e2df",
   "metadata": {},
   "outputs": [
    {
     "data": {
      "text/html": [
       "\n",
       "<div id=\"altair-viz-454f0ddd66cd4fed8fbef62e9340e7c0\"></div>\n",
       "<script type=\"text/javascript\">\n",
       "  var VEGA_DEBUG = (typeof VEGA_DEBUG == \"undefined\") ? {} : VEGA_DEBUG;\n",
       "  (function(spec, embedOpt){\n",
       "    let outputDiv = document.currentScript.previousElementSibling;\n",
       "    if (outputDiv.id !== \"altair-viz-454f0ddd66cd4fed8fbef62e9340e7c0\") {\n",
       "      outputDiv = document.getElementById(\"altair-viz-454f0ddd66cd4fed8fbef62e9340e7c0\");\n",
       "    }\n",
       "    const paths = {\n",
       "      \"vega\": \"https://cdn.jsdelivr.net/npm//vega@5?noext\",\n",
       "      \"vega-lib\": \"https://cdn.jsdelivr.net/npm//vega-lib?noext\",\n",
       "      \"vega-lite\": \"https://cdn.jsdelivr.net/npm//vega-lite@4.17.0?noext\",\n",
       "      \"vega-embed\": \"https://cdn.jsdelivr.net/npm//vega-embed@6?noext\",\n",
       "    };\n",
       "\n",
       "    function maybeLoadScript(lib, version) {\n",
       "      var key = `${lib.replace(\"-\", \"\")}_version`;\n",
       "      return (VEGA_DEBUG[key] == version) ?\n",
       "        Promise.resolve(paths[lib]) :\n",
       "        new Promise(function(resolve, reject) {\n",
       "          var s = document.createElement('script');\n",
       "          document.getElementsByTagName(\"head\")[0].appendChild(s);\n",
       "          s.async = true;\n",
       "          s.onload = () => {\n",
       "            VEGA_DEBUG[key] = version;\n",
       "            return resolve(paths[lib]);\n",
       "          };\n",
       "          s.onerror = () => reject(`Error loading script: ${paths[lib]}`);\n",
       "          s.src = paths[lib];\n",
       "        });\n",
       "    }\n",
       "\n",
       "    function showError(err) {\n",
       "      outputDiv.innerHTML = `<div class=\"error\" style=\"color:red;\">${err}</div>`;\n",
       "      throw err;\n",
       "    }\n",
       "\n",
       "    function displayChart(vegaEmbed) {\n",
       "      vegaEmbed(outputDiv, spec, embedOpt)\n",
       "        .catch(err => showError(`Javascript Error: ${err.message}<br>This usually means there's a typo in your chart specification. See the javascript console for the full traceback.`));\n",
       "    }\n",
       "\n",
       "    if(typeof define === \"function\" && define.amd) {\n",
       "      requirejs.config({paths});\n",
       "      require([\"vega-embed\"], displayChart, err => showError(`Error loading script: ${err.message}`));\n",
       "    } else {\n",
       "      maybeLoadScript(\"vega\", \"5\")\n",
       "        .then(() => maybeLoadScript(\"vega-lite\", \"4.17.0\"))\n",
       "        .then(() => maybeLoadScript(\"vega-embed\", \"6\"))\n",
       "        .catch(showError)\n",
       "        .then(() => displayChart(vegaEmbed));\n",
       "    }\n",
       "  })({\"config\": {\"view\": {\"continuousWidth\": 400, \"continuousHeight\": 300}}, \"data\": {\"name\": \"data-056c8fe3d88d9ddcf22e86f305cc2747\"}, \"mark\": {\"type\": \"line\", \"point\": true}, \"encoding\": {\"x\": {\"field\": \"var_smoothing\", \"title\": \"Var. Smoothing\", \"type\": \"quantitative\"}, \"y\": {\"field\": \"test_score\", \"scale\": {\"zero\": false}, \"title\": \"Mean CV Score\", \"type\": \"quantitative\"}}, \"selection\": {\"selector001\": {\"type\": \"interval\", \"bind\": \"scales\", \"encodings\": [\"x\", \"y\"]}}, \"title\": \"NB Performance Comparison\", \"$schema\": \"https://vega.github.io/schema/vega-lite/v4.17.0.json\", \"datasets\": {\"data-056c8fe3d88d9ddcf22e86f305cc2747\": [{\"var_smoothing\": 1.0, \"test_score\": 0.26151152240972597}, {\"var_smoothing\": 0.8111308307896871, \"test_score\": 0.26151276394579265}, {\"var_smoothing\": 0.657933224657568, \"test_score\": 0.2584795003294846}, {\"var_smoothing\": 0.533669923120631, \"test_score\": 0.2565640011842344}, {\"var_smoothing\": 0.43287612810830584, \"test_score\": 0.2547286288666685}, {\"var_smoothing\": 0.3511191734215131, \"test_score\": 0.2530533191989227}, {\"var_smoothing\": 0.2848035868435802, \"test_score\": 0.25121756487025954}, {\"var_smoothing\": 0.23101297000831597, \"test_score\": 0.24922260741674543}, {\"var_smoothing\": 0.1873817422860384, \"test_score\": 0.24531224632075563}, {\"var_smoothing\": 0.15199110829529336, \"test_score\": 0.24203974825468677}, {\"var_smoothing\": 0.12328467394420659, \"test_score\": 0.2406035775339274}, {\"var_smoothing\": 0.1, \"test_score\": 0.2401245356177597}, {\"var_smoothing\": 0.08111308307896872, \"test_score\": 0.23964616222101254}, {\"var_smoothing\": 0.0657933224657568, \"test_score\": 0.23892836336895584}, {\"var_smoothing\": 0.0533669923120631, \"test_score\": 0.23852963928602125}, {\"var_smoothing\": 0.04328761281083057, \"test_score\": 0.2380507883754023}, {\"var_smoothing\": 0.03511191734215131, \"test_score\": 0.23717311787907436}, {\"var_smoothing\": 0.02848035868435802, \"test_score\": 0.23733279851779696}, {\"var_smoothing\": 0.02310129700083159, \"test_score\": 0.23773247762847513}, {\"var_smoothing\": 0.01873817422860384, \"test_score\": 0.23877001976907428}, {\"var_smoothing\": 0.01519911082952933, \"test_score\": 0.23869008394693866}, {\"var_smoothing\": 0.012328467394420659, \"test_score\": 0.23940826481009272}, {\"var_smoothing\": 0.01, \"test_score\": 0.23996724254839602}, {\"var_smoothing\": 0.008111308307896872, \"test_score\": 0.2405258382756019}, {\"var_smoothing\": 0.006579332246575682, \"test_score\": 0.2402865083230668}, {\"var_smoothing\": 0.005336699231206307, \"test_score\": 0.24052612478392493}, {\"var_smoothing\": 0.004328761281083057, \"test_score\": 0.2402866038258411}, {\"var_smoothing\": 0.003511191734215131, \"test_score\": 0.24044647547011241}, {\"var_smoothing\": 0.002848035868435802, \"test_score\": 0.24052622028669932}, {\"var_smoothing\": 0.0023101297000831605, \"test_score\": 0.240526411292248}, {\"var_smoothing\": 0.001873817422860383, \"test_score\": 0.2407660277531062}, {\"var_smoothing\": 0.0015199110829529332, \"test_score\": 0.24084577256969314}, {\"var_smoothing\": 0.0012328467394420659, \"test_score\": 0.24084577256969314}, {\"var_smoothing\": 0.001, \"test_score\": 0.24092551738628004}, {\"var_smoothing\": 0.0008111308307896872, \"test_score\": 0.24092551738628004}, {\"var_smoothing\": 0.0006579332246575676, \"test_score\": 0.24092551738628004}, {\"var_smoothing\": 0.0005336699231206307, \"test_score\": 0.24092551738628004}, {\"var_smoothing\": 0.0004328761281083057, \"test_score\": 0.2410850070194539}, {\"var_smoothing\": 0.0003511191734215131, \"test_score\": 0.2411647518360408}, {\"var_smoothing\": 0.0002848035868435802, \"test_score\": 0.2412445921554021}, {\"var_smoothing\": 0.0002310129700083158, \"test_score\": 0.24132443247476335}, {\"var_smoothing\": 0.0001873817422860383, \"test_score\": 0.2412445921554021}, {\"var_smoothing\": 0.0001519911082952933, \"test_score\": 0.24132443247476335}, {\"var_smoothing\": 0.0001232846739442066, \"test_score\": 0.2414839221079372}, {\"var_smoothing\": 0.0001, \"test_score\": 0.2415637624272985}, {\"var_smoothing\": 8.111308307896872e-05, \"test_score\": 0.2416436027466598}, {\"var_smoothing\": 6.579332246575683e-05, \"test_score\": 0.2416436027466598}, {\"var_smoothing\": 5.3366992312063123e-05, \"test_score\": 0.2416436027466598}, {\"var_smoothing\": 4.328761281083062e-05, \"test_score\": 0.24172344306602106}, {\"var_smoothing\": 3.511191734215127e-05, \"test_score\": 0.24188312370474366}, {\"var_smoothing\": 2.848035868435799e-05, \"test_score\": 0.24196296402410492}, {\"var_smoothing\": 2.310129700083158e-05, \"test_score\": 0.24196296402410492}, {\"var_smoothing\": 1.873817422860383e-05, \"test_score\": 0.24196296402410492}, {\"var_smoothing\": 1.5199110829529332e-05, \"test_score\": 0.24196296402410492}, {\"var_smoothing\": 1.2328467394420658e-05, \"test_score\": 0.24196296402410492}, {\"var_smoothing\": 1e-05, \"test_score\": 0.24196296402410492}, {\"var_smoothing\": 8.111308307896873e-06, \"test_score\": 0.24196296402410492}, {\"var_smoothing\": 6.579332246575683e-06, \"test_score\": 0.24196296402410492}, {\"var_smoothing\": 5.336699231206313e-06, \"test_score\": 0.24196296402410492}, {\"var_smoothing\": 4.328761281083053e-06, \"test_score\": 0.24196296402410492}, {\"var_smoothing\": 3.5111917342151275e-06, \"test_score\": 0.24196296402410492}, {\"var_smoothing\": 2.848035868435799e-06, \"test_score\": 0.24196296402410492}, {\"var_smoothing\": 2.310129700083158e-06, \"test_score\": 0.24196296402410492}, {\"var_smoothing\": 1.873817422860383e-06, \"test_score\": 0.24196296402410492}, {\"var_smoothing\": 1.519911082952933e-06, \"test_score\": 0.24196296402410492}, {\"var_smoothing\": 1.232846739442066e-06, \"test_score\": 0.24196296402410492}, {\"var_smoothing\": 1e-06, \"test_score\": 0.24196296402410492}, {\"var_smoothing\": 8.111308307896872e-07, \"test_score\": 0.24196296402410492}, {\"var_smoothing\": 6.579332246575682e-07, \"test_score\": 0.24196296402410492}, {\"var_smoothing\": 5.336699231206313e-07, \"test_score\": 0.24196296402410492}, {\"var_smoothing\": 4.3287612810830526e-07, \"test_score\": 0.24196296402410492}, {\"var_smoothing\": 3.5111917342151277e-07, \"test_score\": 0.24196296402410492}, {\"var_smoothing\": 2.848035868435799e-07, \"test_score\": 0.24196296402410492}, {\"var_smoothing\": 2.310129700083158e-07, \"test_score\": 0.24196296402410492}, {\"var_smoothing\": 1.873817422860383e-07, \"test_score\": 0.24196296402410492}, {\"var_smoothing\": 1.519911082952933e-07, \"test_score\": 0.24196296402410492}, {\"var_smoothing\": 1.232846739442066e-07, \"test_score\": 0.24196296402410492}, {\"var_smoothing\": 1e-07, \"test_score\": 0.24196296402410492}, {\"var_smoothing\": 8.111308307896873e-08, \"test_score\": 0.24196296402410492}, {\"var_smoothing\": 6.579332246575682e-08, \"test_score\": 0.24196296402410492}, {\"var_smoothing\": 5.336699231206302e-08, \"test_score\": 0.24196296402410492}, {\"var_smoothing\": 4.3287612810830526e-08, \"test_score\": 0.24196296402410492}, {\"var_smoothing\": 3.5111917342151277e-08, \"test_score\": 0.24196296402410492}, {\"var_smoothing\": 2.848035868435799e-08, \"test_score\": 0.24196296402410492}, {\"var_smoothing\": 2.310129700083158e-08, \"test_score\": 0.24196296402410492}, {\"var_smoothing\": 1.873817422860383e-08, \"test_score\": 0.24196296402410492}, {\"var_smoothing\": 1.519911082952933e-08, \"test_score\": 0.24196296402410492}, {\"var_smoothing\": 1.232846739442066e-08, \"test_score\": 0.24196296402410492}, {\"var_smoothing\": 1e-08, \"test_score\": 0.24196296402410492}, {\"var_smoothing\": 8.111308307896856e-09, \"test_score\": 0.24196296402410492}, {\"var_smoothing\": 6.579332246575682e-09, \"test_score\": 0.24196296402410492}, {\"var_smoothing\": 5.336699231206302e-09, \"test_score\": 0.24196296402410492}, {\"var_smoothing\": 4.328761281083061e-09, \"test_score\": 0.24196296402410492}, {\"var_smoothing\": 3.5111917342151273e-09, \"test_score\": 0.24196296402410492}, {\"var_smoothing\": 2.848035868435805e-09, \"test_score\": 0.24196296402410492}, {\"var_smoothing\": 2.310129700083158e-09, \"test_score\": 0.24196296402410492}, {\"var_smoothing\": 1.873817422860387e-09, \"test_score\": 0.24196296402410492}, {\"var_smoothing\": 1.519911082952933e-09, \"test_score\": 0.24196296402410492}, {\"var_smoothing\": 1.2328467394420635e-09, \"test_score\": 0.24196296402410492}, {\"var_smoothing\": 1e-09, \"test_score\": 0.24196296402410492}]}}, {\"mode\": \"vega-lite\"});\n",
       "</script>"
      ],
      "text/plain": [
       "alt.Chart(...)"
      ]
     },
     "execution_count": 82,
     "metadata": {},
     "output_type": "execute_result"
    }
   ],
   "source": [
    "alt.Chart(results_NB,\n",
    " title='NB Performance Comparison').mark_line(point=True).encode(\n",
    " alt.X('var_smoothing', title='Var. Smoothing'),\n",
    " alt.Y('test_score', title='Mean CV Score', scale=alt.Scale(zero=False))).interactive()"
   ]
  },
  {
   "cell_type": "code",
   "execution_count": null,
   "id": "9a247139",
   "metadata": {},
   "outputs": [
    {
     "name": "stdout",
     "output_type": "stream",
     "text": [
      "Fitting 15 folds for each of 24 candidates, totalling 360 fits\n"
     ]
    }
   ],
   "source": [
    "from sklearn.neural_network import MLPClassifier\n",
    "df_classifier = MLPClassifier(max_iter = 100)\n",
    "params_MLP = {'hidden_layer_sizes': [5, 10, 20],\n",
    " 'alpha': [0.0001, 0.001],\n",
    " 'solver': ['sgd', 'adam'],\n",
    " 'learning_rate': ['constant','adaptive']}\n",
    "cv_method = RepeatedStratifiedKFold(n_splits=5,\n",
    " n_repeats=3,\n",
    " random_state=999)\n",
    "gs_MLP = GridSearchCV(estimator=df_classifier,\n",
    " param_grid=params_MLP,\n",
    " cv=cv_method,\n",
    " verbose=1,\n",
    " scoring='accuracy')\n",
    "gs_MLP.fit(abl_rfi, target);"
   ]
  },
  {
   "cell_type": "code",
   "execution_count": 91,
   "id": "97e27320",
   "metadata": {},
   "outputs": [
    {
     "data": {
      "text/plain": [
       "{'alpha': 0.001,\n",
       " 'hidden_layer_sizes': 20,\n",
       " 'learning_rate': 'constant',\n",
       " 'solver': 'adam'}"
      ]
     },
     "execution_count": 91,
     "metadata": {},
     "output_type": "execute_result"
    }
   ],
   "source": [
    "gs_MLP.best_params_\n"
   ]
  },
  {
   "cell_type": "code",
   "execution_count": 92,
   "id": "554833a2",
   "metadata": {},
   "outputs": [
    {
     "data": {
      "text/plain": [
       "0.26781518303106705"
      ]
     },
     "execution_count": 92,
     "metadata": {},
     "output_type": "execute_result"
    }
   ],
   "source": [
    "gs_MLP.best_score_\n"
   ]
  },
  {
   "cell_type": "code",
   "execution_count": 93,
   "id": "95fe43aa",
   "metadata": {},
   "outputs": [],
   "source": [
    "results_MLP = pd.DataFrame(gs_MLP.cv_results_['params'])\n",
    "results_MLP['test_score'] = gs_MLP.cv_results_['mean_test_score']"
   ]
  },
  {
   "cell_type": "code",
   "execution_count": 94,
   "id": "117ee27e",
   "metadata": {},
   "outputs": [
    {
     "data": {
      "text/html": [
       "<div>\n",
       "<style scoped>\n",
       "    .dataframe tbody tr th:only-of-type {\n",
       "        vertical-align: middle;\n",
       "    }\n",
       "\n",
       "    .dataframe tbody tr th {\n",
       "        vertical-align: top;\n",
       "    }\n",
       "\n",
       "    .dataframe thead th {\n",
       "        text-align: right;\n",
       "    }\n",
       "</style>\n",
       "<table border=\"1\" class=\"dataframe\">\n",
       "  <thead>\n",
       "    <tr style=\"text-align: right;\">\n",
       "      <th></th>\n",
       "      <th>alpha</th>\n",
       "      <th>hidden_layer_sizes</th>\n",
       "      <th>learning_rate</th>\n",
       "      <th>solver</th>\n",
       "      <th>test_score</th>\n",
       "    </tr>\n",
       "  </thead>\n",
       "  <tbody>\n",
       "    <tr>\n",
       "      <th>0</th>\n",
       "      <td>0.0001</td>\n",
       "      <td>5</td>\n",
       "      <td>constant</td>\n",
       "      <td>sgd</td>\n",
       "      <td>0.172213</td>\n",
       "    </tr>\n",
       "    <tr>\n",
       "      <th>1</th>\n",
       "      <td>0.0001</td>\n",
       "      <td>5</td>\n",
       "      <td>constant</td>\n",
       "      <td>adam</td>\n",
       "      <td>0.241558</td>\n",
       "    </tr>\n",
       "    <tr>\n",
       "      <th>2</th>\n",
       "      <td>0.0001</td>\n",
       "      <td>5</td>\n",
       "      <td>adaptive</td>\n",
       "      <td>sgd</td>\n",
       "      <td>0.173812</td>\n",
       "    </tr>\n",
       "    <tr>\n",
       "      <th>3</th>\n",
       "      <td>0.0001</td>\n",
       "      <td>5</td>\n",
       "      <td>adaptive</td>\n",
       "      <td>adam</td>\n",
       "      <td>0.235013</td>\n",
       "    </tr>\n",
       "    <tr>\n",
       "      <th>4</th>\n",
       "      <td>0.0001</td>\n",
       "      <td>10</td>\n",
       "      <td>constant</td>\n",
       "      <td>sgd</td>\n",
       "      <td>0.177714</td>\n",
       "    </tr>\n",
       "    <tr>\n",
       "      <th>5</th>\n",
       "      <td>0.0001</td>\n",
       "      <td>10</td>\n",
       "      <td>constant</td>\n",
       "      <td>adam</td>\n",
       "      <td>0.252973</td>\n",
       "    </tr>\n",
       "    <tr>\n",
       "      <th>6</th>\n",
       "      <td>0.0001</td>\n",
       "      <td>10</td>\n",
       "      <td>adaptive</td>\n",
       "      <td>sgd</td>\n",
       "      <td>0.183070</td>\n",
       "    </tr>\n",
       "    <tr>\n",
       "      <th>7</th>\n",
       "      <td>0.0001</td>\n",
       "      <td>10</td>\n",
       "      <td>adaptive</td>\n",
       "      <td>adam</td>\n",
       "      <td>0.257280</td>\n",
       "    </tr>\n",
       "    <tr>\n",
       "      <th>8</th>\n",
       "      <td>0.0001</td>\n",
       "      <td>20</td>\n",
       "      <td>constant</td>\n",
       "      <td>sgd</td>\n",
       "      <td>0.181790</td>\n",
       "    </tr>\n",
       "    <tr>\n",
       "      <th>9</th>\n",
       "      <td>0.0001</td>\n",
       "      <td>20</td>\n",
       "      <td>constant</td>\n",
       "      <td>adam</td>\n",
       "      <td>0.263427</td>\n",
       "    </tr>\n",
       "    <tr>\n",
       "      <th>10</th>\n",
       "      <td>0.0001</td>\n",
       "      <td>20</td>\n",
       "      <td>adaptive</td>\n",
       "      <td>sgd</td>\n",
       "      <td>0.181624</td>\n",
       "    </tr>\n",
       "    <tr>\n",
       "      <th>11</th>\n",
       "      <td>0.0001</td>\n",
       "      <td>20</td>\n",
       "      <td>adaptive</td>\n",
       "      <td>adam</td>\n",
       "      <td>0.262229</td>\n",
       "    </tr>\n",
       "    <tr>\n",
       "      <th>12</th>\n",
       "      <td>0.0010</td>\n",
       "      <td>5</td>\n",
       "      <td>constant</td>\n",
       "      <td>sgd</td>\n",
       "      <td>0.173488</td>\n",
       "    </tr>\n",
       "    <tr>\n",
       "      <th>13</th>\n",
       "      <td>0.0010</td>\n",
       "      <td>5</td>\n",
       "      <td>constant</td>\n",
       "      <td>adam</td>\n",
       "      <td>0.239888</td>\n",
       "    </tr>\n",
       "    <tr>\n",
       "      <th>14</th>\n",
       "      <td>0.0010</td>\n",
       "      <td>5</td>\n",
       "      <td>adaptive</td>\n",
       "      <td>sgd</td>\n",
       "      <td>0.169899</td>\n",
       "    </tr>\n",
       "    <tr>\n",
       "      <th>15</th>\n",
       "      <td>0.0010</td>\n",
       "      <td>5</td>\n",
       "      <td>adaptive</td>\n",
       "      <td>adam</td>\n",
       "      <td>0.243714</td>\n",
       "    </tr>\n",
       "    <tr>\n",
       "      <th>16</th>\n",
       "      <td>0.0010</td>\n",
       "      <td>10</td>\n",
       "      <td>constant</td>\n",
       "      <td>sgd</td>\n",
       "      <td>0.177399</td>\n",
       "    </tr>\n",
       "    <tr>\n",
       "      <th>17</th>\n",
       "      <td>0.0010</td>\n",
       "      <td>10</td>\n",
       "      <td>constant</td>\n",
       "      <td>adam</td>\n",
       "      <td>0.253372</td>\n",
       "    </tr>\n",
       "    <tr>\n",
       "      <th>18</th>\n",
       "      <td>0.0010</td>\n",
       "      <td>10</td>\n",
       "      <td>adaptive</td>\n",
       "      <td>sgd</td>\n",
       "      <td>0.180112</td>\n",
       "    </tr>\n",
       "    <tr>\n",
       "      <th>19</th>\n",
       "      <td>0.0010</td>\n",
       "      <td>10</td>\n",
       "      <td>adaptive</td>\n",
       "      <td>adam</td>\n",
       "      <td>0.257362</td>\n",
       "    </tr>\n",
       "    <tr>\n",
       "      <th>20</th>\n",
       "      <td>0.0010</td>\n",
       "      <td>20</td>\n",
       "      <td>constant</td>\n",
       "      <td>sgd</td>\n",
       "      <td>0.185140</td>\n",
       "    </tr>\n",
       "    <tr>\n",
       "      <th>21</th>\n",
       "      <td>0.0010</td>\n",
       "      <td>20</td>\n",
       "      <td>constant</td>\n",
       "      <td>adam</td>\n",
       "      <td>0.267815</td>\n",
       "    </tr>\n",
       "    <tr>\n",
       "      <th>22</th>\n",
       "      <td>0.0010</td>\n",
       "      <td>20</td>\n",
       "      <td>adaptive</td>\n",
       "      <td>sgd</td>\n",
       "      <td>0.177798</td>\n",
       "    </tr>\n",
       "    <tr>\n",
       "      <th>23</th>\n",
       "      <td>0.0010</td>\n",
       "      <td>20</td>\n",
       "      <td>adaptive</td>\n",
       "      <td>adam</td>\n",
       "      <td>0.262070</td>\n",
       "    </tr>\n",
       "  </tbody>\n",
       "</table>\n",
       "</div>"
      ],
      "text/plain": [
       "     alpha  hidden_layer_sizes learning_rate solver  test_score\n",
       "0   0.0001                   5      constant    sgd    0.172213\n",
       "1   0.0001                   5      constant   adam    0.241558\n",
       "2   0.0001                   5      adaptive    sgd    0.173812\n",
       "3   0.0001                   5      adaptive   adam    0.235013\n",
       "4   0.0001                  10      constant    sgd    0.177714\n",
       "5   0.0001                  10      constant   adam    0.252973\n",
       "6   0.0001                  10      adaptive    sgd    0.183070\n",
       "7   0.0001                  10      adaptive   adam    0.257280\n",
       "8   0.0001                  20      constant    sgd    0.181790\n",
       "9   0.0001                  20      constant   adam    0.263427\n",
       "10  0.0001                  20      adaptive    sgd    0.181624\n",
       "11  0.0001                  20      adaptive   adam    0.262229\n",
       "12  0.0010                   5      constant    sgd    0.173488\n",
       "13  0.0010                   5      constant   adam    0.239888\n",
       "14  0.0010                   5      adaptive    sgd    0.169899\n",
       "15  0.0010                   5      adaptive   adam    0.243714\n",
       "16  0.0010                  10      constant    sgd    0.177399\n",
       "17  0.0010                  10      constant   adam    0.253372\n",
       "18  0.0010                  10      adaptive    sgd    0.180112\n",
       "19  0.0010                  10      adaptive   adam    0.257362\n",
       "20  0.0010                  20      constant    sgd    0.185140\n",
       "21  0.0010                  20      constant   adam    0.267815\n",
       "22  0.0010                  20      adaptive    sgd    0.177798\n",
       "23  0.0010                  20      adaptive   adam    0.262070"
      ]
     },
     "execution_count": 94,
     "metadata": {},
     "output_type": "execute_result"
    }
   ],
   "source": [
    "results_MLP\n"
   ]
  },
  {
   "cell_type": "code",
   "execution_count": 101,
   "id": "717b5066",
   "metadata": {},
   "outputs": [],
   "source": [
    "kf = KFold(n_splits=5,random_state=4,shuffle=True)"
   ]
  },
  {
   "cell_type": "code",
   "execution_count": 102,
   "id": "8e1e602d",
   "metadata": {},
   "outputs": [],
   "source": [
    "test = []\n",
    "prediction = []\n",
    "model = LinearRegression()\n",
    "for train_index,test_index in kf.split(abl_rfi):\n",
    " X_train,X_test = abl_rfi[train_index],abl_rfi[test_index]\n",
    " y_train, y_test = target.values[train_index], target.values[test_index]\n",
    " model.fit(X_train, y_train)\n",
    " pred = model.predict(X_test)\n",
    "\n",
    " prediction += [pred[x] for x in range(len(pred))]\n",
    " test += [y_test[x] for x in range(len(y_test))]\n"
   ]
  },
  {
   "cell_type": "code",
   "execution_count": 103,
   "id": "508cfb29",
   "metadata": {},
   "outputs": [],
   "source": [
    "error = mean_squared_error(test,prediction)"
   ]
  },
  {
   "cell_type": "code",
   "execution_count": 104,
   "id": "7e0d740b",
   "metadata": {},
   "outputs": [
    {
     "name": "stdout",
     "output_type": "stream",
     "text": [
      "5.014940726597975\n",
      "2.239406333517429\n"
     ]
    }
   ],
   "source": [
    "print(error) # mean squared error\n",
    "print(error**0.5) # root mean square"
   ]
  },
  {
   "cell_type": "code",
   "execution_count": 105,
   "id": "20344cd8",
   "metadata": {},
   "outputs": [],
   "source": [
    "test = []\n",
    "prediction = []\n",
    "model = LogisticRegression()\n",
    "for train_index,test_index in kf.split(abl_rfi):\n",
    " X_train,X_test = abl_rfi[train_index],abl_rfi[test_index]\n",
    " y_train, y_test = target.values[train_index], target.values[test_index]\n",
    " model.fit(X_train, y_train)\n",
    " pred = model.predict(X_test)\n",
    "\n",
    " prediction += [pred[x] for x in range(len(pred))]\n",
    " test += [y_test[x] for x in range(len(y_test))]"
   ]
  },
  {
   "cell_type": "code",
   "execution_count": 106,
   "id": "bc6d3d42",
   "metadata": {},
   "outputs": [
    {
     "name": "stdout",
     "output_type": "stream",
     "text": [
      "8.142686138376826\n",
      "2.853539230215142\n"
     ]
    }
   ],
   "source": [
    "error = mean_squared_error(test,prediction)\n",
    "print(error) # mean squared error\n",
    "print(error**0.5) # root mean square"
   ]
  },
  {
   "cell_type": "code",
   "execution_count": 107,
   "id": "14a597b8",
   "metadata": {},
   "outputs": [],
   "source": [
    "# LogisticRegression cross validation\n",
    "model = LogisticRegressionCV()\n",
    "cv_results_logic = cross_val_score(model,abl_rfi,target.values,cv = 5)"
   ]
  },
  {
   "cell_type": "code",
   "execution_count": 108,
   "id": "4d26ff24",
   "metadata": {},
   "outputs": [
    {
     "data": {
      "text/plain": [
       "nan"
      ]
     },
     "execution_count": 108,
     "metadata": {},
     "output_type": "execute_result"
    }
   ],
   "source": [
    "cv_results_logic.mean().round(4)\n"
   ]
  },
  {
   "cell_type": "code",
   "execution_count": 114,
   "id": "2fcddec4",
   "metadata": {},
   "outputs": [
    {
     "data": {
      "text/plain": [
       "0.2708413365001779"
      ]
     },
     "execution_count": 114,
     "metadata": {},
     "output_type": "execute_result"
    }
   ],
   "source": [
    "cv_method_ttest =RepeatedStratifiedKFold(n_splits=10,random_state=111)\n",
    "cv_results_KNN = cross_val_score(estimator=gs_KNN.best_estimator_,\n",
    " X=abl_rfi,\n",
    " y=target,\n",
    " cv=cv_method_ttest,\n",
    " n_jobs=-2,\n",
    " scoring='accuracy')\n",
    "cv_results_KNN.mean()"
   ]
  },
  {
   "cell_type": "code",
   "execution_count": 115,
   "id": "48383d9e",
   "metadata": {},
   "outputs": [
    {
     "data": {
      "text/plain": [
       "0.2659086319461177"
      ]
     },
     "execution_count": 115,
     "metadata": {},
     "output_type": "execute_result"
    }
   ],
   "source": [
    "cv_results_DT = cross_val_score(estimator=gs_DT.best_estimator_,\n",
    " X=abl_rfi,\n",
    " y=target,\n",
    " cv=cv_method_ttest,\n",
    " n_jobs=-2,\n",
    " scoring='accuracy')\n",
    "cv_results_DT.mean()"
   ]
  },
  {
   "cell_type": "code",
   "execution_count": 130,
   "id": "5678d75f",
   "metadata": {},
   "outputs": [
    {
     "data": {
      "text/plain": [
       "0.2712947345472904"
      ]
     },
     "execution_count": 130,
     "metadata": {},
     "output_type": "execute_result"
    }
   ],
   "source": [
    "cv_results_RF = cross_val_score(estimator=gs_RF.best_estimator_,\n",
    " X=abl_rfi,\n",
    " y=target,\n",
    " cv=cv_method_ttest,\n",
    " n_jobs=-2,\n",
    " scoring='accuracy')\n",
    "cv_results_RF.mean()"
   ]
  },
  {
   "cell_type": "code",
   "execution_count": 117,
   "id": "add8d2db",
   "metadata": {},
   "outputs": [
    {
     "data": {
      "text/plain": [
       "0.26353751448601886"
      ]
     },
     "execution_count": 117,
     "metadata": {},
     "output_type": "execute_result"
    }
   ],
   "source": [
    "cv_results_NB = cross_val_score(estimator=gs_NB.best_estimator_,\n",
    " X=abl_power_rfi,\n",
    " y=target,\n",
    " cv=cv_method_ttest,\n",
    " n_jobs=-2,\n",
    " scoring='accuracy')\n",
    "cv_results_NB.mean()\n"
   ]
  },
  {
   "cell_type": "code",
   "execution_count": 122,
   "id": "3756bea1",
   "metadata": {},
   "outputs": [
    {
     "data": {
      "text/plain": [
       "0.26686734822668184"
      ]
     },
     "execution_count": 122,
     "metadata": {},
     "output_type": "execute_result"
    }
   ],
   "source": [
    "cv_results_MLP = cross_val_score(estimator=gs_MLP.best_estimator_,\n",
    " X=abl_rfi,\n",
    " y=target,\n",
    " cv=cv_method_ttest,\n",
    " n_jobs=-2,\n",
    " scoring='accuracy')\n",
    "cv_results_MLP.mean()"
   ]
  },
  {
   "cell_type": "code",
   "execution_count": 131,
   "id": "faff6780",
   "metadata": {},
   "outputs": [
    {
     "name": "stdout",
     "output_type": "stream",
     "text": [
      "Ttest_relResult(statistic=0.26860114832087273, pvalue=0.7887955548866346)\n",
      "Ttest_relResult(statistic=3.781707590352918, pvalue=0.0002665945577405846)\n",
      "Ttest_relResult(statistic=5.10578508693678, pvalue=1.5977876104789314e-06)\n",
      "Ttest_relResult(statistic=2.7415655555323935, pvalue=0.007256894397391026)\n"
     ]
    }
   ],
   "source": [
    "print(stats.ttest_rel(cv_results_RF, cv_results_KNN))\n",
    "print(stats.ttest_rel(cv_results_RF, cv_results_DT))\n",
    "print(stats.ttest_rel(cv_results_RF, cv_results_NB))\n",
    "print(stats.ttest_rel(cv_results_RF, cv_results_MLP))\n"
   ]
  },
  {
   "cell_type": "code",
   "execution_count": 132,
   "id": "374b30c7",
   "metadata": {},
   "outputs": [],
   "source": [
    "pred_KNN = gs_KNN.predict(abl_rfi)\n",
    "pred_DT = gs_DT.predict(abl_rfi)\n",
    "pred_RF = gs_RF.predict(abl_rfi)\n",
    "pred_NB = gs_NB.predict(abl_power_rfi)\n",
    "pred_MLP = gs_MLP.predict(abl_rfi)"
   ]
  },
  {
   "cell_type": "code",
   "execution_count": 133,
   "id": "12ffab58",
   "metadata": {},
   "outputs": [
    {
     "name": "stdout",
     "output_type": "stream",
     "text": [
      "\n",
      "Classification report for Random Forest\n",
      "              precision    recall  f1-score   support\n",
      "\n",
      "           1       1.00      1.00      1.00         1\n",
      "           2       0.00      0.00      0.00         1\n",
      "           3       0.67      0.27      0.38        15\n",
      "           4       0.53      0.60      0.56        57\n",
      "           5       0.46      0.48      0.47       115\n",
      "           6       0.44      0.27      0.33       259\n",
      "           7       0.34      0.51      0.41       391\n",
      "           8       0.32      0.41      0.36       568\n",
      "           9       0.29      0.41      0.34       689\n",
      "          10       0.24      0.39      0.29       634\n",
      "          11       0.30      0.28      0.29       487\n",
      "          12       0.47      0.03      0.06       267\n",
      "          13       0.12      0.00      0.01       203\n",
      "          14       0.00      0.00      0.00       126\n",
      "          15       0.00      0.00      0.00       103\n",
      "          16       1.00      0.01      0.03        67\n",
      "          17       0.00      0.00      0.00        58\n",
      "          18       0.00      0.00      0.00        42\n",
      "          19       0.00      0.00      0.00        32\n",
      "          20       0.00      0.00      0.00        26\n",
      "          21       0.00      0.00      0.00        14\n",
      "          22       0.00      0.00      0.00         6\n",
      "          23       0.00      0.00      0.00         9\n",
      "          24       0.00      0.00      0.00         2\n",
      "          25       0.00      0.00      0.00         1\n",
      "          26       0.00      0.00      0.00         1\n",
      "          27       0.00      0.00      0.00         2\n",
      "          29       0.00      0.00      0.00         1\n",
      "\n",
      "    accuracy                           0.30      4177\n",
      "   macro avg       0.22      0.17      0.16      4177\n",
      "weighted avg       0.29      0.30      0.27      4177\n",
      "\n"
     ]
    }
   ],
   "source": [
    "#print(\"\\nClassification report for K-Nearest Neighbor\")\n",
    "#print(metrics.classification_report(target, pred_KNN))\n",
    "#print(\"\\nClassification report for Decision Tree\")\n",
    "#print(metrics.classification_report(target, pred_DT))\n",
    "print(\"\\nClassification report for Random Forest\")\n",
    "print(metrics.classification_report(target, pred_RF))\n",
    "#print(\"\\nClassification report for Gaussian Naive Bayes\")\n",
    "#print(metrics.classification_report(target, pred_NB))\n",
    "#print(\"\\nClassification report for Multi-layer Perceptron\")\n",
    "#print(metrics.classification_report(target, pred_MLP))"
   ]
  },
  {
   "cell_type": "code",
   "execution_count": 134,
   "id": "044bd2d2",
   "metadata": {},
   "outputs": [
    {
     "name": "stdout",
     "output_type": "stream",
     "text": [
      "\n",
      "Confusion matrix for K-Nearest Neighbor\n",
      "[[  1   0   0   0   0   0   0   0   0   0   0   0   0   0   0   0   0   0\n",
      "    0   0   0   0   0   0   0   0   0   0]\n",
      " [  0   0   1   0   0   0   0   0   0   0   0   0   0   0   0   0   0   0\n",
      "    0   0   0   0   0   0   0   0   0   0]\n",
      " [  0   0   4  11   0   0   0   0   0   0   0   0   0   0   0   0   0   0\n",
      "    0   0   0   0   0   0   0   0   0   0]\n",
      " [  0   0   1  34  16   5   1   0   0   0   0   0   0   0   0   0   0   0\n",
      "    0   0   0   0   0   0   0   0   0   0]\n",
      " [  0   0   0  15  55  27  18   0   0   0   0   0   0   0   0   0   0   0\n",
      "    0   0   0   0   0   0   0   0   0   0]\n",
      " [  0   0   0   2  29  69 126  26   5   2   0   0   0   0   0   0   0   0\n",
      "    0   0   0   0   0   0   0   0   0   0]\n",
      " [  0   0   0   2  13  27 201 116  28   3   1   0   0   0   0   0   0   0\n",
      "    0   0   0   0   0   0   0   0   0   0]\n",
      " [  0   0   0   0   6  11 101 235 167  45   3   0   0   0   0   0   0   0\n",
      "    0   0   0   0   0   0   0   0   0   0]\n",
      " [  0   0   0   0   0   9  60 148 280 158  34   0   0   0   0   0   0   0\n",
      "    0   0   0   0   0   0   0   0   0   0]\n",
      " [  0   0   0   0   0   5  37  82 183 246  79   1   1   0   0   0   0   0\n",
      "    0   0   0   0   0   0   0   0   0   0]\n",
      " [  0   0   0   0   0   4  19  45 109 172 136   1   1   0   0   0   0   0\n",
      "    0   0   0   0   0   0   0   0   0   0]\n",
      " [  0   0   0   0   0   0  11  33  62  95  57   8   1   0   0   0   0   0\n",
      "    0   0   0   0   0   0   0   0   0   0]\n",
      " [  0   0   0   0   0   1   3  25  43  88  41   1   1   0   0   0   0   0\n",
      "    0   0   0   0   0   0   0   0   0   0]\n",
      " [  0   0   0   0   0   0   3  11  32  56  21   3   0   0   0   0   0   0\n",
      "    0   0   0   0   0   0   0   0   0   0]\n",
      " [  0   0   0   0   0   0   2  10  27  46  18   0   0   0   0   0   0   0\n",
      "    0   0   0   0   0   0   0   0   0   0]\n",
      " [  0   0   0   0   0   0   1   4  12  33  16   0   0   0   0   1   0   0\n",
      "    0   0   0   0   0   0   0   0   0   0]\n",
      " [  0   0   0   0   0   0   0   1  11  29  15   2   0   0   0   0   0   0\n",
      "    0   0   0   0   0   0   0   0   0   0]\n",
      " [  0   0   0   0   0   0   1   2   6  23   9   0   1   0   0   0   0   0\n",
      "    0   0   0   0   0   0   0   0   0   0]\n",
      " [  0   0   0   0   0   0   0   0   5  17  10   0   0   0   0   0   0   0\n",
      "    0   0   0   0   0   0   0   0   0   0]\n",
      " [  0   0   0   0   0   0   0   0   2  16   7   0   1   0   0   0   0   0\n",
      "    0   0   0   0   0   0   0   0   0   0]\n",
      " [  0   0   0   0   0   0   0   1   2   6   5   0   0   0   0   0   0   0\n",
      "    0   0   0   0   0   0   0   0   0   0]\n",
      " [  0   0   0   0   0   0   0   0   3   0   3   0   0   0   0   0   0   0\n",
      "    0   0   0   0   0   0   0   0   0   0]\n",
      " [  0   0   0   0   0   0   0   0   1   6   0   1   1   0   0   0   0   0\n",
      "    0   0   0   0   0   0   0   0   0   0]\n",
      " [  0   0   0   0   0   0   0   0   0   0   2   0   0   0   0   0   0   0\n",
      "    0   0   0   0   0   0   0   0   0   0]\n",
      " [  0   0   0   0   0   0   0   0   0   1   0   0   0   0   0   0   0   0\n",
      "    0   0   0   0   0   0   0   0   0   0]\n",
      " [  0   0   0   0   0   0   0   0   0   1   0   0   0   0   0   0   0   0\n",
      "    0   0   0   0   0   0   0   0   0   0]\n",
      " [  0   0   0   0   0   0   0   0   0   0   1   0   1   0   0   0   0   0\n",
      "    0   0   0   0   0   0   0   0   0   0]\n",
      " [  0   0   0   0   0   0   0   0   0   0   1   0   0   0   0   0   0   0\n",
      "    0   0   0   0   0   0   0   0   0   0]]\n"
     ]
    }
   ],
   "source": [
    "print(\"\\nConfusion matrix for K-Nearest Neighbor\")\n",
    "print(metrics.confusion_matrix(target, pred_RF))"
   ]
  },
  {
   "cell_type": "code",
   "execution_count": 147,
   "id": "ba7ed4a6",
   "metadata": {},
   "outputs": [
    {
     "data": {
      "text/plain": [
       "['Abalon.pkl']"
      ]
     },
     "execution_count": 147,
     "metadata": {},
     "output_type": "execute_result"
    }
   ],
   "source": [
    "import joblib\n",
    "joblib.dump(gs_RF.best_estimator_,\"Abalon.pkl\")"
   ]
  },
  {
   "cell_type": "code",
   "execution_count": null,
   "id": "34bee645",
   "metadata": {},
   "outputs": [],
   "source": []
  },
  {
   "cell_type": "code",
   "execution_count": null,
   "id": "343bba01",
   "metadata": {},
   "outputs": [],
   "source": []
  }
 ],
 "metadata": {
  "kernelspec": {
   "display_name": "Python 3",
   "language": "python",
   "name": "python3"
  },
  "language_info": {
   "codemirror_mode": {
    "name": "ipython",
    "version": 3
   },
   "file_extension": ".py",
   "mimetype": "text/x-python",
   "name": "python",
   "nbconvert_exporter": "python",
   "pygments_lexer": "ipython3",
   "version": "3.8.8"
  }
 },
 "nbformat": 4,
 "nbformat_minor": 5
}
