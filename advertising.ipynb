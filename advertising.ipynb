{
 "cells": [
  {
   "cell_type": "code",
   "execution_count": 1,
   "id": "71c0d850",
   "metadata": {},
   "outputs": [],
   "source": [
    "import pandas as pd\t\t\t\t\t# data manipulation using dataframes\n",
    "import numpy as np\t\t\t\t\t# data statistical analysis\n",
    "\n",
    "import seaborn as sns\t\t\t\t# Statistical data visualization\n",
    "import matplotlib.pyplot as plt\t\t# data visualisation\n",
    "%matplotlib inline"
   ]
  },
  {
   "cell_type": "code",
   "execution_count": 2,
   "id": "1b220dad",
   "metadata": {},
   "outputs": [],
   "source": [
    "raw_df = pd.read_csv(\"advertising.csv\")"
   ]
  },
  {
   "cell_type": "code",
   "execution_count": 3,
   "id": "7315ad83",
   "metadata": {},
   "outputs": [],
   "source": [
    "df = raw_df.copy()"
   ]
  },
  {
   "cell_type": "code",
   "execution_count": 4,
   "id": "4fd4ee2c",
   "metadata": {},
   "outputs": [
    {
     "data": {
      "text/plain": [
       "(200, 5)"
      ]
     },
     "execution_count": 4,
     "metadata": {},
     "output_type": "execute_result"
    }
   ],
   "source": [
    "df.shape"
   ]
  },
  {
   "cell_type": "code",
   "execution_count": 5,
   "id": "ab93df01",
   "metadata": {},
   "outputs": [
    {
     "data": {
      "text/html": [
       "<div>\n",
       "<style scoped>\n",
       "    .dataframe tbody tr th:only-of-type {\n",
       "        vertical-align: middle;\n",
       "    }\n",
       "\n",
       "    .dataframe tbody tr th {\n",
       "        vertical-align: top;\n",
       "    }\n",
       "\n",
       "    .dataframe thead th {\n",
       "        text-align: right;\n",
       "    }\n",
       "</style>\n",
       "<table border=\"1\" class=\"dataframe\">\n",
       "  <thead>\n",
       "    <tr style=\"text-align: right;\">\n",
       "      <th></th>\n",
       "      <th>Unnamed: 0</th>\n",
       "      <th>TV</th>\n",
       "      <th>radio</th>\n",
       "      <th>newspaper</th>\n",
       "      <th>sales</th>\n",
       "    </tr>\n",
       "  </thead>\n",
       "  <tbody>\n",
       "    <tr>\n",
       "      <th>0</th>\n",
       "      <td>1</td>\n",
       "      <td>230.1</td>\n",
       "      <td>37.8</td>\n",
       "      <td>69.2</td>\n",
       "      <td>22.1</td>\n",
       "    </tr>\n",
       "    <tr>\n",
       "      <th>1</th>\n",
       "      <td>2</td>\n",
       "      <td>44.5</td>\n",
       "      <td>39.3</td>\n",
       "      <td>45.1</td>\n",
       "      <td>10.4</td>\n",
       "    </tr>\n",
       "    <tr>\n",
       "      <th>2</th>\n",
       "      <td>3</td>\n",
       "      <td>17.2</td>\n",
       "      <td>45.9</td>\n",
       "      <td>69.3</td>\n",
       "      <td>9.3</td>\n",
       "    </tr>\n",
       "    <tr>\n",
       "      <th>3</th>\n",
       "      <td>4</td>\n",
       "      <td>151.5</td>\n",
       "      <td>41.3</td>\n",
       "      <td>58.5</td>\n",
       "      <td>18.5</td>\n",
       "    </tr>\n",
       "    <tr>\n",
       "      <th>4</th>\n",
       "      <td>5</td>\n",
       "      <td>180.8</td>\n",
       "      <td>10.8</td>\n",
       "      <td>58.4</td>\n",
       "      <td>12.9</td>\n",
       "    </tr>\n",
       "  </tbody>\n",
       "</table>\n",
       "</div>"
      ],
      "text/plain": [
       "   Unnamed: 0     TV  radio  newspaper  sales\n",
       "0           1  230.1   37.8       69.2   22.1\n",
       "1           2   44.5   39.3       45.1   10.4\n",
       "2           3   17.2   45.9       69.3    9.3\n",
       "3           4  151.5   41.3       58.5   18.5\n",
       "4           5  180.8   10.8       58.4   12.9"
      ]
     },
     "execution_count": 5,
     "metadata": {},
     "output_type": "execute_result"
    }
   ],
   "source": [
    "df.head()"
   ]
  },
  {
   "cell_type": "code",
   "execution_count": 6,
   "id": "956a5210",
   "metadata": {},
   "outputs": [
    {
     "data": {
      "text/html": [
       "<div>\n",
       "<style scoped>\n",
       "    .dataframe tbody tr th:only-of-type {\n",
       "        vertical-align: middle;\n",
       "    }\n",
       "\n",
       "    .dataframe tbody tr th {\n",
       "        vertical-align: top;\n",
       "    }\n",
       "\n",
       "    .dataframe thead th {\n",
       "        text-align: right;\n",
       "    }\n",
       "</style>\n",
       "<table border=\"1\" class=\"dataframe\">\n",
       "  <thead>\n",
       "    <tr style=\"text-align: right;\">\n",
       "      <th></th>\n",
       "      <th>Unnamed: 0</th>\n",
       "      <th>TV</th>\n",
       "      <th>radio</th>\n",
       "      <th>newspaper</th>\n",
       "      <th>sales</th>\n",
       "    </tr>\n",
       "  </thead>\n",
       "  <tbody>\n",
       "    <tr>\n",
       "      <th>195</th>\n",
       "      <td>196</td>\n",
       "      <td>38.2</td>\n",
       "      <td>3.7</td>\n",
       "      <td>13.8</td>\n",
       "      <td>7.6</td>\n",
       "    </tr>\n",
       "    <tr>\n",
       "      <th>196</th>\n",
       "      <td>197</td>\n",
       "      <td>94.2</td>\n",
       "      <td>4.9</td>\n",
       "      <td>8.1</td>\n",
       "      <td>9.7</td>\n",
       "    </tr>\n",
       "    <tr>\n",
       "      <th>197</th>\n",
       "      <td>198</td>\n",
       "      <td>177.0</td>\n",
       "      <td>9.3</td>\n",
       "      <td>6.4</td>\n",
       "      <td>12.8</td>\n",
       "    </tr>\n",
       "    <tr>\n",
       "      <th>198</th>\n",
       "      <td>199</td>\n",
       "      <td>283.6</td>\n",
       "      <td>42.0</td>\n",
       "      <td>66.2</td>\n",
       "      <td>25.5</td>\n",
       "    </tr>\n",
       "    <tr>\n",
       "      <th>199</th>\n",
       "      <td>200</td>\n",
       "      <td>232.1</td>\n",
       "      <td>8.6</td>\n",
       "      <td>8.7</td>\n",
       "      <td>13.4</td>\n",
       "    </tr>\n",
       "  </tbody>\n",
       "</table>\n",
       "</div>"
      ],
      "text/plain": [
       "     Unnamed: 0     TV  radio  newspaper  sales\n",
       "195         196   38.2    3.7       13.8    7.6\n",
       "196         197   94.2    4.9        8.1    9.7\n",
       "197         198  177.0    9.3        6.4   12.8\n",
       "198         199  283.6   42.0       66.2   25.5\n",
       "199         200  232.1    8.6        8.7   13.4"
      ]
     },
     "execution_count": 6,
     "metadata": {},
     "output_type": "execute_result"
    }
   ],
   "source": [
    "df.tail()"
   ]
  },
  {
   "cell_type": "code",
   "execution_count": 7,
   "id": "61b61086",
   "metadata": {},
   "outputs": [
    {
     "name": "stdout",
     "output_type": "stream",
     "text": [
      "<class 'pandas.core.frame.DataFrame'>\n",
      "RangeIndex: 200 entries, 0 to 199\n",
      "Data columns (total 5 columns):\n",
      " #   Column      Non-Null Count  Dtype  \n",
      "---  ------      --------------  -----  \n",
      " 0   Unnamed: 0  200 non-null    int64  \n",
      " 1   TV          200 non-null    float64\n",
      " 2   radio       200 non-null    float64\n",
      " 3   newspaper   200 non-null    float64\n",
      " 4   sales       200 non-null    float64\n",
      "dtypes: float64(4), int64(1)\n",
      "memory usage: 7.9 KB\n"
     ]
    }
   ],
   "source": [
    "df.info()"
   ]
  },
  {
   "cell_type": "code",
   "execution_count": 8,
   "id": "28831bae",
   "metadata": {},
   "outputs": [
    {
     "data": {
      "text/html": [
       "<div>\n",
       "<style scoped>\n",
       "    .dataframe tbody tr th:only-of-type {\n",
       "        vertical-align: middle;\n",
       "    }\n",
       "\n",
       "    .dataframe tbody tr th {\n",
       "        vertical-align: top;\n",
       "    }\n",
       "\n",
       "    .dataframe thead th {\n",
       "        text-align: right;\n",
       "    }\n",
       "</style>\n",
       "<table border=\"1\" class=\"dataframe\">\n",
       "  <thead>\n",
       "    <tr style=\"text-align: right;\">\n",
       "      <th></th>\n",
       "      <th>Unnamed: 0</th>\n",
       "      <th>TV</th>\n",
       "      <th>radio</th>\n",
       "      <th>newspaper</th>\n",
       "      <th>sales</th>\n",
       "    </tr>\n",
       "  </thead>\n",
       "  <tbody>\n",
       "    <tr>\n",
       "      <th>count</th>\n",
       "      <td>200.000000</td>\n",
       "      <td>200.000000</td>\n",
       "      <td>200.000000</td>\n",
       "      <td>200.000000</td>\n",
       "      <td>200.000000</td>\n",
       "    </tr>\n",
       "    <tr>\n",
       "      <th>mean</th>\n",
       "      <td>100.500000</td>\n",
       "      <td>147.042500</td>\n",
       "      <td>23.264000</td>\n",
       "      <td>30.554000</td>\n",
       "      <td>14.022500</td>\n",
       "    </tr>\n",
       "    <tr>\n",
       "      <th>std</th>\n",
       "      <td>57.879185</td>\n",
       "      <td>85.854236</td>\n",
       "      <td>14.846809</td>\n",
       "      <td>21.778621</td>\n",
       "      <td>5.217457</td>\n",
       "    </tr>\n",
       "    <tr>\n",
       "      <th>min</th>\n",
       "      <td>1.000000</td>\n",
       "      <td>0.700000</td>\n",
       "      <td>0.000000</td>\n",
       "      <td>0.300000</td>\n",
       "      <td>1.600000</td>\n",
       "    </tr>\n",
       "    <tr>\n",
       "      <th>25%</th>\n",
       "      <td>50.750000</td>\n",
       "      <td>74.375000</td>\n",
       "      <td>9.975000</td>\n",
       "      <td>12.750000</td>\n",
       "      <td>10.375000</td>\n",
       "    </tr>\n",
       "    <tr>\n",
       "      <th>50%</th>\n",
       "      <td>100.500000</td>\n",
       "      <td>149.750000</td>\n",
       "      <td>22.900000</td>\n",
       "      <td>25.750000</td>\n",
       "      <td>12.900000</td>\n",
       "    </tr>\n",
       "    <tr>\n",
       "      <th>75%</th>\n",
       "      <td>150.250000</td>\n",
       "      <td>218.825000</td>\n",
       "      <td>36.525000</td>\n",
       "      <td>45.100000</td>\n",
       "      <td>17.400000</td>\n",
       "    </tr>\n",
       "    <tr>\n",
       "      <th>max</th>\n",
       "      <td>200.000000</td>\n",
       "      <td>296.400000</td>\n",
       "      <td>49.600000</td>\n",
       "      <td>114.000000</td>\n",
       "      <td>27.000000</td>\n",
       "    </tr>\n",
       "  </tbody>\n",
       "</table>\n",
       "</div>"
      ],
      "text/plain": [
       "       Unnamed: 0          TV       radio   newspaper       sales\n",
       "count  200.000000  200.000000  200.000000  200.000000  200.000000\n",
       "mean   100.500000  147.042500   23.264000   30.554000   14.022500\n",
       "std     57.879185   85.854236   14.846809   21.778621    5.217457\n",
       "min      1.000000    0.700000    0.000000    0.300000    1.600000\n",
       "25%     50.750000   74.375000    9.975000   12.750000   10.375000\n",
       "50%    100.500000  149.750000   22.900000   25.750000   12.900000\n",
       "75%    150.250000  218.825000   36.525000   45.100000   17.400000\n",
       "max    200.000000  296.400000   49.600000  114.000000   27.000000"
      ]
     },
     "execution_count": 8,
     "metadata": {},
     "output_type": "execute_result"
    }
   ],
   "source": [
    "df.describe()"
   ]
  },
  {
   "cell_type": "code",
   "execution_count": 9,
   "id": "3a96cc75",
   "metadata": {},
   "outputs": [
    {
     "data": {
      "text/plain": [
       "<AxesSubplot:>"
      ]
     },
     "execution_count": 9,
     "metadata": {},
     "output_type": "execute_result"
    },
    {
     "data": {
      "image/png": "[encoded data removed]",
      "text/plain": [
       "<Figure size 432x288 with 1 Axes>"
      ]
     },
     "metadata": {
      "needs_background": "light"
     },
     "output_type": "display_data"
    }
   ],
   "source": [
    "sns.heatmap(df.isnull(), yticklabels = False, cbar = False, cmap = 'Blues' )"
   ]
  },
  {
   "cell_type": "code",
   "execution_count": 10,
   "id": "ebabcffb",
   "metadata": {},
   "outputs": [
    {
     "data": {
      "text/plain": [
       "Unnamed: 0    0\n",
       "TV            0\n",
       "radio         0\n",
       "newspaper     0\n",
       "sales         0\n",
       "dtype: int64"
      ]
     },
     "execution_count": 10,
     "metadata": {},
     "output_type": "execute_result"
    }
   ],
   "source": [
    "df.isnull().sum()"
   ]
  },
  {
   "cell_type": "markdown",
   "id": "725ce174",
   "metadata": {},
   "source": [
    "There are no null values so we can proceed"
   ]
  },
  {
   "cell_type": "code",
   "execution_count": 11,
   "id": "eb8944b4",
   "metadata": {},
   "outputs": [],
   "source": [
    "df=df.drop('Unnamed: 0',axis=1)"
   ]
  },
  {
   "cell_type": "markdown",
   "id": "d4fdde64",
   "metadata": {},
   "source": [
    "here we drop unnecessary column."
   ]
  },
  {
   "cell_type": "code",
   "execution_count": 12,
   "id": "85c1cfad",
   "metadata": {},
   "outputs": [
    {
     "data": {
      "text/plain": [
       "Index(['TV', 'radio', 'newspaper', 'sales'], dtype='object')"
      ]
     },
     "execution_count": 12,
     "metadata": {},
     "output_type": "execute_result"
    }
   ],
   "source": [
    "df.columns"
   ]
  },
  {
   "cell_type": "markdown",
   "id": "7399b003",
   "metadata": {},
   "source": [
    "# EDA"
   ]
  },
  {
   "cell_type": "code",
   "execution_count": 13,
   "id": "04ff2eff",
   "metadata": {},
   "outputs": [
    {
     "data": {
      "text/plain": [
       "<AxesSubplot:xlabel='TV', ylabel='sales'>"
      ]
     },
     "execution_count": 13,
     "metadata": {},
     "output_type": "execute_result"
    },
    {
     "data": {
      "image/png": "[encoded data removed]",
      "text/plain": [
       "<Figure size 432x288 with 1 Axes>"
      ]
     },
     "metadata": {
      "needs_background": "light"
     },
     "output_type": "display_data"
    }
   ],
   "source": [
    "import seaborn as sns\n",
    "sns.scatterplot(x=\"TV\",y=\"sales\",data=df)"
   ]
  },
  {
   "cell_type": "markdown",
   "id": "e6ef08b4",
   "metadata": {},
   "source": [
    "We observe that TV and sales both increase simultaneously."
   ]
  },
  {
   "cell_type": "code",
   "execution_count": 19,
   "id": "0b2a6be8",
   "metadata": {},
   "outputs": [
    {
     "data": {
      "text/plain": [
       "<AxesSubplot:xlabel='radio', ylabel='sales'>"
      ]
     },
     "execution_count": 19,
     "metadata": {},
     "output_type": "execute_result"
    },
    {
     "data": {
      "image/png": "[encoded data removed]",
      "text/plain": [
       "<Figure size 432x288 with 1 Axes>"
      ]
     },
     "metadata": {
      "needs_background": "light"
     },
     "output_type": "display_data"
    }
   ],
   "source": [
    "import seaborn as sns\n",
    "sns.scatterplot(x=\"radio\",y=\"sales\",data=df)"
   ]
  },
  {
   "cell_type": "markdown",
   "id": "dbb5afd8",
   "metadata": {},
   "source": [
    "The ratio of radio and sales are equally increasing. "
   ]
  },
  {
   "cell_type": "code",
   "execution_count": 20,
   "id": "3bc24e13",
   "metadata": {},
   "outputs": [
    {
     "data": {
      "text/plain": [
       "<AxesSubplot:xlabel='newspaper', ylabel='sales'>"
      ]
     },
     "execution_count": 20,
     "metadata": {},
     "output_type": "execute_result"
    },
    {
     "data": {
      "image/png": "[encoded data removed]",
      "text/plain": [
       "<Figure size 432x288 with 1 Axes>"
      ]
     },
     "metadata": {
      "needs_background": "light"
     },
     "output_type": "display_data"
    }
   ],
   "source": [
    "import seaborn as sns\n",
    "sns.scatterplot(x=\"newspaper\",y=\"sales\",data=df)"
   ]
  },
  {
   "cell_type": "markdown",
   "id": "967f3246",
   "metadata": {},
   "source": [
    "The range of newspaper between 0 to 60 is having almost sales."
   ]
  },
  {
   "cell_type": "code",
   "execution_count": 21,
   "id": "e9041b47",
   "metadata": {},
   "outputs": [
    {
     "data": {
      "text/plain": [
       "TV          -0.069853\n",
       "radio        0.094175\n",
       "newspaper    0.894720\n",
       "sales        0.407571\n",
       "dtype: float64"
      ]
     },
     "execution_count": 21,
     "metadata": {},
     "output_type": "execute_result"
    }
   ],
   "source": [
    "df.skew()"
   ]
  },
  {
   "cell_type": "markdown",
   "id": "124bcf6a",
   "metadata": {},
   "source": [
    "There is no need to remove skewness."
   ]
  },
  {
   "cell_type": "markdown",
   "id": "ae6aedf6",
   "metadata": {},
   "source": [
    "# OUTLIERS"
   ]
  },
  {
   "cell_type": "code",
   "execution_count": 22,
   "id": "747888c7",
   "metadata": {},
   "outputs": [
    {
     "name": "stderr",
     "output_type": "stream",
     "text": [
      "C:\\Users\\Prachi\\anaconda3\\lib\\site-packages\\seaborn\\_decorators.py:36: FutureWarning: Pass the following variable as a keyword arg: x. From version 0.12, the only valid positional argument will be `data`, and passing other arguments without an explicit keyword will result in an error or misinterpretation.\n",
      "  warnings.warn(\n",
      "C:\\Users\\Prachi\\anaconda3\\lib\\site-packages\\seaborn\\_decorators.py:36: FutureWarning: Pass the following variable as a keyword arg: x. From version 0.12, the only valid positional argument will be `data`, and passing other arguments without an explicit keyword will result in an error or misinterpretation.\n",
      "  warnings.warn(\n",
      "C:\\Users\\Prachi\\anaconda3\\lib\\site-packages\\seaborn\\_decorators.py:36: FutureWarning: Pass the following variable as a keyword arg: x. From version 0.12, the only valid positional argument will be `data`, and passing other arguments without an explicit keyword will result in an error or misinterpretation.\n",
      "  warnings.warn(\n"
     ]
    },
    {
     "data": {
      "image/png": "[encoded data removed]",
      "text/plain": [
       "<Figure size 360x360 with 3 Axes>"
      ]
     },
     "metadata": {
      "needs_background": "light"
     },
     "output_type": "display_data"
    }
   ],
   "source": [
    "fig, axs = plt.subplots(3, figsize = (5,5))\n",
    "plt1 = sns.boxplot(df['TV'], ax = axs[0])\n",
    "plt2 = sns.boxplot(df['newspaper'], ax = axs[1])\n",
    "plt3 = sns.boxplot(df['radio'], ax = axs[2])\n",
    "plt.tight_layout()"
   ]
  },
  {
   "cell_type": "code",
   "execution_count": 23,
   "id": "bfe36f4c",
   "metadata": {},
   "outputs": [
    {
     "name": "stderr",
     "output_type": "stream",
     "text": [
      "C:\\Users\\Prachi\\anaconda3\\lib\\site-packages\\seaborn\\_decorators.py:36: FutureWarning: Pass the following variable as a keyword arg: x. From version 0.12, the only valid positional argument will be `data`, and passing other arguments without an explicit keyword will result in an error or misinterpretation.\n",
      "  warnings.warn(\n"
     ]
    },
    {
     "data": {
      "image/png": "[encoded data removed]",
      "text/plain": [
       "<Figure size 432x288 with 1 Axes>"
      ]
     },
     "metadata": {
      "needs_background": "light"
     },
     "output_type": "display_data"
    }
   ],
   "source": [
    "sns.boxplot(df['sales'])\n",
    "plt.show()"
   ]
  },
  {
   "cell_type": "markdown",
   "id": "f539cb12",
   "metadata": {},
   "source": [
    "No outliers are present. so we can proceed."
   ]
  },
  {
   "cell_type": "code",
   "execution_count": 24,
   "id": "d323036a",
   "metadata": {},
   "outputs": [
    {
     "data": {
      "image/png": "[encoded data removed]",
      "text/plain": [
       "<Figure size 720x720 with 4 Axes>"
      ]
     },
     "metadata": {
      "needs_background": "light"
     },
     "output_type": "display_data"
    }
   ],
   "source": [
    "# to check all variables at once\n",
    "\n",
    "df.hist( bins = 10, figsize = (10,10))\n",
    "plt.show()"
   ]
  },
  {
   "cell_type": "code",
   "execution_count": 25,
   "id": "e55ab3a7",
   "metadata": {},
   "outputs": [
    {
     "data": {
      "image/png": "[encoded data removed]",
      "text/plain": [
       "<Figure size 720x720 with 20 Axes>"
      ]
     },
     "metadata": {
      "needs_background": "light"
     },
     "output_type": "display_data"
    }
   ],
   "source": [
    "sns.pairplot(df, height=2.5)\n",
    "plt.show()"
   ]
  },
  {
   "cell_type": "markdown",
   "id": "51d5fbe3",
   "metadata": {},
   "source": [
    "# Correlation"
   ]
  },
  {
   "cell_type": "code",
   "execution_count": 26,
   "id": "0a3359a7",
   "metadata": {},
   "outputs": [
    {
     "data": {
      "text/plain": [
       "<AxesSubplot:>"
      ]
     },
     "execution_count": 26,
     "metadata": {},
     "output_type": "execute_result"
    },
    {
     "data": {
      "image/png": "[encoded data removed]",
      "text/plain": [
       "<Figure size 432x288 with 2 Axes>"
      ]
     },
     "metadata": {
      "needs_background": "light"
     },
     "output_type": "display_data"
    }
   ],
   "source": [
    "# Calculate correlations\n",
    "corr = df.corr()\n",
    " \n",
    "# Heatmap\n",
    "sns.heatmap(corr,  annot=True, fmt=\".2f\")"
   ]
  },
  {
   "cell_type": "markdown",
   "id": "a31d58b4",
   "metadata": {},
   "source": [
    "Sales column is highly correlated with TV and less correlated with newspaper."
   ]
  },
  {
   "cell_type": "markdown",
   "id": "b8ffdf5a",
   "metadata": {},
   "source": [
    "# Scalling the data using Min-Max Scaler"
   ]
  },
  {
   "cell_type": "code",
   "execution_count": 27,
   "id": "a07a3991",
   "metadata": {},
   "outputs": [],
   "source": [
    "### Define X&Y ###\n",
    "\n",
    "x = df.iloc[:, :-1].values\n",
    "y = df.iloc[:, -1].values"
   ]
  },
  {
   "cell_type": "code",
   "execution_count": 28,
   "id": "ee9d86e1",
   "metadata": {},
   "outputs": [
    {
     "data": {
      "text/plain": [
       "(200, 3)"
      ]
     },
     "execution_count": 28,
     "metadata": {},
     "output_type": "execute_result"
    }
   ],
   "source": [
    "x.shape"
   ]
  },
  {
   "cell_type": "code",
   "execution_count": 29,
   "id": "216b6c27",
   "metadata": {},
   "outputs": [
    {
     "data": {
      "text/plain": [
       "(200,)"
      ]
     },
     "execution_count": 29,
     "metadata": {},
     "output_type": "execute_result"
    }
   ],
   "source": [
    "y.shape"
   ]
  },
  {
   "cell_type": "code",
   "execution_count": 30,
   "id": "b736b1c2",
   "metadata": {},
   "outputs": [],
   "source": [
    "from sklearn.preprocessing import MinMaxScaler\n",
    "mms=MinMaxScaler()\n",
    "from sklearn.linear_model import LinearRegression\n",
    "lr=LinearRegression()\n",
    "from sklearn.metrics import r2_score\n",
    "from sklearn.metrics import confusion_matrix,classification_report\n",
    "from sklearn.model_selection import train_test_split"
   ]
  },
  {
   "cell_type": "markdown",
   "id": "c54439d8",
   "metadata": {},
   "source": [
    "# Traing and Testing the Model"
   ]
  },
  {
   "cell_type": "code",
   "execution_count": 31,
   "id": "3df522bd",
   "metadata": {},
   "outputs": [
    {
     "name": "stdout",
     "output_type": "stream",
     "text": [
      "At random state 0,the training accuracy is:- 0.9067114990146383\n",
      "At random state 0,the testing accuracy is:- 0.8601145185017869\n",
      "\n",
      "\n",
      "At random state 1,the training accuracy is:- 0.8959372632325174\n",
      "At random state 1,the testing accuracy is:- 0.8927605914615386\n",
      "\n",
      "\n",
      "At random state 2,the training accuracy is:- 0.9151707412454462\n",
      "At random state 2,the testing accuracy is:- 0.7575894500772722\n",
      "\n",
      "\n",
      "At random state 3,the training accuracy is:- 0.8930288385772915\n",
      "At random state 3,the testing accuracy is:- 0.9138375011080566\n",
      "\n",
      "\n",
      "At random state 4,the training accuracy is:- 0.8911672911176578\n",
      "At random state 4,the testing accuracy is:- 0.9085774752313167\n",
      "\n",
      "\n",
      "At random state 5,the training accuracy is:- 0.8956962280033929\n",
      "At random state 5,the testing accuracy is:- 0.8984204533332627\n",
      "\n",
      "\n",
      "At random state 6,the training accuracy is:- 0.8915418760966582\n",
      "At random state 6,the testing accuracy is:- 0.9224333473922028\n",
      "\n",
      "\n",
      "At random state 7,the training accuracy is:- 0.8929164670647455\n",
      "At random state 7,the testing accuracy is:- 0.9095550600904052\n",
      "\n",
      "\n",
      "At random state 8,the training accuracy is:- 0.9088025724048052\n",
      "At random state 8,the testing accuracy is:- 0.8460595754263389\n",
      "\n",
      "\n",
      "At random state 9,the training accuracy is:- 0.8897851719766416\n",
      "At random state 9,the testing accuracy is:- 0.9256258465335008\n",
      "\n",
      "\n",
      "At random state 10,the training accuracy is:- 0.9209087553499528\n",
      "At random state 10,the testing accuracy is:- 0.8353672324670595\n",
      "\n",
      "\n",
      "At random state 11,the training accuracy is:- 0.9111583949248847\n",
      "At random state 11,the testing accuracy is:- 0.8449174816183896\n",
      "\n",
      "\n",
      "At random state 12,the training accuracy is:- 0.891451009902517\n",
      "At random state 12,the testing accuracy is:- 0.9125583321991081\n",
      "\n",
      "\n",
      "At random state 13,the training accuracy is:- 0.8869244310370576\n",
      "At random state 13,the testing accuracy is:- 0.9308589334107374\n",
      "\n",
      "\n",
      "At random state 14,the training accuracy is:- 0.908635420499295\n",
      "At random state 14,the testing accuracy is:- 0.8549663199763198\n",
      "\n",
      "\n",
      "At random state 15,the training accuracy is:- 0.8935846767022744\n",
      "At random state 15,the testing accuracy is:- 0.9064939179490465\n",
      "\n",
      "\n",
      "At random state 16,the training accuracy is:- 0.892634156753275\n",
      "At random state 16,the testing accuracy is:- 0.9186425380311198\n",
      "\n",
      "\n",
      "At random state 17,the training accuracy is:- 0.911643850109681\n",
      "At random state 17,the testing accuracy is:- 0.8266375240641093\n",
      "\n",
      "\n",
      "At random state 18,the training accuracy is:- 0.9058350355666276\n",
      "At random state 18,the testing accuracy is:- 0.8691428348137914\n",
      "\n",
      "\n",
      "At random state 19,the training accuracy is:- 0.8936653113157833\n",
      "At random state 19,the testing accuracy is:- 0.9034108801676057\n",
      "\n",
      "\n",
      "At random state 20,the training accuracy is:- 0.8939415029759354\n",
      "At random state 20,the testing accuracy is:- 0.9032049399335234\n",
      "\n",
      "\n",
      "At random state 21,the training accuracy is:- 0.8876272528162705\n",
      "At random state 21,the testing accuracy is:- 0.9220737408493859\n",
      "\n",
      "\n",
      "At random state 22,the training accuracy is:- 0.8899965075887379\n",
      "At random state 22,the testing accuracy is:- 0.9182667532378175\n",
      "\n",
      "\n",
      "At random state 23,the training accuracy is:- 0.8921659364123988\n",
      "At random state 23,the testing accuracy is:- 0.9102042211897309\n",
      "\n",
      "\n",
      "At random state 24,the training accuracy is:- 0.8946529864968562\n",
      "At random state 24,the testing accuracy is:- 0.9043170168345028\n",
      "\n",
      "\n",
      "At random state 25,the training accuracy is:- 0.9007883778149751\n",
      "At random state 25,the testing accuracy is:- 0.8738569641880867\n",
      "\n",
      "\n",
      "At random state 26,the training accuracy is:- 0.8998325917728893\n",
      "At random state 26,the testing accuracy is:- 0.8756915597547018\n",
      "\n",
      "\n",
      "At random state 27,the training accuracy is:- 0.8947281937728895\n",
      "At random state 27,the testing accuracy is:- 0.9064360707520688\n",
      "\n",
      "\n",
      "At random state 28,the training accuracy is:- 0.899682102176431\n",
      "At random state 28,the testing accuracy is:- 0.884139581646469\n",
      "\n",
      "\n",
      "At random state 29,the training accuracy is:- 0.8896422572594603\n",
      "At random state 29,the testing accuracy is:- 0.9124795091328944\n",
      "\n",
      "\n",
      "At random state 30,the training accuracy is:- 0.8933633451302291\n",
      "At random state 30,the testing accuracy is:- 0.9080112550671722\n",
      "\n",
      "\n",
      "At random state 31,the training accuracy is:- 0.8859036462267695\n",
      "At random state 31,the testing accuracy is:- 0.9284346926567391\n",
      "\n",
      "\n",
      "At random state 32,the training accuracy is:- 0.9172972779129942\n",
      "At random state 32,the testing accuracy is:- 0.7768844650932814\n",
      "\n",
      "\n",
      "At random state 33,the training accuracy is:- 0.8962848476126538\n",
      "At random state 33,the testing accuracy is:- 0.8937288845297463\n",
      "\n",
      "\n",
      "At random state 34,the training accuracy is:- 0.8970495535067476\n",
      "At random state 34,the testing accuracy is:- 0.8925087896627703\n",
      "\n",
      "\n",
      "At random state 35,the training accuracy is:- 0.9149802728230204\n",
      "At random state 35,the testing accuracy is:- 0.7864906125568902\n",
      "\n",
      "\n",
      "At random state 36,the training accuracy is:- 0.8887387365244299\n",
      "At random state 36,the testing accuracy is:- 0.926530749168601\n",
      "\n",
      "\n",
      "At random state 37,the training accuracy is:- 0.8997277119781726\n",
      "At random state 37,the testing accuracy is:- 0.8837033479022515\n",
      "\n",
      "\n",
      "At random state 38,the training accuracy is:- 0.8972213778715169\n",
      "At random state 38,the testing accuracy is:- 0.8927131887797295\n",
      "\n",
      "\n",
      "At random state 39,the training accuracy is:- 0.8989586369412048\n",
      "At random state 39,the testing accuracy is:- 0.8789549979127553\n",
      "\n",
      "\n",
      "At random state 40,the training accuracy is:- 0.920068668721091\n",
      "At random state 40,the testing accuracy is:- 0.7982652261831079\n",
      "\n",
      "\n",
      "At random state 41,the training accuracy is:- 0.9006901704189824\n",
      "At random state 41,the testing accuracy is:- 0.8819813651740448\n",
      "\n",
      "\n",
      "At random state 42,the training accuracy is:- 0.8957008271017818\n",
      "At random state 42,the testing accuracy is:- 0.899438024100912\n",
      "\n",
      "\n",
      "At random state 43,the training accuracy is:- 0.888477223981934\n",
      "At random state 43,the testing accuracy is:- 0.9286102071081018\n",
      "\n",
      "\n",
      "At random state 44,the training accuracy is:- 0.9065895163213828\n",
      "At random state 44,the testing accuracy is:- 0.8310290458396923\n",
      "\n",
      "\n",
      "At random state 45,the training accuracy is:- 0.895947647524022\n",
      "At random state 45,the testing accuracy is:- 0.895588233123361\n",
      "\n",
      "\n",
      "At random state 46,the training accuracy is:- 0.9035142166671978\n",
      "At random state 46,the testing accuracy is:- 0.8508891379360349\n",
      "\n",
      "\n",
      "At random state 47,the training accuracy is:- 0.8986105026216175\n",
      "At random state 47,the testing accuracy is:- 0.8861176124930538\n",
      "\n",
      "\n",
      "At random state 48,the training accuracy is:- 0.8905303930227862\n",
      "At random state 48,the testing accuracy is:- 0.9192264895105909\n",
      "\n",
      "\n",
      "At random state 49,the training accuracy is:- 0.9138424680320801\n",
      "At random state 49,the testing accuracy is:- 0.8236013350803586\n",
      "\n",
      "\n",
      "At random state 50,the training accuracy is:- 0.9013713199191987\n",
      "At random state 50,the testing accuracy is:- 0.8475513251426329\n",
      "\n",
      "\n",
      "At random state 51,the training accuracy is:- 0.8935562677321687\n",
      "At random state 51,the testing accuracy is:- 0.9079126096145105\n",
      "\n",
      "\n",
      "At random state 52,the training accuracy is:- 0.9018280272898133\n",
      "At random state 52,the testing accuracy is:- 0.8811159773607996\n",
      "\n",
      "\n",
      "At random state 53,the training accuracy is:- 0.8887382038237429\n",
      "At random state 53,the testing accuracy is:- 0.9255679198924356\n",
      "\n",
      "\n",
      "At random state 54,the training accuracy is:- 0.8919832932654931\n",
      "At random state 54,the testing accuracy is:- 0.9175053931302266\n",
      "\n",
      "\n",
      "At random state 55,the training accuracy is:- 0.8946672493883487\n",
      "At random state 55,the testing accuracy is:- 0.9017603460127578\n",
      "\n",
      "\n",
      "At random state 56,the training accuracy is:- 0.8989109930720287\n",
      "At random state 56,the testing accuracy is:- 0.8881081877827508\n",
      "\n",
      "\n",
      "At random state 57,the training accuracy is:- 0.8825580314985149\n",
      "At random state 57,the testing accuracy is:- 0.9407051178510067\n",
      "\n",
      "\n",
      "At random state 58,the training accuracy is:- 0.912712289434702\n",
      "At random state 58,the testing accuracy is:- 0.8406715244241625\n",
      "\n",
      "\n",
      "At random state 59,the training accuracy is:- 0.8893082812955636\n",
      "At random state 59,the testing accuracy is:- 0.9251177591187607\n",
      "\n",
      "\n",
      "At random state 60,the training accuracy is:- 0.8924386252509565\n",
      "At random state 60,the testing accuracy is:- 0.9099045150327532\n",
      "\n",
      "\n",
      "At random state 61,the training accuracy is:- 0.8993442759744174\n",
      "At random state 61,the testing accuracy is:- 0.880129502853163\n",
      "\n",
      "\n",
      "At random state 62,the training accuracy is:- 0.9119756650926772\n",
      "At random state 62,the testing accuracy is:- 0.8417719904234859\n",
      "\n",
      "\n",
      "At random state 63,the training accuracy is:- 0.8947112911514465\n",
      "At random state 63,the testing accuracy is:- 0.9039175428258768\n",
      "\n",
      "\n",
      "At random state 64,the training accuracy is:- 0.8977794992748884\n",
      "At random state 64,the testing accuracy is:- 0.8818211467861734\n",
      "\n",
      "\n",
      "At random state 65,the training accuracy is:- 0.8969574133232424\n",
      "At random state 65,the testing accuracy is:- 0.8941749859375304\n",
      "\n",
      "\n",
      "At random state 66,the training accuracy is:- 0.8985647494060172\n",
      "At random state 66,the testing accuracy is:- 0.8898022957140044\n",
      "\n",
      "\n",
      "At random state 67,the training accuracy is:- 0.899436698387886\n",
      "At random state 67,the testing accuracy is:- 0.8820468786272048\n",
      "\n",
      "\n",
      "At random state 68,the training accuracy is:- 0.9001781108442838\n",
      "At random state 68,the testing accuracy is:- 0.869032140309382\n",
      "\n",
      "\n",
      "At random state 69,the training accuracy is:- 0.8870175330531669\n",
      "At random state 69,the testing accuracy is:- 0.923927034148313\n",
      "\n",
      "\n",
      "At random state 70,the training accuracy is:- 0.886231243596853\n",
      "At random state 70,the testing accuracy is:- 0.9260798727325857\n",
      "\n",
      "\n",
      "At random state 71,the training accuracy is:- 0.9163886175032457\n",
      "At random state 71,the testing accuracy is:- 0.8246989403826483\n",
      "\n",
      "\n",
      "At random state 72,the training accuracy is:- 0.8937422087162026\n",
      "At random state 72,the testing accuracy is:- 0.9072541868212967\n",
      "\n",
      "\n",
      "At random state 73,the training accuracy is:- 0.9077573496620701\n",
      "At random state 73,the testing accuracy is:- 0.8412998907053817\n",
      "\n",
      "\n",
      "At random state 74,the training accuracy is:- 0.8979415340515895\n",
      "At random state 74,the testing accuracy is:- 0.8806020302645323\n",
      "\n",
      "\n",
      "At random state 75,the training accuracy is:- 0.8943141208860873\n",
      "At random state 75,the testing accuracy is:- 0.9077086876495712\n",
      "\n",
      "\n",
      "At random state 76,the training accuracy is:- 0.9092025789360757\n",
      "At random state 76,the testing accuracy is:- 0.7535174994730749\n",
      "\n",
      "\n",
      "At random state 77,the training accuracy is:- 0.8859758983122314\n",
      "At random state 77,the testing accuracy is:- 0.9378801632493179\n",
      "\n",
      "\n",
      "At random state 78,the training accuracy is:- 0.8957285947454089\n",
      "At random state 78,the testing accuracy is:- 0.9026908232907814\n",
      "\n",
      "\n",
      "At random state 79,the training accuracy is:- 0.8917194183285055\n",
      "At random state 79,the testing accuracy is:- 0.9047106228248688\n",
      "\n",
      "\n",
      "At random state 80,the training accuracy is:- 0.9161683973913906\n",
      "At random state 80,the testing accuracy is:- 0.8070473986760943\n",
      "\n",
      "\n",
      "At random state 81,the training accuracy is:- 0.9033802332142854\n",
      "At random state 81,the testing accuracy is:- 0.862042389496714\n",
      "\n",
      "\n",
      "At random state 82,the training accuracy is:- 0.9154244887223795\n",
      "At random state 82,the testing accuracy is:- 0.8014727140935161\n",
      "\n",
      "\n",
      "At random state 83,the training accuracy is:- 0.8840310976077721\n",
      "At random state 83,the testing accuracy is:- 0.9373350368424964\n",
      "\n",
      "\n",
      "At random state 84,the training accuracy is:- 0.8951392078054552\n",
      "At random state 84,the testing accuracy is:- 0.9007597814614812\n",
      "\n",
      "\n",
      "At random state 85,the training accuracy is:- 0.9086027174680293\n",
      "At random state 85,the testing accuracy is:- 0.8439638394828848\n",
      "\n",
      "\n",
      "At random state 86,the training accuracy is:- 0.8941525565676501\n",
      "At random state 86,the testing accuracy is:- 0.9100622221201642\n",
      "\n",
      "\n",
      "At random state 87,the training accuracy is:- 0.9118983221676124\n",
      "At random state 87,the testing accuracy is:- 0.7626125810244506\n",
      "\n",
      "\n",
      "At random state 88,the training accuracy is:- 0.9095202869396248\n",
      "At random state 88,the testing accuracy is:- 0.8402068643199276\n",
      "\n",
      "\n",
      "At random state 89,the training accuracy is:- 0.900006853668257\n",
      "At random state 89,the testing accuracy is:- 0.8763063367531692\n",
      "\n",
      "\n",
      "At random state 90,the training accuracy is:- 0.9031056838494878\n",
      "At random state 90,the testing accuracy is:- 0.8515399308497917\n",
      "\n",
      "\n",
      "At random state 91,the training accuracy is:- 0.8873766899072165\n",
      "At random state 91,the testing accuracy is:- 0.9042137225502286\n",
      "\n",
      "\n",
      "At random state 92,the training accuracy is:- 0.8791722270470884\n",
      "At random state 92,the testing accuracy is:- 0.951970719510946\n",
      "\n",
      "\n",
      "At random state 93,the training accuracy is:- 0.8929605913041913\n",
      "At random state 93,the testing accuracy is:- 0.9117655020936757\n",
      "\n",
      "\n",
      "At random state 94,the training accuracy is:- 0.9084398174091196\n",
      "At random state 94,the testing accuracy is:- 0.8559316851679385\n",
      "\n",
      "\n",
      "At random state 95,the training accuracy is:- 0.8935659928494455\n",
      "At random state 95,the testing accuracy is:- 0.8951810793790583\n",
      "\n",
      "\n",
      "At random state 96,the training accuracy is:- 0.9035998291188063\n",
      "At random state 96,the testing accuracy is:- 0.8595641556662492\n",
      "\n",
      "\n",
      "At random state 97,the training accuracy is:- 0.8900751965631104\n",
      "At random state 97,the testing accuracy is:- 0.9118128867084085\n",
      "\n",
      "\n",
      "At random state 98,the training accuracy is:- 0.8819661469883454\n",
      "At random state 98,the testing accuracy is:- 0.9400331814664701\n",
      "\n",
      "\n",
      "At random state 99,the training accuracy is:- 0.890628886292566\n",
      "At random state 99,the testing accuracy is:- 0.9200846680148506\n",
      "\n",
      "\n"
     ]
    }
   ],
   "source": [
    "for i in range(0,100):\n",
    "    x_train,x_test,y_train,y_test=train_test_split(x,y,test_size = 0.2,random_state = i)\n",
    "    lr.fit(x_train,y_train)\n",
    "    pred_train=lr.predict(x_train)\n",
    "    pred_test=lr.predict(x_test)\n",
    "    print(f\"At random state {i},the training accuracy is:- {r2_score(y_train,pred_train)}\")\n",
    "    print(f\"At random state {i},the testing accuracy is:- {r2_score(y_test,pred_test)}\")\n",
    "    print(\"\\n\")\n",
    "    "
   ]
  },
  {
   "cell_type": "code",
   "execution_count": 32,
   "id": "b9dc4f1e",
   "metadata": {},
   "outputs": [
    {
     "name": "stdout",
     "output_type": "stream",
     "text": [
      "Best Accuracy is 0.951970719510946 on random state 92\n"
     ]
    }
   ],
   "source": [
    "maxAcc=0\n",
    "MaxRs=0\n",
    "for i in range(1,100):\n",
    "    x_train,x_test,y_train,y_test=train_test_split(x,y,test_size=.20,random_state=i)\n",
    "    lr.fit(x_train,y_train)\n",
    "    pred_test=lr.predict(x_test)\n",
    "    acc=r2_score(y_test,pred_test)\n",
    "    if acc>maxAcc:\n",
    "        maxAcc=acc\n",
    "        MaxRs=i\n",
    "print(\"Best Accuracy is\",maxAcc,\"on random state\", MaxRs)\n",
    "    "
   ]
  },
  {
   "cell_type": "code",
   "execution_count": 33,
   "id": "3f04ba94",
   "metadata": {},
   "outputs": [],
   "source": [
    "x_train,x_test,y_train,y_test=train_test_split(x,y,test_size=.20,random_state=92)"
   ]
  },
  {
   "cell_type": "code",
   "execution_count": 34,
   "id": "9b0c6344",
   "metadata": {},
   "outputs": [
    {
     "data": {
      "text/plain": [
       "LinearRegression()"
      ]
     },
     "execution_count": 34,
     "metadata": {},
     "output_type": "execute_result"
    }
   ],
   "source": [
    "lr.fit(x_train, y_train)"
   ]
  },
  {
   "cell_type": "code",
   "execution_count": 35,
   "id": "f966adb7",
   "metadata": {},
   "outputs": [
    {
     "name": "stdout",
     "output_type": "stream",
     "text": [
      "Linear coefficients : [0.04575094 0.18557178 0.00103199]\n",
      "Intercept : 2.816070998623159\n"
     ]
    }
   ],
   "source": [
    "print(f\"Linear coefficients : {lr.coef_}\")\n",
    "print(f\"Intercept : {lr.intercept_}\")"
   ]
  },
  {
   "cell_type": "code",
   "execution_count": 36,
   "id": "63bdc108",
   "metadata": {},
   "outputs": [],
   "source": [
    "pred_test=lr.predict(x_test)"
   ]
  },
  {
   "cell_type": "code",
   "execution_count": 37,
   "id": "4131510d",
   "metadata": {},
   "outputs": [
    {
     "name": "stdout",
     "output_type": "stream",
     "text": [
      "0.951970719510946\n"
     ]
    }
   ],
   "source": [
    "print(r2_score(y_test,pred_test))"
   ]
  },
  {
   "cell_type": "code",
   "execution_count": 38,
   "id": "b60a1296",
   "metadata": {},
   "outputs": [
    {
     "name": "stdout",
     "output_type": "stream",
     "text": [
      "Root Mean Squared Error: 1.2179671852402436\n"
     ]
    }
   ],
   "source": [
    "from sklearn import metrics\n",
    "print('Root Mean Squared Error:', np.sqrt(metrics.mean_squared_error(y_test, pred_test)))"
   ]
  },
  {
   "cell_type": "code",
   "execution_count": 39,
   "id": "fc28b6b5",
   "metadata": {},
   "outputs": [
    {
     "name": "stdout",
     "output_type": "stream",
     "text": [
      "                            OLS Regression Results                            \n",
      "==============================================================================\n",
      "Dep. Variable:                      y   R-squared:                       0.897\n",
      "Model:                            OLS   Adj. R-squared:                  0.896\n",
      "Method:                 Least Squares   F-statistic:                     570.3\n",
      "Date:                Sat, 02 Apr 2022   Prob (F-statistic):           1.58e-96\n",
      "Time:                        10:39:10   Log-Likelihood:                -386.18\n",
      "No. Observations:                 200   AIC:                             780.4\n",
      "Df Residuals:                     196   BIC:                             793.6\n",
      "Df Model:                           3                                         \n",
      "Covariance Type:            nonrobust                                         \n",
      "==============================================================================\n",
      "                 coef    std err          t      P>|t|      [0.025      0.975]\n",
      "------------------------------------------------------------------------------\n",
      "const          2.9389      0.312      9.422      0.000       2.324       3.554\n",
      "x1             0.0458      0.001     32.809      0.000       0.043       0.049\n",
      "x2             0.1885      0.009     21.893      0.000       0.172       0.206\n",
      "x3            -0.0010      0.006     -0.177      0.860      -0.013       0.011\n",
      "==============================================================================\n",
      "Omnibus:                       60.414   Durbin-Watson:                   2.084\n",
      "Prob(Omnibus):                  0.000   Jarque-Bera (JB):              151.241\n",
      "Skew:                          -1.327   Prob(JB):                     1.44e-33\n",
      "Kurtosis:                       6.332   Cond. No.                         454.\n",
      "==============================================================================\n",
      "\n",
      "Notes:\n",
      "[1] Standard Errors assume that the covariance matrix of the errors is correctly specified.\n"
     ]
    }
   ],
   "source": [
    "import statsmodels.api as sm\n",
    "\n",
    "x2 = sm.add_constant(x)\n",
    "est = sm.OLS(y, x2)\n",
    "est2 = est.fit()\n",
    "print(est2.summary())"
   ]
  },
  {
   "cell_type": "markdown",
   "id": "b0257edc",
   "metadata": {},
   "source": [
    "# Cross-Validation of the model:"
   ]
  },
  {
   "cell_type": "code",
   "execution_count": 40,
   "id": "199ec6bb",
   "metadata": {},
   "outputs": [
    {
     "name": "stdout",
     "output_type": "stream",
     "text": [
      "at cross fold2 the cv score is 0.8908473589845056 and accuracy score for training is -0.904814605916771 and accuracy for testing is 0.951970719510946\n",
      "\n",
      "\n",
      "at cross fold3 the cv score is 0.8916464591145559 and accuracy score for training is -0.904814605916771 and accuracy for testing is 0.951970719510946\n",
      "\n",
      "\n",
      "at cross fold4 the cv score is 0.8900070660549506 and accuracy score for training is -0.904814605916771 and accuracy for testing is 0.951970719510946\n",
      "\n",
      "\n",
      "at cross fold5 the cv score is 0.8871063495438435 and accuracy score for training is -0.904814605916771 and accuracy for testing is 0.951970719510946\n",
      "\n",
      "\n",
      "at cross fold6 the cv score is 0.8899208882186672 and accuracy score for training is -0.904814605916771 and accuracy for testing is 0.951970719510946\n",
      "\n",
      "\n",
      "at cross fold7 the cv score is 0.8859930219823539 and accuracy score for training is -0.904814605916771 and accuracy for testing is 0.951970719510946\n",
      "\n",
      "\n",
      "at cross fold8 the cv score is 0.8826686689919152 and accuracy score for training is -0.904814605916771 and accuracy for testing is 0.951970719510946\n",
      "\n",
      "\n",
      "at cross fold9 the cv score is 0.8822728227103587 and accuracy score for training is -0.904814605916771 and accuracy for testing is 0.951970719510946\n",
      "\n",
      "\n"
     ]
    }
   ],
   "source": [
    "train_accuracy=r2_score(y_train,pred_train)\n",
    "test_accuracy=r2_score(y_test,pred_test)\n",
    "\n",
    "from sklearn.model_selection import cross_val_score\n",
    "for j in range(2,10):\n",
    "    cv_score=cross_val_score(lr,x,y,cv=j)\n",
    "    cv_mean=cv_score.mean()\n",
    "    print(f\"at cross fold{j} the cv score is { cv_mean} and accuracy score for training is {train_accuracy} and accuracy for testing is { test_accuracy}\")\n",
    "    print(\"\\n\")\n"
   ]
  },
  {
   "cell_type": "code",
   "execution_count": 41,
   "id": "2f74f4b0",
   "metadata": {},
   "outputs": [
    {
     "data": {
      "text/plain": [
       "<function matplotlib.pyplot.show(close=None, block=None)>"
      ]
     },
     "execution_count": 41,
     "metadata": {},
     "output_type": "execute_result"
    },
    {
     "data": {
      "image/png": "[encoded data removed]",
      "text/plain": [
       "<Figure size 576x432 with 1 Axes>"
      ]
     },
     "metadata": {
      "needs_background": "light"
     },
     "output_type": "display_data"
    }
   ],
   "source": [
    "import matplotlib.pyplot as plt\n",
    "plt.figure(figsize=(8,6))\n",
    "plt.scatter(x=y_test,y=pred_test,color='r')\n",
    "plt.plot(y_test,y_test,color='b')\n",
    "plt.xlabel('Actual charges',fontsize=14)\n",
    "plt.ylabel('Predicted charges',fontsize=14)\n",
    "plt.title('Linear Regression',fontsize=18)\n",
    "plt.show"
   ]
  },
  {
   "cell_type": "markdown",
   "id": "c719b358",
   "metadata": {},
   "source": [
    "# Regularization"
   ]
  },
  {
   "cell_type": "code",
   "execution_count": 42,
   "id": "9e936cdc",
   "metadata": {},
   "outputs": [],
   "source": [
    "from sklearn.model_selection import GridSearchCV\n",
    "from sklearn.model_selection import cross_val_score\n",
    "import warnings\n",
    "warnings.filterwarnings('ignore')"
   ]
  },
  {
   "cell_type": "code",
   "execution_count": 43,
   "id": "2cf46fd0",
   "metadata": {},
   "outputs": [
    {
     "name": "stdout",
     "output_type": "stream",
     "text": [
      "{'alpha': 1, 'random_state': 0}\n"
     ]
    }
   ],
   "source": [
    "from sklearn.linear_model import Lasso\n",
    "\n",
    "parameters={'alpha':[.0001,.001,.01,.1,1,10],'random_state':list(range(0,10))}\n",
    "ls=Lasso()\n",
    "clf=GridSearchCV(ls,parameters)\n",
    "clf.fit(x_train,y_train)\n",
    "print(clf.best_params_)"
   ]
  },
  {
   "cell_type": "code",
   "execution_count": 44,
   "id": "8d595e9e",
   "metadata": {},
   "outputs": [
    {
     "data": {
      "text/plain": [
       "87.89807661645716"
      ]
     },
     "execution_count": 44,
     "metadata": {},
     "output_type": "execute_result"
    }
   ],
   "source": [
    "ls=Lasso(alpha=1,random_state=0)\n",
    "ls.fit(x_train,y_train)\n",
    "ls_score_training=ls.score(x_train,y_train)\n",
    "pred_ls=ls.predict(x_test)\n",
    "ls_score_training*100"
   ]
  },
  {
   "cell_type": "code",
   "execution_count": 45,
   "id": "bcf6842d",
   "metadata": {},
   "outputs": [
    {
     "data": {
      "text/plain": [
       "95.14692161714389"
      ]
     },
     "execution_count": 45,
     "metadata": {},
     "output_type": "execute_result"
    }
   ],
   "source": [
    "lss=r2_score(y_test,pred_ls)\n",
    "lss*100"
   ]
  },
  {
   "cell_type": "code",
   "execution_count": 46,
   "id": "4760966c",
   "metadata": {},
   "outputs": [
    {
     "data": {
      "text/plain": [
       "88.82007416256036"
      ]
     },
     "execution_count": 46,
     "metadata": {},
     "output_type": "execute_result"
    }
   ],
   "source": [
    "cv_score=cross_val_score(ls,x,y,cv=5)\n",
    "cv_mean=cv_score.mean()\n",
    "cv_mean*100"
   ]
  },
  {
   "cell_type": "code",
   "execution_count": 47,
   "id": "fdb282e4",
   "metadata": {},
   "outputs": [
    {
     "name": "stdout",
     "output_type": "stream",
     "text": [
      "{'criterion': 'mae', 'max_features': 'auto'}\n"
     ]
    }
   ],
   "source": [
    "from sklearn.model_selection import GridSearchCV\n",
    "from sklearn.ensemble import RandomForestRegressor\n",
    "\n",
    "parameters={'criterion':['mse','mae'],'max_features':[\"auto\",\"sqrt\",\"log2\"]}\n",
    "rf=RandomForestRegressor()\n",
    "clf=GridSearchCV(rf,parameters)\n",
    "clf.fit(x_train,y_train)\n",
    "print(clf.best_params_)"
   ]
  },
  {
   "cell_type": "code",
   "execution_count": 48,
   "id": "0581ff09",
   "metadata": {},
   "outputs": [
    {
     "name": "stdout",
     "output_type": "stream",
     "text": [
      "R2 Score: 98.4774351202872\n",
      "Cross Val Score: 97.63079718162506\n"
     ]
    }
   ],
   "source": [
    "rf= RandomForestRegressor(criterion=\"mae\",max_features=\"auto\")\n",
    "rf.fit(x_train, y_train)\n",
    "rf.score(x_train, y_train)\n",
    "pred_decision = rf.predict(x_test)\n",
    "\n",
    "rfs = r2_score(y_test,pred_decision)\n",
    "print('R2 Score:',rfs*100)\n",
    "\n",
    "rfscore = cross_val_score(rf,x,y,cv=5)\n",
    "rfc = rfscore.mean()\n",
    "print('Cross Val Score:', rfc*100)"
   ]
  },
  {
   "cell_type": "markdown",
   "id": "5eae26b3",
   "metadata": {},
   "source": [
    "# Conclusion"
   ]
  },
  {
   "cell_type": "code",
   "execution_count": 49,
   "id": "c8588df4",
   "metadata": {},
   "outputs": [],
   "source": [
    "import pickle\n",
    "filename='advertising.pkl'\n",
    "pickle.dump(rf,open(filename,'wb'))"
   ]
  },
  {
   "cell_type": "code",
   "execution_count": 50,
   "id": "3d02153e",
   "metadata": {},
   "outputs": [
    {
     "name": "stdout",
     "output_type": "stream",
     "text": [
      "98.4774351202872\n"
     ]
    }
   ],
   "source": [
    "import pickle\n",
    "loaded_model=pickle.load(open('advertising.pkl','rb'))\n",
    "result=loaded_model.score(x_test,y_test)\n",
    "print(result*100)"
   ]
  },
  {
   "cell_type": "code",
   "execution_count": 51,
   "id": "6ca82402",
   "metadata": {},
   "outputs": [],
   "source": [
    "conclusion=pd.DataFrame([loaded_model.predict(x_test)[:],pred_decision[:]],index=[\"Predicted\",\"original\"])"
   ]
  },
  {
   "cell_type": "code",
   "execution_count": 52,
   "id": "76d9734d",
   "metadata": {},
   "outputs": [
    {
     "data": {
      "text/html": [
       "<div>\n",
       "<style scoped>\n",
       "    .dataframe tbody tr th:only-of-type {\n",
       "        vertical-align: middle;\n",
       "    }\n",
       "\n",
       "    .dataframe tbody tr th {\n",
       "        vertical-align: top;\n",
       "    }\n",
       "\n",
       "    .dataframe thead th {\n",
       "        text-align: right;\n",
       "    }\n",
       "</style>\n",
       "<table border=\"1\" class=\"dataframe\">\n",
       "  <thead>\n",
       "    <tr style=\"text-align: right;\">\n",
       "      <th></th>\n",
       "      <th>0</th>\n",
       "      <th>1</th>\n",
       "      <th>2</th>\n",
       "      <th>3</th>\n",
       "      <th>4</th>\n",
       "      <th>5</th>\n",
       "      <th>6</th>\n",
       "      <th>7</th>\n",
       "      <th>8</th>\n",
       "      <th>9</th>\n",
       "      <th>...</th>\n",
       "      <th>30</th>\n",
       "      <th>31</th>\n",
       "      <th>32</th>\n",
       "      <th>33</th>\n",
       "      <th>34</th>\n",
       "      <th>35</th>\n",
       "      <th>36</th>\n",
       "      <th>37</th>\n",
       "      <th>38</th>\n",
       "      <th>39</th>\n",
       "    </tr>\n",
       "  </thead>\n",
       "  <tbody>\n",
       "    <tr>\n",
       "      <th>Predicted</th>\n",
       "      <td>10.131</td>\n",
       "      <td>13.082</td>\n",
       "      <td>9.655</td>\n",
       "      <td>19.478</td>\n",
       "      <td>12.795</td>\n",
       "      <td>16.082</td>\n",
       "      <td>9.641</td>\n",
       "      <td>12.275</td>\n",
       "      <td>9.568</td>\n",
       "      <td>7.432</td>\n",
       "      <td>...</td>\n",
       "      <td>15.152</td>\n",
       "      <td>11.741</td>\n",
       "      <td>17.191</td>\n",
       "      <td>12.068</td>\n",
       "      <td>5.433</td>\n",
       "      <td>19.887</td>\n",
       "      <td>14.521</td>\n",
       "      <td>25.017</td>\n",
       "      <td>12.114</td>\n",
       "      <td>15.417</td>\n",
       "    </tr>\n",
       "    <tr>\n",
       "      <th>original</th>\n",
       "      <td>10.131</td>\n",
       "      <td>13.082</td>\n",
       "      <td>9.655</td>\n",
       "      <td>19.478</td>\n",
       "      <td>12.795</td>\n",
       "      <td>16.082</td>\n",
       "      <td>9.641</td>\n",
       "      <td>12.275</td>\n",
       "      <td>9.568</td>\n",
       "      <td>7.432</td>\n",
       "      <td>...</td>\n",
       "      <td>15.152</td>\n",
       "      <td>11.741</td>\n",
       "      <td>17.191</td>\n",
       "      <td>12.068</td>\n",
       "      <td>5.433</td>\n",
       "      <td>19.887</td>\n",
       "      <td>14.521</td>\n",
       "      <td>25.017</td>\n",
       "      <td>12.114</td>\n",
       "      <td>15.417</td>\n",
       "    </tr>\n",
       "  </tbody>\n",
       "</table>\n",
       "<p>2 rows × 40 columns</p>\n",
       "</div>"
      ],
      "text/plain": [
       "               0       1      2       3       4       5      6       7   \\\n",
       "Predicted  10.131  13.082  9.655  19.478  12.795  16.082  9.641  12.275   \n",
       "original   10.131  13.082  9.655  19.478  12.795  16.082  9.641  12.275   \n",
       "\n",
       "              8      9   ...      30      31      32      33     34      35  \\\n",
       "Predicted  9.568  7.432  ...  15.152  11.741  17.191  12.068  5.433  19.887   \n",
       "original   9.568  7.432  ...  15.152  11.741  17.191  12.068  5.433  19.887   \n",
       "\n",
       "               36      37      38      39  \n",
       "Predicted  14.521  25.017  12.114  15.417  \n",
       "original   14.521  25.017  12.114  15.417  \n",
       "\n",
       "[2 rows x 40 columns]"
      ]
     },
     "execution_count": 52,
     "metadata": {},
     "output_type": "execute_result"
    }
   ],
   "source": [
    "conclusion"
   ]
  },
  {
   "cell_type": "code",
   "execution_count": null,
   "id": "b8eac296",
   "metadata": {},
   "outputs": [],
   "source": []
  }
 ],
 "metadata": {
  "kernelspec": {
   "display_name": "Python 3",
   "language": "python",
   "name": "python3"
  },
  "language_info": {
   "codemirror_mode": {
    "name": "ipython",
    "version": 3
   },
   "file_extension": ".py",
   "mimetype": "text/x-python",
   "name": "python",
   "nbconvert_exporter": "python",
   "pygments_lexer": "ipython3",
   "version": "3.8.8"
  }
 },
 "nbformat": 4,
 "nbformat_minor": 5
}
